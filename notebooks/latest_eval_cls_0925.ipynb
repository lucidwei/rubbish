{
 "cells": [
  {
   "cell_type": "code",
   "execution_count": 1,
   "id": "13524989",
   "metadata": {
    "ExecuteTime": {
     "end_time": "2022-09-25T05:16:55.825708Z",
     "start_time": "2022-09-25T05:16:53.802387Z"
    }
   },
   "outputs": [
    {
     "name": "stderr",
     "output_type": "stream",
     "text": [
      "/Users/Gary/opt/anaconda3/envs/MLenv/lib/python3.9/site-packages/scipy/__init__.py:146: UserWarning: A NumPy version >=1.16.5 and <1.23.0 is required for this version of SciPy (detected version 1.23.3\n",
      "  warnings.warn(f\"A NumPy version >={np_minversion} and <{np_maxversion}\"\n",
      "/Users/Gary/opt/anaconda3/envs/MLenv/lib/python3.9/site-packages/tpot/builtins/__init__.py:36: UserWarning: Warning: optional dependency `torch` is not available. - skipping import of NN models.\n",
      "  warnings.warn(\"Warning: optional dependency `torch` is not available. - skipping import of NN models.\")\n"
     ]
    }
   ],
   "source": [
    "# coding=gbk\n",
    "import os\n",
    "if os.getcwd()[-9:] == 'notebooks':\n",
    "    os.chdir(\"..\")\n",
    "import pickle, datetime, copy\n",
    "from sklearn.model_selection import train_test_split, TimeSeriesSplit\n",
    "import matplotlib.pyplot as plt\n",
    "import pandas as pd\n",
    "import utils, utils_eda, evaluator, utils_train\n",
    "import evaluator as ev\n",
    "from evaluator import Evaluator\n",
    "\n",
    "\n",
    "# Configuration\n",
    "PATH_ORI_DATA = r'C:\\Users\\lucid\\Documents\\长江实习\\课题之自上而下\\data'\n",
    "## 原始数据文件是否已经更新\n",
    "if_update = False\n",
    "## 预处理逻辑(参数)变更/缓存的pickle需要更新时，设为False\n",
    "####一定要注意利用的数据格式，避免用本月行情预测本月行情。\n",
    "use_cache = True\n",
    "if_cls = True\n",
    "## 预处理参数\n",
    "align_to = 'month'\n",
    "use_lag_x = 15\n",
    "begT = '2004-01'\n",
    "endT = datetime.date.today()\n",
    "## 滚动训练次数\n",
    "n_splits = 6"
   ]
  },
  {
   "cell_type": "code",
   "execution_count": 2,
   "id": "ac8bfb17",
   "metadata": {
    "ExecuteTime": {
     "end_time": "2022-09-25T05:16:55.924900Z",
     "start_time": "2022-09-25T05:16:55.835514Z"
    }
   },
   "outputs": [
    {
     "name": "stdout",
     "output_type": "stream",
     "text": [
      "data pickle loaded\n"
     ]
    }
   ],
   "source": [
    "X, y_ret = utils.get_preproc_data(PATH_ORI_DATA, if_update, use_cache, use_lag_x, align_to, begT, endT)\n",
    "if if_cls:\n",
    "    y_cls = utils.reg_to_class(y_ret, 3)\n",
    "    y = y_cls\n",
    "else:\n",
    "    y = y_ret"
   ]
  },
  {
   "cell_type": "code",
   "execution_count": null,
   "id": "3d5acca3",
   "metadata": {
    "ExecuteTime": {
     "start_time": "2022-09-25T05:16:53.800Z"
    },
    "scrolled": true
   },
   "outputs": [
    {
     "name": "stdout",
     "output_type": "stream",
     "text": [
      "/nTRAIN period: 2006-12 -> 2016-01 \n",
      "Start training.......................\n",
      "...initializing MacroFE\n"
     ]
    }
   ],
   "source": [
    "tscv = TimeSeriesSplit(n_splits=n_splits)\n",
    "models_list = {}\n",
    "# 原始的Xy切片之前一定要deepcopy，否则可能莫名其妙篡改原始数据\n",
    "for train_index, test_index in tscv.split(X.copy(deep=True)):\n",
    "    if X.index[len(train_index)] < pd.Period('2014-1'):\n",
    "        continue\n",
    "    else:\n",
    "        X_train, y_train = X.copy(deep=True).iloc[train_index, :], y.copy(deep=True).iloc[train_index, :]\n",
    "        print(\"/nTRAIN period:\", str(X_train.index[0]), '->', str(X_train.index[-1]), \"\\nStart training.......................\")\n",
    "        # 因为每个时间段筛选出的特征不一样，所以必须重新get dump，为了节省时间调试可以False force_train\n",
    "        models = utils_train.get_models_dump(X_train, y_train, version='cls', force_train=False, same_model=True)\n",
    "        models_list[X_train.index[-1]]=models"
   ]
  },
  {
   "cell_type": "code",
   "execution_count": null,
   "id": "6bd31227",
   "metadata": {
    "ExecuteTime": {
     "start_time": "2022-09-25T05:16:53.801Z"
    }
   },
   "outputs": [],
   "source": [
    "evalor_list = []\n",
    "for train_index, test_index in tscv.split(X.copy(deep=True)):\n",
    "    if X.index[len(train_index)] < pd.Period('2014-1'):\n",
    "        continue\n",
    "    else:\n",
    "        X_train, X_test = X.copy(deep=True).iloc[train_index, :], X.copy(deep=True).iloc[test_index, :]\n",
    "        y_train, y_test = y.copy(deep=True).iloc[train_index, :], y.copy(deep=True).iloc[test_index, :]\n",
    "        y_test_ret = y_ret.copy(deep=True).loc[y_test.index, :]\n",
    "        print(\"\\nTEST period:\", str(X_test.index[0]), '->', str(X_test.index[-1]), \"\\nStart testing...........................\")\n",
    "        # 增加测试集长度使得FE得以进行\n",
    "        X_test_long = utils.add_2years_test(X_train, X_test)\n",
    "\n",
    "        evalor = Evaluator(models_list[X_train.index[-1]], if_cls, X_test_long, y_test, y_test_ret, X_train, y_train)\n",
    "        evalor_list.append(evalor)\n",
    "        print(\"Test period:\", str(X_test.index[0]), '->', str(X_test.index[-1]), \"的年化超额收益为:\", str(evalor.excess_ann_ret))\n",
    "        "
   ]
  },
  {
   "cell_type": "code",
   "execution_count": null,
   "id": "f052438f",
   "metadata": {
    "ExecuteTime": {
     "start_time": "2022-09-25T05:16:53.803Z"
    }
   },
   "outputs": [],
   "source": [
    "exc_rets = [i.excess_ann_ret for i in evalor_list]\n",
    "port_ws, bench_ws = [i.port_worth for i in evalor_list], [i.bench_worth for i in evalor_list]\n",
    "scoress = [i.scores for i in evalor_list]"
   ]
  },
  {
   "cell_type": "code",
   "execution_count": null,
   "id": "eb2b4de4",
   "metadata": {
    "ExecuteTime": {
     "start_time": "2022-09-25T05:16:53.805Z"
    }
   },
   "outputs": [],
   "source": [
    "for i in range(0, len(exc_rets)):    \n",
    "    print(str(port_ws[i].index[0]), '->', str(port_ws[i].index[-1]), \"的年化超额收益为:\")\n",
    "    print(exc_rets[i])"
   ]
  },
  {
   "cell_type": "code",
   "execution_count": null,
   "id": "2201a154",
   "metadata": {
    "ExecuteTime": {
     "start_time": "2022-09-25T05:16:53.806Z"
    }
   },
   "outputs": [],
   "source": [
    "score_df = pd.DataFrame()\n",
    "for i in scoress:\n",
    "    score_df = pd.concat([score_df, pd.Series(i)], axis=1)\n",
    "score_df"
   ]
  },
  {
   "cell_type": "code",
   "execution_count": null,
   "id": "3e917689",
   "metadata": {
    "ExecuteTime": {
     "start_time": "2022-09-25T05:16:53.807Z"
    }
   },
   "outputs": [],
   "source": [
    "for id, row in score_df.iterrows():\n",
    "    print(id)\n",
    "    print(row.mean())"
   ]
  },
  {
   "cell_type": "code",
   "execution_count": null,
   "id": "b4995d54",
   "metadata": {
    "ExecuteTime": {
     "start_time": "2022-09-25T05:16:53.809Z"
    }
   },
   "outputs": [],
   "source": [
    "fig, ax = plt.subplots(figsize=(15,8))\n",
    "for pw in port_ws:\n",
    "    pw.columns = ['port_worth']\n",
    "    pw.plot.line(ax=ax, color='r')\n",
    "for bw in bench_ws:\n",
    "    bw.columns = ['bench_worth']\n",
    "    bw.plot(ax=ax, color='b')\n",
    "\n",
    "ax.plot()"
   ]
  },
  {
   "cell_type": "code",
   "execution_count": null,
   "id": "d924fa64",
   "metadata": {
    "ExecuteTime": {
     "start_time": "2022-09-25T05:16:53.811Z"
    }
   },
   "outputs": [],
   "source": [
    "con_pws = ev.get_continue_worth(port_ws)\n",
    "con_bws = ev.get_continue_worth(bench_ws)"
   ]
  },
  {
   "cell_type": "code",
   "execution_count": null,
   "id": "53adba12",
   "metadata": {
    "ExecuteTime": {
     "start_time": "2022-09-25T05:16:53.813Z"
    }
   },
   "outputs": [],
   "source": [
    "fig, ax = plt.subplots(figsize=(15,8))\n",
    "for pw in con_pws:\n",
    "    pw.columns = ['port_worth']\n",
    "    pw.plot.line(ax=ax, color='r')\n",
    "for bw in con_bws:\n",
    "    bw.columns = ['bench_worth']\n",
    "    bw.plot(ax=ax, color='b')\n",
    "\n",
    "ax.plot()"
   ]
  },
  {
   "cell_type": "code",
   "execution_count": null,
   "id": "134f9a93",
   "metadata": {},
   "outputs": [],
   "source": []
  }
 ],
 "metadata": {
  "kernelspec": {
   "display_name": "Python 3 (ipykernel)",
   "language": "python",
   "name": "python3"
  },
  "language_info": {
   "codemirror_mode": {
    "name": "ipython",
    "version": 3
   },
   "file_extension": ".py",
   "mimetype": "text/x-python",
   "name": "python",
   "nbconvert_exporter": "python",
   "pygments_lexer": "ipython3",
   "version": "3.9.13"
  },
  "varInspector": {
   "cols": {
    "lenName": 16,
    "lenType": 16,
    "lenVar": "80"
   },
   "kernels_config": {
    "python": {
     "delete_cmd_postfix": "",
     "delete_cmd_prefix": "del ",
     "library": "var_list.py",
     "varRefreshCmd": "print(var_dic_list())"
    },
    "r": {
     "delete_cmd_postfix": ") ",
     "delete_cmd_prefix": "rm(",
     "library": "var_list.r",
     "varRefreshCmd": "cat(var_dic_list()) "
    }
   },
   "oldHeight": 438,
   "position": {
    "height": "40px",
    "left": "755px",
    "right": "20px",
    "top": "111px",
    "width": "486px"
   },
   "types_to_exclude": [
    "module",
    "function",
    "builtin_function_or_method",
    "instance",
    "_Feature"
   ],
   "varInspector_section_display": "none",
   "window_display": true
  }
 },
 "nbformat": 4,
 "nbformat_minor": 5
}
