{
 "cells": [
  {
   "cell_type": "code",
   "execution_count": 1,
   "id": "13524989",
   "metadata": {
    "ExecuteTime": {
     "end_time": "2022-09-27T01:20:42.123017Z",
     "start_time": "2022-09-27T01:20:35.501009Z"
    }
   },
   "outputs": [
    {
     "data": {
      "application/javascript": [
       "\n",
       "console.log('Starting front end url_querystring_target comm target');\n",
       "const comm = Jupyter.notebook.kernel.comm_manager.new_comm('url_querystring_target', {'init': 1});\n",
       "comm.send({'ipyparams_browser_url': window.location.href});\n",
       "console.log('Sent window.location.href on url_querystring_target comm target');\n",
       "\n",
       "comm.on_msg(function(msg) {\n",
       "    console.log(msg.content.data);\n",
       "});\n"
      ],
      "text/plain": [
       "<IPython.core.display.Javascript object>"
      ]
     },
     "metadata": {},
     "output_type": "display_data"
    },
    {
     "name": "stderr",
     "output_type": "stream",
     "text": [
      "/Users/Gary/opt/anaconda3/envs/MLenv/lib/python3.9/site-packages/scipy/__init__.py:146: UserWarning: A NumPy version >=1.16.5 and <1.23.0 is required for this version of SciPy (detected version 1.23.3\n",
      "  warnings.warn(f\"A NumPy version >={np_minversion} and <{np_maxversion}\"\n",
      "/Users/Gary/opt/anaconda3/envs/MLenv/lib/python3.9/site-packages/tpot/builtins/__init__.py:36: UserWarning: Warning: optional dependency `torch` is not available. - skipping import of NN models.\n",
      "  warnings.warn(\"Warning: optional dependency `torch` is not available. - skipping import of NN models.\")\n"
     ]
    }
   ],
   "source": [
    "# coding=gbk\n",
    "import os\n",
    "if os.getcwd()[-9:] == 'notebooks':\n",
    "    os.chdir(\"..\")\n",
    "import pickle, datetime, copy, ipyparams\n",
    "from sklearn.model_selection import train_test_split, TimeSeriesSplit\n",
    "import matplotlib.pyplot as plt\n",
    "import pandas as pd\n",
    "import utils, utils_eda, evaluator, utils_train\n",
    "import evaluator as ev\n",
    "from evaluator import Evaluator\n",
    "from copy import deepcopy\n",
    "\n",
    "\n",
    "# 文件处理参数\n",
    "PATH_ORI_DATA = r'C:\\Users\\lucid\\Documents\\长江实习\\课题之自上而下\\data'\n",
    "## 原始数据文件是否已经更新\n",
    "if_update = False\n",
    "## 预处理逻辑(参数)变更/缓存的pickle需要更新时，设为False\n",
    "####一定要注意利用的数据格式，避免用本月行情预测本月行情。\n",
    "use_cache = True\n",
    "version = ipyparams.notebook_name.split('.')[0]\n",
    "\n",
    "## 预处理参数\n",
    "if_cls = True\n",
    "align_to = 'month'\n",
    "use_lag_x = 15\n",
    "begT = '2004-01'\n",
    "endT = datetime.date.today()\n",
    "\n",
    "## 滚动训练次数\n",
    "n_splits = 6"
   ]
  },
  {
   "cell_type": "code",
   "execution_count": 2,
   "id": "ac8bfb17",
   "metadata": {
    "ExecuteTime": {
     "end_time": "2022-09-27T01:20:42.227032Z",
     "start_time": "2022-09-27T01:20:42.128522Z"
    }
   },
   "outputs": [
    {
     "name": "stdout",
     "output_type": "stream",
     "text": [
      "data pickle loaded\n"
     ]
    }
   ],
   "source": [
    "X, y_ret = utils.get_preproc_data(PATH_ORI_DATA, if_update, use_cache, use_lag_x, align_to, begT, endT)\n",
    "if if_cls:\n",
    "    y_cls = utils.reg_to_class(y_ret, 3)\n",
    "    y = y_cls\n",
    "else:\n",
    "    y = y_ret"
   ]
  },
  {
   "cell_type": "code",
   "execution_count": 3,
   "id": "3d5acca3",
   "metadata": {
    "ExecuteTime": {
     "end_time": "2022-09-27T02:28:01.482441Z",
     "start_time": "2022-09-27T01:20:42.235533Z"
    },
    "scrolled": true
   },
   "outputs": [
    {
     "name": "stdout",
     "output_type": "stream",
     "text": [
      "/nTRAIN period: 2006-12 -> 2016-01 \n",
      "Start training.......................\n",
      "...initializing MacroFE\n"
     ]
    },
    {
     "name": "stderr",
     "output_type": "stream",
     "text": [
      "/Users/Gary/opt/anaconda3/envs/MLenv/lib/python3.9/site-packages/xgboost/compat.py:36: FutureWarning: pandas.Int64Index is deprecated and will be removed from pandas in a future version. Use pandas.Index with the appropriate dtype instead.\n",
      "  from pandas import MultiIndex, Int64Index\n"
     ]
    },
    {
     "name": "stdout",
     "output_type": "stream",
     "text": [
      "...transforming MacroFE\n",
      "model 0 pickle saved and appended\n",
      "...transforming MacroFE\n",
      "model 1 pickle saved and appended\n",
      "...transforming MacroFE\n",
      "model 2 pickle saved and appended\n",
      "...transforming MacroFE\n",
      "model 3 pickle saved and appended\n",
      "...transforming MacroFE\n",
      "model 4 pickle saved and appended\n",
      "...transforming MacroFE\n",
      "model 5 pickle saved and appended\n",
      "...transforming MacroFE\n",
      "model 6 pickle saved and appended\n",
      "...transforming MacroFE\n",
      "model 7 pickle saved and appended\n",
      "...transforming MacroFE\n",
      "model 8 pickle saved and appended\n",
      "...transforming MacroFE\n",
      "model 9 pickle saved and appended\n",
      "/nTRAIN period: 2006-12 -> 2018-03 \n",
      "Start training.......................\n",
      "...transforming MacroFE\n",
      "model 0 pickle saved and appended\n",
      "...transforming MacroFE\n",
      "model 1 pickle saved and appended\n",
      "...transforming MacroFE\n",
      "model 2 pickle saved and appended\n",
      "...transforming MacroFE\n",
      "model 3 pickle saved and appended\n",
      "...transforming MacroFE\n",
      "model 4 pickle saved and appended\n",
      "...transforming MacroFE\n",
      "model 5 pickle saved and appended\n",
      "...transforming MacroFE\n",
      "model 6 pickle saved and appended\n",
      "...transforming MacroFE\n",
      "model 7 pickle saved and appended\n",
      "...transforming MacroFE\n",
      "model 8 pickle saved and appended\n",
      "...transforming MacroFE\n",
      "model 9 pickle saved and appended\n",
      "/nTRAIN period: 2006-12 -> 2020-05 \n",
      "Start training.......................\n",
      "...transforming MacroFE\n",
      "model 0 pickle saved and appended\n",
      "...transforming MacroFE\n",
      "model 1 pickle saved and appended\n",
      "...transforming MacroFE\n",
      "model 2 pickle saved and appended\n",
      "...transforming MacroFE\n",
      "model 3 pickle saved and appended\n",
      "...transforming MacroFE\n",
      "model 4 pickle saved and appended\n",
      "...transforming MacroFE\n",
      "model 5 pickle saved and appended\n",
      "...transforming MacroFE\n",
      "model 6 pickle saved and appended\n",
      "...transforming MacroFE\n",
      "model 7 pickle saved and appended\n",
      "...transforming MacroFE\n",
      "model 8 pickle saved and appended\n",
      "...transforming MacroFE\n",
      "model 9 pickle saved and appended\n"
     ]
    }
   ],
   "source": [
    "tscv = TimeSeriesSplit(n_splits=n_splits)\n",
    "models_list = {}\n",
    "# 原始的Xy切片之前一定要deepcopy，否则可能莫名其妙篡改原始数据\n",
    "for train_index, test_index in tscv.split(X.copy(deep=True)):\n",
    "    if X.index[len(train_index)] < pd.Period('2014-1'):\n",
    "        continue\n",
    "    else:\n",
    "        X_train, y_train = X.copy(deep=True).iloc[train_index, :], y.copy(deep=True).iloc[train_index, :]\n",
    "        print(\"/nTRAIN period:\", str(X_train.index[0]), '->', str(X_train.index[-1]), \"\\nStart training.......................\")\n",
    "        # 因为每个时间段筛选出的特征不一样，所以必须重新get dump，为了节省时间调试可以False force_train\n",
    "        models = utils_train.get_models_dump(X_train, y_train, pipe='cls', version=version, force_train=True, same_model=True)\n",
    "        models_list[str(X_train.index[-1])]=deepcopy(models)"
   ]
  },
  {
   "cell_type": "code",
   "execution_count": 4,
   "id": "6bd31227",
   "metadata": {
    "ExecuteTime": {
     "end_time": "2022-09-27T02:30:42.930945Z",
     "start_time": "2022-09-27T02:28:01.485101Z"
    }
   },
   "outputs": [
    {
     "name": "stdout",
     "output_type": "stream",
     "text": [
      "\n",
      "TEST period: 2016-02 -> 2018-03 \n",
      "Start testing...........................\n",
      "\n",
      "predicting test set for asset 0\n",
      "...transforming MacroFE\n",
      "第0个资产的样本外 accuracy score: 0.4230769230769231\n",
      "\n",
      "predicting test set for asset 1\n",
      "...transforming MacroFE\n",
      "第1个资产的样本外 accuracy score: 0.46153846153846156\n",
      "\n",
      "predicting test set for asset 2\n",
      "...transforming MacroFE\n",
      "第2个资产的样本外 accuracy score: 0.5384615384615384\n",
      "\n",
      "predicting test set for asset 3\n",
      "...transforming MacroFE\n",
      "第3个资产的样本外 accuracy score: 0.46153846153846156\n",
      "\n",
      "predicting test set for asset 4\n",
      "...transforming MacroFE\n",
      "第4个资产的样本外 accuracy score: 0.38461538461538464\n",
      "\n",
      "predicting test set for asset 5\n",
      "...transforming MacroFE\n",
      "第5个资产的样本外 accuracy score: 0.3076923076923077\n",
      "\n",
      "predicting test set for asset 6\n",
      "...transforming MacroFE\n",
      "第6个资产的样本外 accuracy score: 0.15384615384615385\n",
      "\n",
      "predicting test set for asset 7\n",
      "...transforming MacroFE\n",
      "第7个资产的样本外 accuracy score: 0.19230769230769232\n",
      "\n",
      "predicting test set for asset 8\n",
      "...transforming MacroFE\n",
      "第8个资产的样本外 accuracy score: 0.4230769230769231\n",
      "\n",
      "predicting test set for asset 9\n",
      "...transforming MacroFE\n",
      "第9个资产的样本外 accuracy score: 0.2692307692307692\n",
      "Test period: 2016-02 -> 2018-03 的年化超额收益为: return   -0.131775\n",
      "dtype: float64\n",
      "\n",
      "TEST period: 2018-04 -> 2020-05 \n",
      "Start testing...........................\n",
      "\n",
      "predicting test set for asset 0\n",
      "...transforming MacroFE\n",
      "第0个资产的样本外 accuracy score: 0.46153846153846156\n",
      "\n",
      "predicting test set for asset 1\n",
      "...transforming MacroFE\n",
      "第1个资产的样本外 accuracy score: 0.34615384615384615\n",
      "\n",
      "predicting test set for asset 2\n",
      "...transforming MacroFE\n",
      "第2个资产的样本外 accuracy score: 0.5384615384615384\n",
      "\n",
      "predicting test set for asset 3\n",
      "...transforming MacroFE\n",
      "第3个资产的样本外 accuracy score: 0.5\n",
      "\n",
      "predicting test set for asset 4\n",
      "...transforming MacroFE\n",
      "第4个资产的样本外 accuracy score: 0.23076923076923078\n",
      "\n",
      "predicting test set for asset 5\n",
      "...transforming MacroFE\n",
      "第5个资产的样本外 accuracy score: 0.34615384615384615\n",
      "\n",
      "predicting test set for asset 6\n",
      "...transforming MacroFE\n",
      "第6个资产的样本外 accuracy score: 0.34615384615384615\n",
      "\n",
      "predicting test set for asset 7\n",
      "...transforming MacroFE\n",
      "第7个资产的样本外 accuracy score: 0.2692307692307692\n",
      "\n",
      "predicting test set for asset 8\n",
      "...transforming MacroFE\n",
      "第8个资产的样本外 accuracy score: 0.2692307692307692\n",
      "\n",
      "predicting test set for asset 9\n",
      "...transforming MacroFE\n",
      "第9个资产的样本外 accuracy score: 0.38461538461538464\n",
      "Test period: 2018-04 -> 2020-05 的年化超额收益为: return   -0.026774\n",
      "dtype: float64\n",
      "\n",
      "TEST period: 2020-06 -> 2022-07 \n",
      "Start testing...........................\n",
      "\n",
      "predicting test set for asset 0\n",
      "...transforming MacroFE\n",
      "第0个资产的样本外 accuracy score: 0.3076923076923077\n",
      "\n",
      "predicting test set for asset 1\n",
      "...transforming MacroFE\n",
      "第1个资产的样本外 accuracy score: 0.34615384615384615\n",
      "\n",
      "predicting test set for asset 2\n",
      "...transforming MacroFE\n",
      "第2个资产的样本外 accuracy score: 0.3076923076923077\n",
      "\n",
      "predicting test set for asset 3\n",
      "...transforming MacroFE\n",
      "第3个资产的样本外 accuracy score: 0.2692307692307692\n",
      "\n",
      "predicting test set for asset 4\n",
      "...transforming MacroFE\n",
      "第4个资产的样本外 accuracy score: 0.23076923076923078\n",
      "\n",
      "predicting test set for asset 5\n",
      "...transforming MacroFE\n",
      "第5个资产的样本外 accuracy score: 0.2692307692307692\n",
      "\n",
      "predicting test set for asset 6\n",
      "...transforming MacroFE\n",
      "第6个资产的样本外 accuracy score: 0.2692307692307692\n",
      "\n",
      "predicting test set for asset 7\n",
      "...transforming MacroFE\n",
      "第7个资产的样本外 accuracy score: 0.4230769230769231\n",
      "\n",
      "predicting test set for asset 8\n",
      "...transforming MacroFE\n",
      "第8个资产的样本外 accuracy score: 0.19230769230769232\n",
      "\n",
      "predicting test set for asset 9\n",
      "...transforming MacroFE\n",
      "第9个资产的样本外 accuracy score: 0.3076923076923077\n",
      "Test period: 2020-06 -> 2022-07 的年化超额收益为: return   -0.063603\n",
      "dtype: float64\n"
     ]
    }
   ],
   "source": [
    "evalor_list = []\n",
    "for train_index, test_index in tscv.split(X.copy(deep=True)):\n",
    "    if X.index[len(train_index)] < pd.Period('2014-1'):\n",
    "        continue\n",
    "    else:\n",
    "        X_train, X_test = X.copy(deep=True).iloc[train_index, :], X.copy(deep=True).iloc[test_index, :]\n",
    "        y_train, y_test = y.copy(deep=True).iloc[train_index, :], y.copy(deep=True).iloc[test_index, :]\n",
    "        y_test_ret = y_ret.copy(deep=True).loc[y_test.index, :]\n",
    "        print(\"\\nTEST period:\", str(X_test.index[0]), '->', str(X_test.index[-1]), \"\\nStart testing...........................\")\n",
    "        # 增加测试集长度使得FE得以进行\n",
    "        X_test_long = utils.add_2years_test(X_train, X_test)\n",
    "\n",
    "        evalor = Evaluator(models_list[str(X_train.index[-1])], if_cls, X_test_long, y_test, y_test_ret, X_train, y_train)\n",
    "        evalor_list.append(evalor)\n",
    "        print(\"Test period:\", str(X_test.index[0]), '->', str(X_test.index[-1]), \"的年化超额收益为:\", str(evalor.excess_ann_ret))\n",
    "        "
   ]
  },
  {
   "cell_type": "code",
   "execution_count": 5,
   "id": "f052438f",
   "metadata": {
    "ExecuteTime": {
     "end_time": "2022-09-27T02:30:42.936459Z",
     "start_time": "2022-09-27T02:30:42.932777Z"
    }
   },
   "outputs": [],
   "source": [
    "exc_rets = [i.excess_ann_ret for i in evalor_list]\n",
    "port_ws, bench_ws = [i.port_worth for i in evalor_list], [i.bench_worth for i in evalor_list]\n",
    "scoress = [i.scores for i in evalor_list]"
   ]
  },
  {
   "cell_type": "code",
   "execution_count": 6,
   "id": "eb2b4de4",
   "metadata": {
    "ExecuteTime": {
     "end_time": "2022-09-27T02:30:42.943717Z",
     "start_time": "2022-09-27T02:30:42.938629Z"
    }
   },
   "outputs": [
    {
     "name": "stdout",
     "output_type": "stream",
     "text": [
      "2016-02 -> 2018-03 的年化超额收益为:\n",
      "return   -0.131775\n",
      "dtype: float64\n",
      "2018-04 -> 2020-05 的年化超额收益为:\n",
      "return   -0.026774\n",
      "dtype: float64\n",
      "2020-06 -> 2022-07 的年化超额收益为:\n",
      "return   -0.063603\n",
      "dtype: float64\n"
     ]
    }
   ],
   "source": [
    "for i in range(0, len(exc_rets)):    \n",
    "    print(str(port_ws[i].index[0]), '->', str(port_ws[i].index[-1]), \"的年化超额收益为:\")\n",
    "    print(exc_rets[i])"
   ]
  },
  {
   "cell_type": "code",
   "execution_count": 7,
   "id": "2201a154",
   "metadata": {
    "ExecuteTime": {
     "end_time": "2022-09-27T02:30:42.963831Z",
     "start_time": "2022-09-27T02:30:42.946206Z"
    }
   },
   "outputs": [
    {
     "data": {
      "text/html": [
       "<div>\n",
       "<style scoped>\n",
       "    .dataframe tbody tr th:only-of-type {\n",
       "        vertical-align: middle;\n",
       "    }\n",
       "\n",
       "    .dataframe tbody tr th {\n",
       "        vertical-align: top;\n",
       "    }\n",
       "\n",
       "    .dataframe thead th {\n",
       "        text-align: right;\n",
       "    }\n",
       "</style>\n",
       "<table border=\"1\" class=\"dataframe\">\n",
       "  <thead>\n",
       "    <tr style=\"text-align: right;\">\n",
       "      <th></th>\n",
       "      <th>0</th>\n",
       "      <th>0</th>\n",
       "      <th>0</th>\n",
       "    </tr>\n",
       "  </thead>\n",
       "  <tbody>\n",
       "    <tr>\n",
       "      <th>第0个资产:</th>\n",
       "      <td>0.423077</td>\n",
       "      <td>0.461538</td>\n",
       "      <td>0.307692</td>\n",
       "    </tr>\n",
       "    <tr>\n",
       "      <th>第1个资产:</th>\n",
       "      <td>0.461538</td>\n",
       "      <td>0.346154</td>\n",
       "      <td>0.346154</td>\n",
       "    </tr>\n",
       "    <tr>\n",
       "      <th>第2个资产:</th>\n",
       "      <td>0.538462</td>\n",
       "      <td>0.538462</td>\n",
       "      <td>0.307692</td>\n",
       "    </tr>\n",
       "    <tr>\n",
       "      <th>第3个资产:</th>\n",
       "      <td>0.461538</td>\n",
       "      <td>0.500000</td>\n",
       "      <td>0.269231</td>\n",
       "    </tr>\n",
       "    <tr>\n",
       "      <th>第4个资产:</th>\n",
       "      <td>0.384615</td>\n",
       "      <td>0.230769</td>\n",
       "      <td>0.230769</td>\n",
       "    </tr>\n",
       "    <tr>\n",
       "      <th>第5个资产:</th>\n",
       "      <td>0.307692</td>\n",
       "      <td>0.346154</td>\n",
       "      <td>0.269231</td>\n",
       "    </tr>\n",
       "    <tr>\n",
       "      <th>第6个资产:</th>\n",
       "      <td>0.153846</td>\n",
       "      <td>0.346154</td>\n",
       "      <td>0.269231</td>\n",
       "    </tr>\n",
       "    <tr>\n",
       "      <th>第7个资产:</th>\n",
       "      <td>0.192308</td>\n",
       "      <td>0.269231</td>\n",
       "      <td>0.423077</td>\n",
       "    </tr>\n",
       "    <tr>\n",
       "      <th>第8个资产:</th>\n",
       "      <td>0.423077</td>\n",
       "      <td>0.269231</td>\n",
       "      <td>0.192308</td>\n",
       "    </tr>\n",
       "    <tr>\n",
       "      <th>第9个资产:</th>\n",
       "      <td>0.269231</td>\n",
       "      <td>0.384615</td>\n",
       "      <td>0.307692</td>\n",
       "    </tr>\n",
       "  </tbody>\n",
       "</table>\n",
       "</div>"
      ],
      "text/plain": [
       "               0         0         0\n",
       "第0个资产:  0.423077  0.461538  0.307692\n",
       "第1个资产:  0.461538  0.346154  0.346154\n",
       "第2个资产:  0.538462  0.538462  0.307692\n",
       "第3个资产:  0.461538  0.500000  0.269231\n",
       "第4个资产:  0.384615  0.230769  0.230769\n",
       "第5个资产:  0.307692  0.346154  0.269231\n",
       "第6个资产:  0.153846  0.346154  0.269231\n",
       "第7个资产:  0.192308  0.269231  0.423077\n",
       "第8个资产:  0.423077  0.269231  0.192308\n",
       "第9个资产:  0.269231  0.384615  0.307692"
      ]
     },
     "execution_count": 7,
     "metadata": {},
     "output_type": "execute_result"
    }
   ],
   "source": [
    "score_df = pd.DataFrame()\n",
    "for i in scoress:\n",
    "    score_df = pd.concat([score_df, pd.Series(i)], axis=1)\n",
    "score_df"
   ]
  },
  {
   "cell_type": "code",
   "execution_count": 8,
   "id": "3e917689",
   "metadata": {
    "ExecuteTime": {
     "end_time": "2022-09-27T02:30:42.974389Z",
     "start_time": "2022-09-27T02:30:42.966738Z"
    }
   },
   "outputs": [
    {
     "name": "stdout",
     "output_type": "stream",
     "text": [
      "第0个资产:\n",
      "0.3974358974358974\n",
      "第1个资产:\n",
      "0.3846153846153846\n",
      "第2个资产:\n",
      "0.4615384615384615\n",
      "第3个资产:\n",
      "0.4102564102564103\n",
      "第4个资产:\n",
      "0.2820512820512821\n",
      "第5个资产:\n",
      "0.3076923076923077\n",
      "第6个资产:\n",
      "0.2564102564102564\n",
      "第7个资产:\n",
      "0.2948717948717949\n",
      "第8个资产:\n",
      "0.2948717948717949\n",
      "第9个资产:\n",
      "0.32051282051282054\n"
     ]
    }
   ],
   "source": [
    "for id, row in score_df.iterrows():\n",
    "    print(id)\n",
    "    print(row.mean())"
   ]
  },
  {
   "cell_type": "code",
   "execution_count": 9,
   "id": "b4995d54",
   "metadata": {
    "ExecuteTime": {
     "end_time": "2022-09-27T02:30:43.415234Z",
     "start_time": "2022-09-27T02:30:42.977029Z"
    }
   },
   "outputs": [
    {
     "data": {
      "text/plain": [
       "[]"
      ]
     },
     "execution_count": 9,
     "metadata": {},
     "output_type": "execute_result"
    },
    {
     "data": {
      "image/png": "[encoded data removed]",
      "text/plain": [
       "<Figure size 1500x800 with 1 Axes>"
      ]
     },
     "metadata": {},
     "output_type": "display_data"
    }
   ],
   "source": [
    "fig, ax = plt.subplots(figsize=(15,8))\n",
    "for pw in port_ws:\n",
    "    pw.columns = ['port_worth']\n",
    "    pw.plot.line(ax=ax, color='r')\n",
    "for bw in bench_ws:\n",
    "    bw.columns = ['bench_worth']\n",
    "    bw.plot(ax=ax, color='b')\n",
    "\n",
    "ax.plot()"
   ]
  },
  {
   "cell_type": "code",
   "execution_count": 10,
   "id": "d924fa64",
   "metadata": {
    "ExecuteTime": {
     "end_time": "2022-09-27T02:30:43.426223Z",
     "start_time": "2022-09-27T02:30:43.420045Z"
    }
   },
   "outputs": [],
   "source": [
    "con_pws = ev.get_continue_worth(port_ws)\n",
    "con_bws = ev.get_continue_worth(bench_ws)"
   ]
  },
  {
   "cell_type": "code",
   "execution_count": 11,
   "id": "53adba12",
   "metadata": {
    "ExecuteTime": {
     "end_time": "2022-09-27T02:30:43.789431Z",
     "start_time": "2022-09-27T02:30:43.429292Z"
    }
   },
   "outputs": [
    {
     "data": {
      "text/plain": [
       "[]"
      ]
     },
     "execution_count": 11,
     "metadata": {},
     "output_type": "execute_result"
    },
    {
     "data": {
      "image/png": "[encoded data removed]",
      "text/plain": [
       "<Figure size 1500x800 with 1 Axes>"
      ]
     },
     "metadata": {},
     "output_type": "display_data"
    }
   ],
   "source": [
    "fig, ax = plt.subplots(figsize=(15,8))\n",
    "for pw in con_pws:\n",
    "    pw.columns = ['port_worth']\n",
    "    pw.plot.line(ax=ax, color='r')\n",
    "for bw in con_bws:\n",
    "    bw.columns = ['bench_worth']\n",
    "    bw.plot(ax=ax, color='b')\n",
    "\n",
    "ax.plot()"
   ]
  },
  {
   "cell_type": "code",
   "execution_count": 12,
   "id": "134f9a93",
   "metadata": {
    "ExecuteTime": {
     "end_time": "2022-09-27T02:30:43.796143Z",
     "start_time": "2022-09-27T02:30:43.791161Z"
    }
   },
   "outputs": [
    {
     "data": {
      "text/plain": [
       "dict_keys(['2016-01', '2018-03', '2020-05'])"
      ]
     },
     "execution_count": 12,
     "metadata": {},
     "output_type": "execute_result"
    }
   ],
   "source": [
    "models_list.keys()"
   ]
  },
  {
   "cell_type": "code",
   "execution_count": 13,
   "id": "4430d3b0",
   "metadata": {
    "ExecuteTime": {
     "end_time": "2022-09-27T02:30:43.825025Z",
     "start_time": "2022-09-27T02:30:43.799155Z"
    }
   },
   "outputs": [],
   "source": [
    "values=models_list['2016-01'][9][-1][-1].feature_importances_"
   ]
  },
  {
   "cell_type": "code",
   "execution_count": 14,
   "id": "b3cbcfbf",
   "metadata": {
    "ExecuteTime": {
     "end_time": "2022-09-27T02:30:43.833176Z",
     "start_time": "2022-09-27T02:30:43.829879Z"
    }
   },
   "outputs": [],
   "source": [
    "# values=models_list['2016-01'][9][-1][-1].coef_\n",
    "# values"
   ]
  },
  {
   "cell_type": "code",
   "execution_count": 15,
   "id": "82090320",
   "metadata": {
    "ExecuteTime": {
     "end_time": "2022-09-27T02:30:43.979952Z",
     "start_time": "2022-09-27T02:30:43.835024Z"
    }
   },
   "outputs": [
    {
     "data": {
      "text/plain": [
       "array(['lr1__self__lr0__var391(t-10)G0003650_resid',\n",
       "       'lr1__self__lr0__var584(t-8)S0105896_returns',\n",
       "       'lr1__self__lr0__var391(t-3)G0003650_resid',\n",
       "       'lr1__self__ridge0__var391(t-3)G0003650_resid',\n",
       "       'lr1__self__ridge0__var352(t-1)G1107123_resid',\n",
       "       'lr1__self__ridge0__var391(t-1)G0003650_resid',\n",
       "       'lr1__self__sgd0__var391(t-3)G0003650_resid',\n",
       "       'lr1__self__sgd0__var247(t-1)M5206874_resid',\n",
       "       'lr1__self__sgd0__var391(t-1)G0003650_resid',\n",
       "       'lr1__self__rf0__var455(t-4)G0000035_resid', 'lr1__talibFE__8_mom',\n",
       "       'lr1__talibFE__34_mom', 'lr1__talibFE__50_mom',\n",
       "       'lr1__talibFE__73_mom', 'lr1__talibFE__88_mom',\n",
       "       'lr1__talibFE__112_mom', 'lr1__talibFE__133_mom',\n",
       "       'lr1__talibFE__149_mom', 'lr1__talibFE__172_mom',\n",
       "       'lr1__talibFE__209_mom',\n",
       "       'ridge1__self__lr0__var391(t-10)G0003650_resid',\n",
       "       'ridge1__self__lr0__var584(t-8)S0105896_returns',\n",
       "       'ridge1__self__lr0__var391(t-3)G0003650_resid',\n",
       "       'ridge1__self__ridge0__var391(t-10)G0003650_resid',\n",
       "       'ridge1__self__ridge0__var391(t-3)G0003650_resid',\n",
       "       'ridge1__self__ridge0__var391(t-1)G0003650_resid',\n",
       "       'ridge1__self__sgd0__var391(t-3)G0003650_resid',\n",
       "       'ridge1__self__sgd0__var247(t-1)M5206874_resid',\n",
       "       'ridge1__self__sgd0__var391(t-1)G0003650_resid',\n",
       "       'ridge1__self__rf0__var455(t-4)G0000035_resid',\n",
       "       'ridge1__self__gbr0__var293(t-5)G1112113',\n",
       "       'ridge1__self__mi0__var373(t-15)G0003541_resid',\n",
       "       'ridge1__talibFE__8_mom', 'ridge1__talibFE__50_mom',\n",
       "       'ridge1__talibFE__88_mom', 'ridge1__talibFE__133_mom',\n",
       "       'ridge1__talibFE__154_mom', 'ridge1__talibFE__172_mom',\n",
       "       'ridge1__talibFE__193_mom', 'ridge1__talibFE__209_mom',\n",
       "       'sgd1__self__ridge0__var391(t-1)G0003650_resid',\n",
       "       'sgd1__self__sgd0__var391(t-1)G0003650_resid',\n",
       "       'sgd1__self__sgd0__var424(t-1)G1121997_resid',\n",
       "       'sgd1__self__rf0__var455(t-4)G0000035_resid',\n",
       "       'sgd1__talibFE__28_mom10', 'sgd1__talibFE__28_rsi14',\n",
       "       'sgd1__talibFE__70_mom10', 'sgd1__talibFE__70_rsi14',\n",
       "       'sgd1__talibFE__95_yoy', 'sgd1__talibFE__107_mom10',\n",
       "       'sgd1__talibFE__107_rsi14', 'sgd1__talibFE__116_mom',\n",
       "       'sgd1__talibFE__118_rsi6', 'sgd1__talibFE__127_mom',\n",
       "       'sgd1__talibFE__131_PPO', 'sgd1__talibFE__156_mom',\n",
       "       'sgd1__talibFE__176_PPO', 'sgd1__talibFE__194_rsi6',\n",
       "       'sgd1__talibFE__209_mom', 'sgd1__talibFE__212_PPO',\n",
       "       'rf1__self__gbr0__var364(t-13)G0003799_resid',\n",
       "       'rf1__self__gbr0__var397(t-11)G0003891_resid',\n",
       "       'rf1__self__gbr0__var407(t-2)G0003681_resid',\n",
       "       'rf1__talibFE__17_macdhist ', 'rf1__talibFE__20_rsi14',\n",
       "       'rf1__talibFE__20_rsi6', 'rf1__talibFE__25_rsi14',\n",
       "       'rf1__talibFE__59_mom', 'rf1__talibFE__87_macdhist ',\n",
       "       'rf1__talibFE__91_rsi14', 'rf1__talibFE__101_macdhist ',\n",
       "       'rf1__talibFE__121_rsi14', 'rf1__talibFE__121_rsi6',\n",
       "       'rf1__talibFE__127_mom', 'rf1__talibFE__149_rsi6',\n",
       "       'rf1__talibFE__165_macd', 'rf1__talibFE__170_ema12',\n",
       "       'rf1__talibFE__194_rsi14', 'rf1__talibFE__225_rsi6',\n",
       "       'rf1__talibFE__229_rsi6',\n",
       "       'gbr1__self__ridge0__var391(t-13)G0003650_resid',\n",
       "       'gbr1__self__ridge0__var385(t-12)G0003663_resid',\n",
       "       'gbr1__self__rf0__var51(t-11)M0000545',\n",
       "       'gbr1__self__gbr0__var103(t-13)M5438207_resid',\n",
       "       'gbr1__self__gbr0__var382(t-13)G0003745_resid',\n",
       "       'gbr1__self__gbr0__var106(t-12)M0049802_resid',\n",
       "       'gbr1__self__gbr0__var51(t-11)M0000545',\n",
       "       'gbr1__self__gbr0__var397(t-11)G0003891_resid',\n",
       "       'gbr1__self__gbr0__var111(t-9)M5206731_resid',\n",
       "       'gbr1__self__gbr0__var317(t-8)G1143820',\n",
       "       'gbr1__self__gbr0__var407(t-2)G0003681_resid',\n",
       "       'gbr1__talibFE__29_mom', 'gbr1__talibFE__121_rsi6',\n",
       "       'gbr1__talibFE__122_ema12', 'gbr1__talibFE__127_mom',\n",
       "       'gbr1__talibFE__155_mom10', 'gbr1__talibFE__157_mom',\n",
       "       'gbr1__talibFE__177_mom10', 'gbr1__talibFE__188_rsi6',\n",
       "       'gbr1__talibFE__229_rsi14',\n",
       "       'mi1__self__sgd0__var580(t-5)T1807286_returns',\n",
       "       'mi1__self__mi0__var101(t-15)M5438207',\n",
       "       'mi1__self__mi0__var528(t-14)M0041653',\n",
       "       'mi1__self__mi0__var542(t-13)M0000271_resid',\n",
       "       'mi1__self__mi0__var294(t-12)G1112114',\n",
       "       'mi1__self__mi0__var333(t-12)G0002325_trend',\n",
       "       'mi1__self__mi0__var572(t-11)S0105899_trend',\n",
       "       'mi1__self__mi0__var322(t-9)G1112120_trend',\n",
       "       'mi1__self__mi0__var341(t-8)G1100287',\n",
       "       'mi1__self__mi0__var499(t-6)G0011657_trend',\n",
       "       'mi1__self__mi0__var580(t-5)T1807286_returns',\n",
       "       'mi1__self__mi0__var101(t-3)M5438207',\n",
       "       'mi1__self__mi0__var194(t-3)M0009946',\n",
       "       'mi1__self__mi0__var361(t-3)G0000015_resid',\n",
       "       'mi1__self__mi0__var531(t-3)G1139854',\n",
       "       'mi1__self__mi0__var569(t-1)S0105896_trend',\n",
       "       'mi1__talibFE__154_mom10', 'mi1__talibFE__185_yoy',\n",
       "       'mi1__talibFE__193_mom10', 'mi1__talibFE__219_macd'], dtype=object)"
      ]
     },
     "execution_count": 15,
     "metadata": {},
     "output_type": "execute_result"
    }
   ],
   "source": [
    "names=models_list['2016-01'][9][:-1].get_feature_names_out()\n",
    "names"
   ]
  },
  {
   "cell_type": "code",
   "execution_count": 16,
   "id": "bd17fa5f",
   "metadata": {
    "ExecuteTime": {
     "end_time": "2022-09-27T02:30:43.988573Z",
     "start_time": "2022-09-27T02:30:43.981807Z"
    }
   },
   "outputs": [],
   "source": [
    "fea_imp = pd.DataFrame([names, values], index=['names', 'values'])"
   ]
  },
  {
   "cell_type": "code",
   "execution_count": 17,
   "id": "2d35deb8",
   "metadata": {
    "ExecuteTime": {
     "end_time": "2022-09-27T02:30:44.009067Z",
     "start_time": "2022-09-27T02:30:43.990593Z"
    }
   },
   "outputs": [
    {
     "data": {
      "text/html": [
       "<div>\n",
       "<style scoped>\n",
       "    .dataframe tbody tr th:only-of-type {\n",
       "        vertical-align: middle;\n",
       "    }\n",
       "\n",
       "    .dataframe tbody tr th {\n",
       "        vertical-align: top;\n",
       "    }\n",
       "\n",
       "    .dataframe thead th {\n",
       "        text-align: right;\n",
       "    }\n",
       "</style>\n",
       "<table border=\"1\" class=\"dataframe\">\n",
       "  <thead>\n",
       "    <tr style=\"text-align: right;\">\n",
       "      <th></th>\n",
       "      <th>90</th>\n",
       "      <th>87</th>\n",
       "      <th>62</th>\n",
       "      <th>61</th>\n",
       "      <th>86</th>\n",
       "      <th>71</th>\n",
       "      <th>72</th>\n",
       "      <th>74</th>\n",
       "      <th>99</th>\n",
       "      <th>92</th>\n",
       "      <th>...</th>\n",
       "      <th>103</th>\n",
       "      <th>102</th>\n",
       "      <th>39</th>\n",
       "      <th>21</th>\n",
       "      <th>24</th>\n",
       "      <th>28</th>\n",
       "      <th>1</th>\n",
       "      <th>33</th>\n",
       "      <th>35</th>\n",
       "      <th>65</th>\n",
       "    </tr>\n",
       "  </thead>\n",
       "  <tbody>\n",
       "    <tr>\n",
       "      <th>names</th>\n",
       "      <td>gbr1__self__gbr0__var407(t-2)G0003681_resid</td>\n",
       "      <td>gbr1__self__gbr0__var397(t-11)G0003891_resid</td>\n",
       "      <td>rf1__self__gbr0__var407(t-2)G0003681_resid</td>\n",
       "      <td>rf1__self__gbr0__var397(t-11)G0003891_resid</td>\n",
       "      <td>gbr1__self__gbr0__var51(t-11)M0000545</td>\n",
       "      <td>rf1__talibFE__121_rsi14</td>\n",
       "      <td>rf1__talibFE__121_rsi6</td>\n",
       "      <td>rf1__talibFE__149_rsi6</td>\n",
       "      <td>gbr1__talibFE__229_rsi14</td>\n",
       "      <td>gbr1__talibFE__121_rsi6</td>\n",
       "      <td>...</td>\n",
       "      <td>mi1__self__mi0__var542(t-13)M0000271_resid</td>\n",
       "      <td>mi1__self__mi0__var528(t-14)M0041653</td>\n",
       "      <td>ridge1__talibFE__209_mom</td>\n",
       "      <td>ridge1__self__lr0__var584(t-8)S0105896_returns</td>\n",
       "      <td>ridge1__self__ridge0__var391(t-3)G0003650_resid</td>\n",
       "      <td>ridge1__self__sgd0__var391(t-1)G0003650_resid</td>\n",
       "      <td>lr1__self__lr0__var584(t-8)S0105896_returns</td>\n",
       "      <td>ridge1__talibFE__50_mom</td>\n",
       "      <td>ridge1__talibFE__133_mom</td>\n",
       "      <td>rf1__talibFE__20_rsi6</td>\n",
       "    </tr>\n",
       "    <tr>\n",
       "      <th>values</th>\n",
       "      <td>0.065453</td>\n",
       "      <td>0.065413</td>\n",
       "      <td>0.063973</td>\n",
       "      <td>0.055826</td>\n",
       "      <td>0.052072</td>\n",
       "      <td>0.049672</td>\n",
       "      <td>0.043406</td>\n",
       "      <td>0.038976</td>\n",
       "      <td>0.037782</td>\n",
       "      <td>0.037659</td>\n",
       "      <td>...</td>\n",
       "      <td>0.0</td>\n",
       "      <td>0.0</td>\n",
       "      <td>0.0</td>\n",
       "      <td>0.0</td>\n",
       "      <td>0.0</td>\n",
       "      <td>0.0</td>\n",
       "      <td>0.0</td>\n",
       "      <td>0.0</td>\n",
       "      <td>0.0</td>\n",
       "      <td>0.0</td>\n",
       "    </tr>\n",
       "  </tbody>\n",
       "</table>\n",
       "<p>2 rows × 120 columns</p>\n",
       "</div>"
      ],
      "text/plain": [
       "                                                90   \\\n",
       "names   gbr1__self__gbr0__var407(t-2)G0003681_resid   \n",
       "values                                     0.065453   \n",
       "\n",
       "                                                 87   \\\n",
       "names   gbr1__self__gbr0__var397(t-11)G0003891_resid   \n",
       "values                                      0.065413   \n",
       "\n",
       "                                               62   \\\n",
       "names   rf1__self__gbr0__var407(t-2)G0003681_resid   \n",
       "values                                    0.063973   \n",
       "\n",
       "                                                61   \\\n",
       "names   rf1__self__gbr0__var397(t-11)G0003891_resid   \n",
       "values                                     0.055826   \n",
       "\n",
       "                                          86                       71   \\\n",
       "names   gbr1__self__gbr0__var51(t-11)M0000545  rf1__talibFE__121_rsi14   \n",
       "values                               0.052072                 0.049672   \n",
       "\n",
       "                           72                      74   \\\n",
       "names   rf1__talibFE__121_rsi6  rf1__talibFE__149_rsi6   \n",
       "values                0.043406                0.038976   \n",
       "\n",
       "                             99                       92   ...  \\\n",
       "names   gbr1__talibFE__229_rsi14  gbr1__talibFE__121_rsi6  ...   \n",
       "values                  0.037782                 0.037659  ...   \n",
       "\n",
       "                                               103  \\\n",
       "names   mi1__self__mi0__var542(t-13)M0000271_resid   \n",
       "values                                         0.0   \n",
       "\n",
       "                                         102                       39   \\\n",
       "names   mi1__self__mi0__var528(t-14)M0041653  ridge1__talibFE__209_mom   \n",
       "values                                   0.0                       0.0   \n",
       "\n",
       "                                                   21   \\\n",
       "names   ridge1__self__lr0__var584(t-8)S0105896_returns   \n",
       "values                                             0.0   \n",
       "\n",
       "                                                    24   \\\n",
       "names   ridge1__self__ridge0__var391(t-3)G0003650_resid   \n",
       "values                                              0.0   \n",
       "\n",
       "                                                  28   \\\n",
       "names   ridge1__self__sgd0__var391(t-1)G0003650_resid   \n",
       "values                                            0.0   \n",
       "\n",
       "                                                1                        33   \\\n",
       "names   lr1__self__lr0__var584(t-8)S0105896_returns  ridge1__talibFE__50_mom   \n",
       "values                                          0.0                      0.0   \n",
       "\n",
       "                             35                     65   \n",
       "names   ridge1__talibFE__133_mom  rf1__talibFE__20_rsi6  \n",
       "values                       0.0                    0.0  \n",
       "\n",
       "[2 rows x 120 columns]"
      ]
     },
     "execution_count": 17,
     "metadata": {},
     "output_type": "execute_result"
    }
   ],
   "source": [
    "fea_imp.sort_values(by='values', axis=1, ascending=False)"
   ]
  },
  {
   "cell_type": "code",
   "execution_count": null,
   "id": "d3ee59d6",
   "metadata": {},
   "outputs": [],
   "source": []
  },
  {
   "cell_type": "code",
   "execution_count": 19,
   "id": "eecb36dc",
   "metadata": {
    "ExecuteTime": {
     "end_time": "2022-09-27T02:35:17.266655Z",
     "start_time": "2022-09-27T02:35:17.040466Z"
    }
   },
   "outputs": [
    {
     "data": {
      "text/html": [
       "<div>\n",
       "<style scoped>\n",
       "    .dataframe tbody tr th:only-of-type {\n",
       "        vertical-align: middle;\n",
       "    }\n",
       "\n",
       "    .dataframe tbody tr th {\n",
       "        vertical-align: top;\n",
       "    }\n",
       "\n",
       "    .dataframe thead th {\n",
       "        text-align: right;\n",
       "    }\n",
       "</style>\n",
       "<table border=\"1\" class=\"dataframe\">\n",
       "  <thead>\n",
       "    <tr style=\"text-align: right;\">\n",
       "      <th></th>\n",
       "      <th>80</th>\n",
       "      <th>88</th>\n",
       "      <th>82</th>\n",
       "      <th>84</th>\n",
       "      <th>61</th>\n",
       "      <th>93</th>\n",
       "      <th>77</th>\n",
       "      <th>74</th>\n",
       "      <th>95</th>\n",
       "      <th>72</th>\n",
       "      <th>...</th>\n",
       "      <th>45</th>\n",
       "      <th>32</th>\n",
       "      <th>19</th>\n",
       "      <th>52</th>\n",
       "      <th>29</th>\n",
       "      <th>27</th>\n",
       "      <th>65</th>\n",
       "      <th>48</th>\n",
       "      <th>43</th>\n",
       "      <th>30</th>\n",
       "    </tr>\n",
       "  </thead>\n",
       "  <tbody>\n",
       "    <tr>\n",
       "      <th>names</th>\n",
       "      <td>gbr1__self__lr0__var407(t-2)G0003681_resid</td>\n",
       "      <td>gbr1__self__gbr0__var407(t-2)G0003681_resid</td>\n",
       "      <td>gbr1__self__rf0__var407(t-2)G0003681_resid</td>\n",
       "      <td>gbr1__self__gbr0__var140(t-9)M0074413</td>\n",
       "      <td>rf1__self__rf0__var203(t-2)M0000610_resid</td>\n",
       "      <td>gbr1__talibFE__38_rsi14</td>\n",
       "      <td>rf1__talibFE__194_rsi6</td>\n",
       "      <td>rf1__talibFE__188_rsi14</td>\n",
       "      <td>gbr1__talibFE__99_ema12</td>\n",
       "      <td>rf1__talibFE__124_rsi14</td>\n",
       "      <td>...</td>\n",
       "      <td>sgd1__self__sgd0__var50(t-1)M5567963_resid</td>\n",
       "      <td>ridge1__talibFE__129_mom</td>\n",
       "      <td>lr1__talibFE__214_mom</td>\n",
       "      <td>sgd1__talibFE__111_mom</td>\n",
       "      <td>ridge1__talibFE__109_mom</td>\n",
       "      <td>ridge1__talibFE__78_rsi6</td>\n",
       "      <td>rf1__talibFE__39_mom</td>\n",
       "      <td>sgd1__talibFE__44_mom10</td>\n",
       "      <td>sgd1__self__sgd0__var65(t-11)M0000705</td>\n",
       "      <td>ridge1__talibFE__118_mom</td>\n",
       "    </tr>\n",
       "    <tr>\n",
       "      <th>values</th>\n",
       "      <td>0.10873</td>\n",
       "      <td>0.084827</td>\n",
       "      <td>0.063846</td>\n",
       "      <td>0.058259</td>\n",
       "      <td>0.047706</td>\n",
       "      <td>0.036323</td>\n",
       "      <td>0.035835</td>\n",
       "      <td>0.035491</td>\n",
       "      <td>0.02861</td>\n",
       "      <td>0.027361</td>\n",
       "      <td>...</td>\n",
       "      <td>0.0</td>\n",
       "      <td>0.0</td>\n",
       "      <td>0.0</td>\n",
       "      <td>0.0</td>\n",
       "      <td>0.0</td>\n",
       "      <td>0.0</td>\n",
       "      <td>0.0</td>\n",
       "      <td>0.0</td>\n",
       "      <td>0.0</td>\n",
       "      <td>0.0</td>\n",
       "    </tr>\n",
       "  </tbody>\n",
       "</table>\n",
       "<p>2 rows × 120 columns</p>\n",
       "</div>"
      ],
      "text/plain": [
       "                                                80  \\\n",
       "names   gbr1__self__lr0__var407(t-2)G0003681_resid   \n",
       "values                                     0.10873   \n",
       "\n",
       "                                                 88  \\\n",
       "names   gbr1__self__gbr0__var407(t-2)G0003681_resid   \n",
       "values                                     0.084827   \n",
       "\n",
       "                                                82  \\\n",
       "names   gbr1__self__rf0__var407(t-2)G0003681_resid   \n",
       "values                                    0.063846   \n",
       "\n",
       "                                           84  \\\n",
       "names   gbr1__self__gbr0__var140(t-9)M0074413   \n",
       "values                               0.058259   \n",
       "\n",
       "                                               61                       93  \\\n",
       "names   rf1__self__rf0__var203(t-2)M0000610_resid  gbr1__talibFE__38_rsi14   \n",
       "values                                   0.047706                 0.036323   \n",
       "\n",
       "                            77                       74  \\\n",
       "names   rf1__talibFE__194_rsi6  rf1__talibFE__188_rsi14   \n",
       "values                0.035835                 0.035491   \n",
       "\n",
       "                             95                       72  ...  \\\n",
       "names   gbr1__talibFE__99_ema12  rf1__talibFE__124_rsi14  ...   \n",
       "values                  0.02861                 0.027361  ...   \n",
       "\n",
       "                                                45                        32  \\\n",
       "names   sgd1__self__sgd0__var50(t-1)M5567963_resid  ridge1__talibFE__129_mom   \n",
       "values                                         0.0                       0.0   \n",
       "\n",
       "                           19                      52  \\\n",
       "names   lr1__talibFE__214_mom  sgd1__talibFE__111_mom   \n",
       "values                    0.0                     0.0   \n",
       "\n",
       "                              29                        27  \\\n",
       "names   ridge1__talibFE__109_mom  ridge1__talibFE__78_rsi6   \n",
       "values                       0.0                       0.0   \n",
       "\n",
       "                          65                       48  \\\n",
       "names   rf1__talibFE__39_mom  sgd1__talibFE__44_mom10   \n",
       "values                   0.0                      0.0   \n",
       "\n",
       "                                           43                        30  \n",
       "names   sgd1__self__sgd0__var65(t-11)M0000705  ridge1__talibFE__118_mom  \n",
       "values                                    0.0                       0.0  \n",
       "\n",
       "[2 rows x 120 columns]"
      ]
     },
     "execution_count": 19,
     "metadata": {},
     "output_type": "execute_result"
    }
   ],
   "source": [
    "values=models_list['2018-03'][9][-1][-1].feature_importances_\n",
    "names=models_list['2018-03'][9][:-1].get_feature_names_out()\n",
    "fea_imp = pd.DataFrame([names, values], index=['names', 'values'])\n",
    "fea_imp.sort_values(by='values', axis=1, ascending=False)"
   ]
  },
  {
   "cell_type": "code",
   "execution_count": 20,
   "id": "2e6bf767",
   "metadata": {
    "ExecuteTime": {
     "end_time": "2022-09-27T02:36:18.247343Z",
     "start_time": "2022-09-27T02:36:18.036045Z"
    }
   },
   "outputs": [
    {
     "data": {
      "text/html": [
       "<div>\n",
       "<style scoped>\n",
       "    .dataframe tbody tr th:only-of-type {\n",
       "        vertical-align: middle;\n",
       "    }\n",
       "\n",
       "    .dataframe tbody tr th {\n",
       "        vertical-align: top;\n",
       "    }\n",
       "\n",
       "    .dataframe thead th {\n",
       "        text-align: right;\n",
       "    }\n",
       "</style>\n",
       "<table border=\"1\" class=\"dataframe\">\n",
       "  <thead>\n",
       "    <tr style=\"text-align: right;\">\n",
       "      <th></th>\n",
       "      <th>83</th>\n",
       "      <th>68</th>\n",
       "      <th>69</th>\n",
       "      <th>63</th>\n",
       "      <th>82</th>\n",
       "      <th>89</th>\n",
       "      <th>67</th>\n",
       "      <th>80</th>\n",
       "      <th>64</th>\n",
       "      <th>60</th>\n",
       "      <th>...</th>\n",
       "      <th>52</th>\n",
       "      <th>53</th>\n",
       "      <th>54</th>\n",
       "      <th>55</th>\n",
       "      <th>21</th>\n",
       "      <th>17</th>\n",
       "      <th>8</th>\n",
       "      <th>16</th>\n",
       "      <th>9</th>\n",
       "      <th>100</th>\n",
       "    </tr>\n",
       "  </thead>\n",
       "  <tbody>\n",
       "    <tr>\n",
       "      <th>names</th>\n",
       "      <td>gbr1__self__rf0__var407(t-2)G0003681_resid</td>\n",
       "      <td>rf1__self__gbr0__var407(t-2)G0003681_resid</td>\n",
       "      <td>rf1__self__mi0__var407(t-2)G0003681_resid</td>\n",
       "      <td>rf1__self__ridge0__var385(t-12)G0003663_resid</td>\n",
       "      <td>gbr1__self__rf0__var514(t-6)S0031648_resid</td>\n",
       "      <td>gbr1__self__gbr0__var407(t-2)G0003681_resid</td>\n",
       "      <td>rf1__self__gbr0__var385(t-12)G0003663_resid</td>\n",
       "      <td>gbr1__self__lr0__var339(t-2)G0003878_resid</td>\n",
       "      <td>rf1__self__sgd0__var385(t-12)G0003663_resid</td>\n",
       "      <td>rf1__self__lr0__var385(t-12)G0003663_resid</td>\n",
       "      <td>...</td>\n",
       "      <td>sgd1__talibFE__127_PPO</td>\n",
       "      <td>sgd1__talibFE__139_yoy</td>\n",
       "      <td>sgd1__talibFE__151_mom</td>\n",
       "      <td>sgd1__talibFE__160_yoy</td>\n",
       "      <td>ridge1__self__ridge0__var585(t-15)S0105899_ret...</td>\n",
       "      <td>lr1__talibFE__210_mom</td>\n",
       "      <td>lr1__talibFE__117_mom</td>\n",
       "      <td>lr1__talibFE__193_mom</td>\n",
       "      <td>lr1__talibFE__125_yoy</td>\n",
       "      <td>mi1__self__sgd0__var580(t-5)T1807286_returns</td>\n",
       "    </tr>\n",
       "    <tr>\n",
       "      <th>values</th>\n",
       "      <td>0.097162</td>\n",
       "      <td>0.058307</td>\n",
       "      <td>0.055078</td>\n",
       "      <td>0.054822</td>\n",
       "      <td>0.049463</td>\n",
       "      <td>0.048641</td>\n",
       "      <td>0.047905</td>\n",
       "      <td>0.040571</td>\n",
       "      <td>0.038537</td>\n",
       "      <td>0.034387</td>\n",
       "      <td>...</td>\n",
       "      <td>0.0</td>\n",
       "      <td>0.0</td>\n",
       "      <td>0.0</td>\n",
       "      <td>0.0</td>\n",
       "      <td>0.0</td>\n",
       "      <td>0.0</td>\n",
       "      <td>0.0</td>\n",
       "      <td>0.0</td>\n",
       "      <td>0.0</td>\n",
       "      <td>0.0</td>\n",
       "    </tr>\n",
       "  </tbody>\n",
       "</table>\n",
       "<p>2 rows × 120 columns</p>\n",
       "</div>"
      ],
      "text/plain": [
       "                                               83   \\\n",
       "names   gbr1__self__rf0__var407(t-2)G0003681_resid   \n",
       "values                                    0.097162   \n",
       "\n",
       "                                               68   \\\n",
       "names   rf1__self__gbr0__var407(t-2)G0003681_resid   \n",
       "values                                    0.058307   \n",
       "\n",
       "                                              69   \\\n",
       "names   rf1__self__mi0__var407(t-2)G0003681_resid   \n",
       "values                                   0.055078   \n",
       "\n",
       "                                                  63   \\\n",
       "names   rf1__self__ridge0__var385(t-12)G0003663_resid   \n",
       "values                                       0.054822   \n",
       "\n",
       "                                               82   \\\n",
       "names   gbr1__self__rf0__var514(t-6)S0031648_resid   \n",
       "values                                    0.049463   \n",
       "\n",
       "                                                89   \\\n",
       "names   gbr1__self__gbr0__var407(t-2)G0003681_resid   \n",
       "values                                     0.048641   \n",
       "\n",
       "                                                67   \\\n",
       "names   rf1__self__gbr0__var385(t-12)G0003663_resid   \n",
       "values                                     0.047905   \n",
       "\n",
       "                                               80   \\\n",
       "names   gbr1__self__lr0__var339(t-2)G0003878_resid   \n",
       "values                                    0.040571   \n",
       "\n",
       "                                                64   \\\n",
       "names   rf1__self__sgd0__var385(t-12)G0003663_resid   \n",
       "values                                     0.038537   \n",
       "\n",
       "                                               60   ...  \\\n",
       "names   rf1__self__lr0__var385(t-12)G0003663_resid  ...   \n",
       "values                                    0.034387  ...   \n",
       "\n",
       "                           52                      53   \\\n",
       "names   sgd1__talibFE__127_PPO  sgd1__talibFE__139_yoy   \n",
       "values                     0.0                     0.0   \n",
       "\n",
       "                           54                      55   \\\n",
       "names   sgd1__talibFE__151_mom  sgd1__talibFE__160_yoy   \n",
       "values                     0.0                     0.0   \n",
       "\n",
       "                                                      21   \\\n",
       "names   ridge1__self__ridge0__var585(t-15)S0105899_ret...   \n",
       "values                                                0.0   \n",
       "\n",
       "                          17                     8                      16   \\\n",
       "names   lr1__talibFE__210_mom  lr1__talibFE__117_mom  lr1__talibFE__193_mom   \n",
       "values                    0.0                    0.0                    0.0   \n",
       "\n",
       "                          9                                             100  \n",
       "names   lr1__talibFE__125_yoy  mi1__self__sgd0__var580(t-5)T1807286_returns  \n",
       "values                    0.0                                           0.0  \n",
       "\n",
       "[2 rows x 120 columns]"
      ]
     },
     "execution_count": 20,
     "metadata": {},
     "output_type": "execute_result"
    }
   ],
   "source": [
    "values=models_list['2020-05'][9][-1][-1].feature_importances_\n",
    "names=models_list['2020-05'][9][:-1].get_feature_names_out()\n",
    "fea_imp = pd.DataFrame([names, values], index=['names', 'values'])\n",
    "fea_imp.sort_values(by='values', axis=1, ascending=False)"
   ]
  },
  {
   "cell_type": "code",
   "execution_count": null,
   "id": "e6b2344b",
   "metadata": {},
   "outputs": [],
   "source": []
  }
 ],
 "metadata": {
  "kernelspec": {
   "display_name": "Python 3 (ipykernel)",
   "language": "python",
   "name": "python3"
  },
  "language_info": {
   "codemirror_mode": {
    "name": "ipython",
    "version": 3
   },
   "file_extension": ".py",
   "mimetype": "text/x-python",
   "name": "python",
   "nbconvert_exporter": "python",
   "pygments_lexer": "ipython3",
   "version": "3.9.13"
  },
  "varInspector": {
   "cols": {
    "lenName": 16,
    "lenType": 16,
    "lenVar": "80"
   },
   "kernels_config": {
    "python": {
     "delete_cmd_postfix": "",
     "delete_cmd_prefix": "del ",
     "library": "var_list.py",
     "varRefreshCmd": "print(var_dic_list())"
    },
    "r": {
     "delete_cmd_postfix": ") ",
     "delete_cmd_prefix": "rm(",
     "library": "var_list.r",
     "varRefreshCmd": "cat(var_dic_list()) "
    }
   },
   "oldHeight": 438,
   "position": {
    "height": "40px",
    "left": "715px",
    "right": "20px",
    "top": "59px",
    "width": "486px"
   },
   "types_to_exclude": [
    "module",
    "function",
    "builtin_function_or_method",
    "instance",
    "_Feature"
   ],
   "varInspector_section_display": "none",
   "window_display": true
  }
 },
 "nbformat": 4,
 "nbformat_minor": 5
}
