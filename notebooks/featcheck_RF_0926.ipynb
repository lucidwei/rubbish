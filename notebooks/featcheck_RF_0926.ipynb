{
 "cells": [
  {
   "cell_type": "code",
   "execution_count": 1,
   "id": "13524989",
   "metadata": {
    "ExecuteTime": {
     "end_time": "2022-09-25T13:04:05.374310Z",
     "start_time": "2022-09-25T13:04:02.496972Z"
    }
   },
   "outputs": [
    {
     "name": "stderr",
     "output_type": "stream",
     "text": [
      "/Users/Gary/opt/anaconda3/envs/MLenv/lib/python3.9/site-packages/scipy/__init__.py:146: UserWarning: A NumPy version >=1.16.5 and <1.23.0 is required for this version of SciPy (detected version 1.23.3\n",
      "  warnings.warn(f\"A NumPy version >={np_minversion} and <{np_maxversion}\"\n",
      "/Users/Gary/opt/anaconda3/envs/MLenv/lib/python3.9/site-packages/tpot/builtins/__init__.py:36: UserWarning: Warning: optional dependency `torch` is not available. - skipping import of NN models.\n",
      "  warnings.warn(\"Warning: optional dependency `torch` is not available. - skipping import of NN models.\")\n"
     ]
    }
   ],
   "source": [
    "# coding=gbk\n",
    "import os\n",
    "if os.getcwd()[-9:] == 'notebooks':\n",
    "    os.chdir(\"..\")\n",
    "import pickle, datetime, copy, ipyparams\n",
    "from sklearn.model_selection import train_test_split, TimeSeriesSplit\n",
    "import matplotlib.pyplot as plt\n",
    "import pandas as pd\n",
    "import utils, utils_eda, evaluator, utils_train\n",
    "import evaluator as ev\n",
    "from evaluator import Evaluator\n",
    "\n",
    "\n",
    "# 文件处理参数\n",
    "PATH_ORI_DATA = r'C:\\Users\\lucid\\Documents\\长江实习\\课题之自上而下\\data'\n",
    "## 原始数据文件是否已经更新\n",
    "if_update = False\n",
    "## 预处理逻辑(参数)变更/缓存的pickle需要更新时，设为False\n",
    "####一定要注意利用的数据格式，避免用本月行情预测本月行情。\n",
    "use_cache = True\n",
    "version = ipyparams.notebook_name\n",
    "\n",
    "## 预处理参数\n",
    "if_cls = True\n",
    "align_to = 'month'\n",
    "use_lag_x = 15\n",
    "begT = '2004-01'\n",
    "endT = datetime.date.today()\n",
    "\n",
    "## 滚动训练次数\n",
    "n_splits = 6"
   ]
  },
  {
   "cell_type": "code",
   "execution_count": 2,
   "id": "ac8bfb17",
   "metadata": {
    "ExecuteTime": {
     "end_time": "2022-09-25T13:04:05.531613Z",
     "start_time": "2022-09-25T13:04:05.381381Z"
    }
   },
   "outputs": [
    {
     "name": "stdout",
     "output_type": "stream",
     "text": [
      "data pickle loaded\n"
     ]
    }
   ],
   "source": [
    "X, y_ret = utils.get_preproc_data(PATH_ORI_DATA, if_update, use_cache, use_lag_x, align_to, begT, endT)\n",
    "if if_cls:\n",
    "    y_cls = utils.reg_to_class(y_ret, 3)\n",
    "    y = y_cls\n",
    "else:\n",
    "    y = y_ret"
   ]
  },
  {
   "cell_type": "code",
   "execution_count": 3,
   "id": "3d5acca3",
   "metadata": {
    "ExecuteTime": {
     "end_time": "2022-09-25T14:11:29.324045Z",
     "start_time": "2022-09-25T13:04:05.545668Z"
    },
    "scrolled": true
   },
   "outputs": [
    {
     "name": "stdout",
     "output_type": "stream",
     "text": [
      "/nTRAIN period: 2006-12 -> 2016-01 \n",
      "Start training.......................\n",
      "...initializing MacroFE\n"
     ]
    },
    {
     "name": "stderr",
     "output_type": "stream",
     "text": [
      "/Users/Gary/opt/anaconda3/envs/MLenv/lib/python3.9/site-packages/xgboost/compat.py:36: FutureWarning: pandas.Int64Index is deprecated and will be removed from pandas in a future version. Use pandas.Index with the appropriate dtype instead.\n",
      "  from pandas import MultiIndex, Int64Index\n"
     ]
    },
    {
     "name": "stdout",
     "output_type": "stream",
     "text": [
      "...transforming MacroFE\n",
      "model 0 pickle saved and appended\n",
      "...transforming MacroFE\n",
      "model 1 pickle saved and appended\n",
      "...transforming MacroFE\n",
      "model 2 pickle saved and appended\n",
      "...transforming MacroFE\n",
      "model 3 pickle saved and appended\n",
      "...transforming MacroFE\n",
      "model 4 pickle saved and appended\n",
      "...transforming MacroFE\n",
      "model 5 pickle saved and appended\n",
      "...transforming MacroFE\n",
      "model 6 pickle saved and appended\n",
      "...transforming MacroFE\n",
      "model 7 pickle saved and appended\n",
      "...transforming MacroFE\n",
      "model 8 pickle saved and appended\n",
      "...transforming MacroFE\n",
      "model 9 pickle saved and appended\n",
      "/nTRAIN period: 2006-12 -> 2018-03 \n",
      "Start training.......................\n",
      "...transforming MacroFE\n",
      "model 0 pickle saved and appended\n",
      "...transforming MacroFE\n",
      "model 1 pickle saved and appended\n",
      "...transforming MacroFE\n",
      "model 2 pickle saved and appended\n",
      "...transforming MacroFE\n",
      "model 3 pickle saved and appended\n",
      "...transforming MacroFE\n",
      "model 4 pickle saved and appended\n",
      "...transforming MacroFE\n",
      "model 5 pickle saved and appended\n",
      "...transforming MacroFE\n",
      "model 6 pickle saved and appended\n",
      "...transforming MacroFE\n",
      "model 7 pickle saved and appended\n",
      "...transforming MacroFE\n",
      "model 8 pickle saved and appended\n",
      "...transforming MacroFE\n",
      "model 9 pickle saved and appended\n",
      "/nTRAIN period: 2006-12 -> 2020-05 \n",
      "Start training.......................\n",
      "...transforming MacroFE\n",
      "model 0 pickle saved and appended\n",
      "...transforming MacroFE\n",
      "model 1 pickle saved and appended\n",
      "...transforming MacroFE\n",
      "model 2 pickle saved and appended\n",
      "...transforming MacroFE\n",
      "model 3 pickle saved and appended\n",
      "...transforming MacroFE\n",
      "model 4 pickle saved and appended\n",
      "...transforming MacroFE\n",
      "model 5 pickle saved and appended\n",
      "...transforming MacroFE\n",
      "model 6 pickle saved and appended\n",
      "...transforming MacroFE\n",
      "model 7 pickle saved and appended\n",
      "...transforming MacroFE\n",
      "model 8 pickle saved and appended\n",
      "...transforming MacroFE\n",
      "model 9 pickle saved and appended\n"
     ]
    }
   ],
   "source": [
    "tscv = TimeSeriesSplit(n_splits=n_splits)\n",
    "models_list = {}\n",
    "# 原始的Xy切片之前一定要deepcopy，否则可能莫名其妙篡改原始数据\n",
    "for train_index, test_index in tscv.split(X.copy(deep=True)):\n",
    "    if X.index[len(train_index)] < pd.Period('2014-1'):\n",
    "        continue\n",
    "    else:\n",
    "        X_train, y_train = X.copy(deep=True).iloc[train_index, :], y.copy(deep=True).iloc[train_index, :]\n",
    "        print(\"/nTRAIN period:\", str(X_train.index[0]), '->', str(X_train.index[-1]), \"\\nStart training.......................\")\n",
    "        # 因为每个时间段筛选出的特征不一样，所以必须重新get dump，为了节省时间调试可以False force_train\n",
    "        models = utils_train.get_models_dump(X_train, y_train, pipe='cls', version=version, force_train=True, same_model=True)\n",
    "        models_list[str(X_train.index[-1])]=models"
   ]
  },
  {
   "cell_type": "code",
   "execution_count": 4,
   "id": "6bd31227",
   "metadata": {
    "ExecuteTime": {
     "end_time": "2022-09-25T14:14:11.746176Z",
     "start_time": "2022-09-25T14:11:29.327462Z"
    }
   },
   "outputs": [
    {
     "name": "stdout",
     "output_type": "stream",
     "text": [
      "\n",
      "TEST period: 2016-02 -> 2018-03 \n",
      "Start testing...........................\n",
      "\n",
      "predicting test set for asset 0\n",
      "...transforming MacroFE\n",
      "第0个资产的样本外 accuracy score: 0.38461538461538464\n",
      "\n",
      "predicting test set for asset 1\n",
      "...transforming MacroFE\n",
      "第1个资产的样本外 accuracy score: 0.5\n",
      "\n",
      "predicting test set for asset 2\n",
      "...transforming MacroFE\n",
      "第2个资产的样本外 accuracy score: 0.46153846153846156\n",
      "\n",
      "predicting test set for asset 3\n",
      "...transforming MacroFE\n",
      "第3个资产的样本外 accuracy score: 0.34615384615384615\n",
      "\n",
      "predicting test set for asset 4\n",
      "...transforming MacroFE\n",
      "第4个资产的样本外 accuracy score: 0.19230769230769232\n",
      "\n",
      "predicting test set for asset 5\n",
      "...transforming MacroFE\n",
      "第5个资产的样本外 accuracy score: 0.15384615384615385\n",
      "\n",
      "predicting test set for asset 6\n",
      "...transforming MacroFE\n",
      "第6个资产的样本外 accuracy score: 0.34615384615384615\n",
      "\n",
      "predicting test set for asset 7\n",
      "...transforming MacroFE\n",
      "第7个资产的样本外 accuracy score: 0.3076923076923077\n",
      "\n",
      "predicting test set for asset 8\n",
      "...transforming MacroFE\n",
      "第8个资产的样本外 accuracy score: 0.4230769230769231\n",
      "\n",
      "predicting test set for asset 9\n",
      "...transforming MacroFE\n",
      "第9个资产的样本外 accuracy score: 0.8461538461538461\n",
      "Test period: 2016-02 -> 2018-03 的年化超额收益为: return   -0.051336\n",
      "dtype: float64\n",
      "\n",
      "TEST period: 2018-04 -> 2020-05 \n",
      "Start testing...........................\n",
      "\n",
      "predicting test set for asset 0\n",
      "...transforming MacroFE\n",
      "第0个资产的样本外 accuracy score: 0.4230769230769231\n",
      "\n",
      "predicting test set for asset 1\n",
      "...transforming MacroFE\n",
      "第1个资产的样本外 accuracy score: 0.5\n",
      "\n",
      "predicting test set for asset 2\n",
      "...transforming MacroFE\n",
      "第2个资产的样本外 accuracy score: 0.38461538461538464\n",
      "\n",
      "predicting test set for asset 3\n",
      "...transforming MacroFE\n",
      "第3个资产的样本外 accuracy score: 0.3076923076923077\n",
      "\n",
      "predicting test set for asset 4\n",
      "...transforming MacroFE\n",
      "第4个资产的样本外 accuracy score: 0.19230769230769232\n",
      "\n",
      "predicting test set for asset 5\n",
      "...transforming MacroFE\n",
      "第5个资产的样本外 accuracy score: 0.2692307692307692\n",
      "\n",
      "predicting test set for asset 6\n",
      "...transforming MacroFE\n",
      "第6个资产的样本外 accuracy score: 0.5769230769230769\n",
      "\n",
      "predicting test set for asset 7\n",
      "...transforming MacroFE\n",
      "第7个资产的样本外 accuracy score: 0.6538461538461539\n",
      "\n",
      "predicting test set for asset 8\n",
      "...transforming MacroFE\n",
      "第8个资产的样本外 accuracy score: 0.2692307692307692\n",
      "\n",
      "predicting test set for asset 9\n",
      "...transforming MacroFE\n",
      "第9个资产的样本外 accuracy score: 0.8846153846153846\n",
      "Test period: 2018-04 -> 2020-05 的年化超额收益为: return    0.052644\n",
      "dtype: float64\n",
      "\n",
      "TEST period: 2020-06 -> 2022-07 \n",
      "Start testing...........................\n",
      "\n",
      "predicting test set for asset 0\n",
      "...transforming MacroFE\n",
      "第0个资产的样本外 accuracy score: 0.2692307692307692\n",
      "\n",
      "predicting test set for asset 1\n",
      "...transforming MacroFE\n",
      "第1个资产的样本外 accuracy score: 0.4230769230769231\n",
      "\n",
      "predicting test set for asset 2\n",
      "...transforming MacroFE\n",
      "第2个资产的样本外 accuracy score: 0.23076923076923078\n",
      "\n",
      "predicting test set for asset 3\n",
      "...transforming MacroFE\n",
      "第3个资产的样本外 accuracy score: 0.15384615384615385\n",
      "\n",
      "predicting test set for asset 4\n",
      "...transforming MacroFE\n",
      "第4个资产的样本外 accuracy score: 0.34615384615384615\n",
      "\n",
      "predicting test set for asset 5\n",
      "...transforming MacroFE\n",
      "第5个资产的样本外 accuracy score: 0.19230769230769232\n",
      "\n",
      "predicting test set for asset 6\n",
      "...transforming MacroFE\n",
      "第6个资产的样本外 accuracy score: 0.38461538461538464\n",
      "\n",
      "predicting test set for asset 7\n",
      "...transforming MacroFE\n",
      "第7个资产的样本外 accuracy score: 0.4230769230769231\n",
      "\n",
      "predicting test set for asset 8\n",
      "...transforming MacroFE\n",
      "第8个资产的样本外 accuracy score: 0.2692307692307692\n",
      "\n",
      "predicting test set for asset 9\n",
      "...transforming MacroFE\n",
      "第9个资产的样本外 accuracy score: 0.34615384615384615\n",
      "Test period: 2020-06 -> 2022-07 的年化超额收益为: return   -0.039432\n",
      "dtype: float64\n"
     ]
    }
   ],
   "source": [
    "evalor_list = []\n",
    "for train_index, test_index in tscv.split(X.copy(deep=True)):\n",
    "    if X.index[len(train_index)] < pd.Period('2014-1'):\n",
    "        continue\n",
    "    else:\n",
    "        X_train, X_test = X.copy(deep=True).iloc[train_index, :], X.copy(deep=True).iloc[test_index, :]\n",
    "        y_train, y_test = y.copy(deep=True).iloc[train_index, :], y.copy(deep=True).iloc[test_index, :]\n",
    "        y_test_ret = y_ret.copy(deep=True).loc[y_test.index, :]\n",
    "        print(\"\\nTEST period:\", str(X_test.index[0]), '->', str(X_test.index[-1]), \"\\nStart testing...........................\")\n",
    "        # 增加测试集长度使得FE得以进行\n",
    "        X_test_long = utils.add_2years_test(X_train, X_test)\n",
    "\n",
    "        evalor = Evaluator(models_list[X_train.index[-1]], if_cls, X_test_long, y_test, y_test_ret, X_train, y_train)\n",
    "        evalor_list.append(evalor)\n",
    "        print(\"Test period:\", str(X_test.index[0]), '->', str(X_test.index[-1]), \"的年化超额收益为:\", str(evalor.excess_ann_ret))\n",
    "        "
   ]
  },
  {
   "cell_type": "code",
   "execution_count": 5,
   "id": "f052438f",
   "metadata": {
    "ExecuteTime": {
     "end_time": "2022-09-25T14:14:11.752818Z",
     "start_time": "2022-09-25T14:14:11.749310Z"
    }
   },
   "outputs": [],
   "source": [
    "exc_rets = [i.excess_ann_ret for i in evalor_list]\n",
    "port_ws, bench_ws = [i.port_worth for i in evalor_list], [i.bench_worth for i in evalor_list]\n",
    "scoress = [i.scores for i in evalor_list]"
   ]
  },
  {
   "cell_type": "code",
   "execution_count": 6,
   "id": "eb2b4de4",
   "metadata": {
    "ExecuteTime": {
     "end_time": "2022-09-25T14:14:11.761244Z",
     "start_time": "2022-09-25T14:14:11.754961Z"
    }
   },
   "outputs": [
    {
     "name": "stdout",
     "output_type": "stream",
     "text": [
      "2016-02 -> 2018-03 的年化超额收益为:\n",
      "return   -0.051336\n",
      "dtype: float64\n",
      "2018-04 -> 2020-05 的年化超额收益为:\n",
      "return    0.052644\n",
      "dtype: float64\n",
      "2020-06 -> 2022-07 的年化超额收益为:\n",
      "return   -0.039432\n",
      "dtype: float64\n"
     ]
    }
   ],
   "source": [
    "for i in range(0, len(exc_rets)):    \n",
    "    print(str(port_ws[i].index[0]), '->', str(port_ws[i].index[-1]), \"的年化超额收益为:\")\n",
    "    print(exc_rets[i])"
   ]
  },
  {
   "cell_type": "code",
   "execution_count": 7,
   "id": "2201a154",
   "metadata": {
    "ExecuteTime": {
     "end_time": "2022-09-25T14:14:11.793009Z",
     "start_time": "2022-09-25T14:14:11.764278Z"
    }
   },
   "outputs": [
    {
     "data": {
      "text/html": [
       "<div>\n",
       "<style scoped>\n",
       "    .dataframe tbody tr th:only-of-type {\n",
       "        vertical-align: middle;\n",
       "    }\n",
       "\n",
       "    .dataframe tbody tr th {\n",
       "        vertical-align: top;\n",
       "    }\n",
       "\n",
       "    .dataframe thead th {\n",
       "        text-align: right;\n",
       "    }\n",
       "</style>\n",
       "<table border=\"1\" class=\"dataframe\">\n",
       "  <thead>\n",
       "    <tr style=\"text-align: right;\">\n",
       "      <th></th>\n",
       "      <th>0</th>\n",
       "      <th>0</th>\n",
       "      <th>0</th>\n",
       "    </tr>\n",
       "  </thead>\n",
       "  <tbody>\n",
       "    <tr>\n",
       "      <th>第0个资产:</th>\n",
       "      <td>0.384615</td>\n",
       "      <td>0.423077</td>\n",
       "      <td>0.269231</td>\n",
       "    </tr>\n",
       "    <tr>\n",
       "      <th>第1个资产:</th>\n",
       "      <td>0.500000</td>\n",
       "      <td>0.500000</td>\n",
       "      <td>0.423077</td>\n",
       "    </tr>\n",
       "    <tr>\n",
       "      <th>第2个资产:</th>\n",
       "      <td>0.461538</td>\n",
       "      <td>0.384615</td>\n",
       "      <td>0.230769</td>\n",
       "    </tr>\n",
       "    <tr>\n",
       "      <th>第3个资产:</th>\n",
       "      <td>0.346154</td>\n",
       "      <td>0.307692</td>\n",
       "      <td>0.153846</td>\n",
       "    </tr>\n",
       "    <tr>\n",
       "      <th>第4个资产:</th>\n",
       "      <td>0.192308</td>\n",
       "      <td>0.192308</td>\n",
       "      <td>0.346154</td>\n",
       "    </tr>\n",
       "    <tr>\n",
       "      <th>第5个资产:</th>\n",
       "      <td>0.153846</td>\n",
       "      <td>0.269231</td>\n",
       "      <td>0.192308</td>\n",
       "    </tr>\n",
       "    <tr>\n",
       "      <th>第6个资产:</th>\n",
       "      <td>0.346154</td>\n",
       "      <td>0.576923</td>\n",
       "      <td>0.384615</td>\n",
       "    </tr>\n",
       "    <tr>\n",
       "      <th>第7个资产:</th>\n",
       "      <td>0.307692</td>\n",
       "      <td>0.653846</td>\n",
       "      <td>0.423077</td>\n",
       "    </tr>\n",
       "    <tr>\n",
       "      <th>第8个资产:</th>\n",
       "      <td>0.423077</td>\n",
       "      <td>0.269231</td>\n",
       "      <td>0.269231</td>\n",
       "    </tr>\n",
       "    <tr>\n",
       "      <th>第9个资产:</th>\n",
       "      <td>0.846154</td>\n",
       "      <td>0.884615</td>\n",
       "      <td>0.346154</td>\n",
       "    </tr>\n",
       "  </tbody>\n",
       "</table>\n",
       "</div>"
      ],
      "text/plain": [
       "               0         0         0\n",
       "第0个资产:  0.384615  0.423077  0.269231\n",
       "第1个资产:  0.500000  0.500000  0.423077\n",
       "第2个资产:  0.461538  0.384615  0.230769\n",
       "第3个资产:  0.346154  0.307692  0.153846\n",
       "第4个资产:  0.192308  0.192308  0.346154\n",
       "第5个资产:  0.153846  0.269231  0.192308\n",
       "第6个资产:  0.346154  0.576923  0.384615\n",
       "第7个资产:  0.307692  0.653846  0.423077\n",
       "第8个资产:  0.423077  0.269231  0.269231\n",
       "第9个资产:  0.846154  0.884615  0.346154"
      ]
     },
     "execution_count": 7,
     "metadata": {},
     "output_type": "execute_result"
    }
   ],
   "source": [
    "score_df = pd.DataFrame()\n",
    "for i in scoress:\n",
    "    score_df = pd.concat([score_df, pd.Series(i)], axis=1)\n",
    "score_df"
   ]
  },
  {
   "cell_type": "code",
   "execution_count": 8,
   "id": "3e917689",
   "metadata": {
    "ExecuteTime": {
     "end_time": "2022-09-25T14:14:11.800241Z",
     "start_time": "2022-09-25T14:14:11.795000Z"
    }
   },
   "outputs": [
    {
     "name": "stdout",
     "output_type": "stream",
     "text": [
      "第0个资产:\n",
      "0.358974358974359\n",
      "第1个资产:\n",
      "0.4743589743589744\n",
      "第2个资产:\n",
      "0.35897435897435903\n",
      "第3个资产:\n",
      "0.2692307692307692\n",
      "第4个资产:\n",
      "0.2435897435897436\n",
      "第5个资产:\n",
      "0.20512820512820515\n",
      "第6个资产:\n",
      "0.4358974358974359\n",
      "第7个资产:\n",
      "0.4615384615384615\n",
      "第8个资产:\n",
      "0.3205128205128205\n",
      "第9个资产:\n",
      "0.6923076923076924\n"
     ]
    }
   ],
   "source": [
    "for id, row in score_df.iterrows():\n",
    "    print(id)\n",
    "    print(row.mean())"
   ]
  },
  {
   "cell_type": "code",
   "execution_count": 9,
   "id": "b4995d54",
   "metadata": {
    "ExecuteTime": {
     "end_time": "2022-09-25T14:14:12.230909Z",
     "start_time": "2022-09-25T14:14:11.802249Z"
    }
   },
   "outputs": [
    {
     "data": {
      "text/plain": [
       "[]"
      ]
     },
     "execution_count": 9,
     "metadata": {},
     "output_type": "execute_result"
    },
    {
     "data": {
      "image/png": "[encoded data removed]",
      "text/plain": [
       "<Figure size 1500x800 with 1 Axes>"
      ]
     },
     "metadata": {},
     "output_type": "display_data"
    }
   ],
   "source": [
    "fig, ax = plt.subplots(figsize=(15,8))\n",
    "for pw in port_ws:\n",
    "    pw.columns = ['port_worth']\n",
    "    pw.plot.line(ax=ax, color='r')\n",
    "for bw in bench_ws:\n",
    "    bw.columns = ['bench_worth']\n",
    "    bw.plot(ax=ax, color='b')\n",
    "\n",
    "ax.plot()"
   ]
  },
  {
   "cell_type": "code",
   "execution_count": 10,
   "id": "d924fa64",
   "metadata": {
    "ExecuteTime": {
     "end_time": "2022-09-25T14:14:12.241161Z",
     "start_time": "2022-09-25T14:14:12.234002Z"
    }
   },
   "outputs": [],
   "source": [
    "con_pws = ev.get_continue_worth(port_ws)\n",
    "con_bws = ev.get_continue_worth(bench_ws)"
   ]
  },
  {
   "cell_type": "code",
   "execution_count": 11,
   "id": "53adba12",
   "metadata": {
    "ExecuteTime": {
     "end_time": "2022-09-25T14:14:12.608119Z",
     "start_time": "2022-09-25T14:14:12.244486Z"
    }
   },
   "outputs": [
    {
     "data": {
      "text/plain": [
       "[]"
      ]
     },
     "execution_count": 11,
     "metadata": {},
     "output_type": "execute_result"
    },
    {
     "data": {
      "image/png": "[encoded data removed]",
      "text/plain": [
       "<Figure size 1500x800 with 1 Axes>"
      ]
     },
     "metadata": {},
     "output_type": "display_data"
    }
   ],
   "source": [
    "fig, ax = plt.subplots(figsize=(15,8))\n",
    "for pw in con_pws:\n",
    "    pw.columns = ['port_worth']\n",
    "    pw.plot.line(ax=ax, color='r')\n",
    "for bw in con_bws:\n",
    "    bw.columns = ['bench_worth']\n",
    "    bw.plot(ax=ax, color='b')\n",
    "\n",
    "ax.plot()"
   ]
  },
  {
   "cell_type": "code",
   "execution_count": 14,
   "id": "134f9a93",
   "metadata": {
    "ExecuteTime": {
     "end_time": "2022-09-26T00:42:15.372990Z",
     "start_time": "2022-09-26T00:42:15.365925Z"
    }
   },
   "outputs": [
    {
     "data": {
      "text/plain": [
       "dict_keys([Period('2016-01', 'M'), Period('2018-03', 'M'), Period('2020-05', 'M')])"
      ]
     },
     "execution_count": 14,
     "metadata": {},
     "output_type": "execute_result"
    }
   ],
   "source": [
    "models_list.keys()"
   ]
  },
  {
   "cell_type": "code",
   "execution_count": 25,
   "id": "4430d3b0",
   "metadata": {
    "ExecuteTime": {
     "end_time": "2022-09-26T00:51:56.173324Z",
     "start_time": "2022-09-26T00:51:56.145276Z"
    }
   },
   "outputs": [],
   "source": [
    "values=models_list[pd.Period('2016-01', 'M')][9][-1][-1].feature_importances_"
   ]
  },
  {
   "cell_type": "code",
   "execution_count": 40,
   "id": "82090320",
   "metadata": {
    "ExecuteTime": {
     "end_time": "2022-09-26T01:33:55.463687Z",
     "start_time": "2022-09-26T01:33:55.271825Z"
    }
   },
   "outputs": [
    {
     "data": {
      "text/plain": [
       "array(['lr1__self__ridge0__var385(t-4)G0003663_resid',\n",
       "       'lr1__self__sgd0__var385(t-4)G0003663_resid',\n",
       "       'lr1__self__rf0__var334(t-14)G0002325_resid',\n",
       "       'lr1__self__rf0__var391(t-12)G0003650_resid',\n",
       "       'lr1__self__rf0__var579(t-6)K0182681_returns',\n",
       "       'lr1__talibFE__27_mom', 'lr1__talibFE__41_mom',\n",
       "       'lr1__talibFE__43_mom', 'lr1__talibFE__94_mom',\n",
       "       'lr1__talibFE__117_mom', 'lr1__talibFE__125_yoy',\n",
       "       'lr1__talibFE__134_mom10', 'lr1__talibFE__152_PPO',\n",
       "       'lr1__talibFE__160_yoy', 'lr1__talibFE__161_mom',\n",
       "       'lr1__talibFE__177_rsi6', 'lr1__talibFE__186_mom',\n",
       "       'lr1__talibFE__206_mom', 'lr1__talibFE__207_mom',\n",
       "       'lr1__talibFE__229_mom',\n",
       "       'ridge1__self__ridge0__var65(t-11)M0000705',\n",
       "       'ridge1__self__ridge0__var385(t-4)G0003663_resid',\n",
       "       'ridge1__self__sgd0__var65(t-11)M0000705',\n",
       "       'ridge1__self__sgd0__var385(t-4)G0003663_resid',\n",
       "       'ridge1__self__rf0__var334(t-14)G0002325_resid',\n",
       "       'ridge1__self__rf0__var391(t-12)G0003650_resid',\n",
       "       'ridge1__self__rf0__var404(t-12)G0003682_resid',\n",
       "       'ridge1__self__rf0__var579(t-6)K0182681_returns',\n",
       "       'ridge1__talibFE__41_mom', 'ridge1__talibFE__43_mom',\n",
       "       'ridge1__talibFE__94_mom', 'ridge1__talibFE__117_mom',\n",
       "       'ridge1__talibFE__125_yoy', 'ridge1__talibFE__134_mom10',\n",
       "       'ridge1__talibFE__152_PPO', 'ridge1__talibFE__161_mom',\n",
       "       'ridge1__talibFE__177_rsi6', 'ridge1__talibFE__186_mom',\n",
       "       'ridge1__talibFE__207_mom', 'ridge1__talibFE__229_mom',\n",
       "       'sgd1__self__lr0__var316(t-7)G1143819_resid',\n",
       "       'sgd1__self__ridge0__var316(t-7)G1143819_resid',\n",
       "       'sgd1__self__sgd0__var316(t-7)G1143819_resid',\n",
       "       'sgd1__self__gbr0__var379(t-3)G0005379_resid',\n",
       "       'sgd1__talibFE__43_mom', 'sgd1__talibFE__55_PPO',\n",
       "       'sgd1__talibFE__94_mom', 'sgd1__talibFE__120_PPO',\n",
       "       'sgd1__talibFE__122_PPO', 'sgd1__talibFE__134_mom10',\n",
       "       'sgd1__talibFE__137_PPO', 'sgd1__talibFE__139_yoy',\n",
       "       'sgd1__talibFE__152_PPO', 'sgd1__talibFE__160_yoy',\n",
       "       'sgd1__talibFE__161_mom', 'sgd1__talibFE__180_yoy',\n",
       "       'sgd1__talibFE__187_yoy', 'sgd1__talibFE__211_yoy',\n",
       "       'sgd1__talibFE__235_mom', 'sgd1__talibFE__239_mom',\n",
       "       'rf1__self__lr0__var449(t-2)G1163374_resid',\n",
       "       'rf1__self__lr0__var459(t-2)G0003890_resid',\n",
       "       'rf1__self__lr0__var510(t-2)s4_resid',\n",
       "       'rf1__self__ridge0__var385(t-12)G0003663_resid',\n",
       "       'rf1__self__rf0__var433(t-7)G1130938_resid',\n",
       "       'rf1__self__rf0__var514(t-6)S0031648_resid',\n",
       "       'rf1__self__gbr0__var385(t-12)G0003663_resid',\n",
       "       'rf1__self__gbr0__var514(t-6)S0031648_resid',\n",
       "       'rf1__self__gbr0__var407(t-2)G0003681_resid',\n",
       "       'rf1__self__mi0__var407(t-2)G0003681_resid',\n",
       "       'rf1__talibFE__7_ema12', 'rf1__talibFE__9_rsi6',\n",
       "       'rf1__talibFE__17_rsi6', 'rf1__talibFE__36_rsi14',\n",
       "       'rf1__talibFE__59_rsi6', 'rf1__talibFE__82_PPO',\n",
       "       'rf1__talibFE__118_mom10', 'rf1__talibFE__134_rsi14',\n",
       "       'rf1__talibFE__153_mom', 'rf1__talibFE__175_mom',\n",
       "       'gbr1__self__lr0__var339(t-2)G0003878_resid',\n",
       "       'gbr1__self__ridge0__var385(t-12)G0003663_resid',\n",
       "       'gbr1__self__rf0__var514(t-6)S0031648_resid',\n",
       "       'gbr1__self__gbr0__var416(t-15)G1120784_resid',\n",
       "       'gbr1__self__gbr0__var561(t-8)M0340585_resid',\n",
       "       'gbr1__self__gbr0__var514(t-6)S0031648_resid',\n",
       "       'gbr1__self__gbr0__var407(t-5)G0003681_resid',\n",
       "       'gbr1__self__gbr0__var339(t-2)G0003878_resid',\n",
       "       'gbr1__self__gbr0__var407(t-2)G0003681_resid',\n",
       "       'gbr1__self__mi0__var407(t-2)G0003681_resid',\n",
       "       'gbr1__talibFE__109_mom', 'gbr1__talibFE__132_yoy',\n",
       "       'gbr1__talibFE__159_mom', 'gbr1__talibFE__162_rsi6',\n",
       "       'gbr1__talibFE__164_yoy', 'gbr1__talibFE__166_mom10',\n",
       "       'gbr1__talibFE__171_macd', 'gbr1__talibFE__182_mom10',\n",
       "       'gbr1__talibFE__196_rsi6', 'gbr1__talibFE__233_mom',\n",
       "       'mi1__self__mi0__var260(t-15)M0061680',\n",
       "       'mi1__self__mi0__var217(t-10)M5568367',\n",
       "       'mi1__self__mi0__var572(t-10)S0105899_trend',\n",
       "       'mi1__self__mi0__var289(t-9)G1109601_resid',\n",
       "       'mi1__self__mi0__var552(t-9)M0330255_resid',\n",
       "       'mi1__self__mi0__var512(t-8)S0031648',\n",
       "       'mi1__self__mi0__var514(t-7)S0031648_resid',\n",
       "       'mi1__self__mi0__var86(t-3)S0029668',\n",
       "       'mi1__self__mi0__var439(t-1)G1137400',\n",
       "       'mi1__self__mi0__var497(t-1)M0330161_resid',\n",
       "       'mi1__talibFE__26_mom10', 'mi1__talibFE__28_rsi14',\n",
       "       'mi1__talibFE__52_macdsignal', 'mi1__talibFE__95_macdsignal',\n",
       "       'mi1__talibFE__114_mom10', 'mi1__talibFE__156_rsi14',\n",
       "       'mi1__talibFE__192_mom10', 'mi1__talibFE__194_rsi14',\n",
       "       'mi1__talibFE__231_rsi14', 'mi1__talibFE__236_rsi14'], dtype=object)"
      ]
     },
     "execution_count": 40,
     "metadata": {},
     "output_type": "execute_result"
    }
   ],
   "source": [
    "names=models_list[pd.Period('2016-01', 'M')][9][:-1].get_feature_names_out()\n",
    "names"
   ]
  },
  {
   "cell_type": "code",
   "execution_count": 34,
   "id": "bd17fa5f",
   "metadata": {
    "ExecuteTime": {
     "end_time": "2022-09-26T00:56:06.248579Z",
     "start_time": "2022-09-26T00:56:06.226192Z"
    }
   },
   "outputs": [
    {
     "data": {
      "text/html": [
       "<div>\n",
       "<style scoped>\n",
       "    .dataframe tbody tr th:only-of-type {\n",
       "        vertical-align: middle;\n",
       "    }\n",
       "\n",
       "    .dataframe tbody tr th {\n",
       "        vertical-align: top;\n",
       "    }\n",
       "\n",
       "    .dataframe thead th {\n",
       "        text-align: right;\n",
       "    }\n",
       "</style>\n",
       "<table border=\"1\" class=\"dataframe\">\n",
       "  <thead>\n",
       "    <tr style=\"text-align: right;\">\n",
       "      <th></th>\n",
       "      <th>0</th>\n",
       "      <th>1</th>\n",
       "      <th>2</th>\n",
       "      <th>3</th>\n",
       "      <th>4</th>\n",
       "      <th>5</th>\n",
       "      <th>6</th>\n",
       "      <th>7</th>\n",
       "      <th>8</th>\n",
       "      <th>9</th>\n",
       "      <th>...</th>\n",
       "      <th>110</th>\n",
       "      <th>111</th>\n",
       "      <th>112</th>\n",
       "      <th>113</th>\n",
       "      <th>114</th>\n",
       "      <th>115</th>\n",
       "      <th>116</th>\n",
       "      <th>117</th>\n",
       "      <th>118</th>\n",
       "      <th>119</th>\n",
       "    </tr>\n",
       "  </thead>\n",
       "  <tbody>\n",
       "    <tr>\n",
       "      <th>names</th>\n",
       "      <td>lr1__self__ridge0__var385(t-4)G0003663_resid</td>\n",
       "      <td>lr1__self__sgd0__var385(t-4)G0003663_resid</td>\n",
       "      <td>lr1__self__rf0__var334(t-14)G0002325_resid</td>\n",
       "      <td>lr1__self__rf0__var391(t-12)G0003650_resid</td>\n",
       "      <td>lr1__self__rf0__var579(t-6)K0182681_returns</td>\n",
       "      <td>lr1__talibFE__27_mom</td>\n",
       "      <td>lr1__talibFE__41_mom</td>\n",
       "      <td>lr1__talibFE__43_mom</td>\n",
       "      <td>lr1__talibFE__94_mom</td>\n",
       "      <td>lr1__talibFE__117_mom</td>\n",
       "      <td>...</td>\n",
       "      <td>mi1__talibFE__26_mom10</td>\n",
       "      <td>mi1__talibFE__28_rsi14</td>\n",
       "      <td>mi1__talibFE__52_macdsignal</td>\n",
       "      <td>mi1__talibFE__95_macdsignal</td>\n",
       "      <td>mi1__talibFE__114_mom10</td>\n",
       "      <td>mi1__talibFE__156_rsi14</td>\n",
       "      <td>mi1__talibFE__192_mom10</td>\n",
       "      <td>mi1__talibFE__194_rsi14</td>\n",
       "      <td>mi1__talibFE__231_rsi14</td>\n",
       "      <td>mi1__talibFE__236_rsi14</td>\n",
       "    </tr>\n",
       "    <tr>\n",
       "      <th>values</th>\n",
       "      <td>0.000743</td>\n",
       "      <td>0.00109</td>\n",
       "      <td>0.00075</td>\n",
       "      <td>0.001808</td>\n",
       "      <td>0.004344</td>\n",
       "      <td>0.002592</td>\n",
       "      <td>0.002891</td>\n",
       "      <td>0.006556</td>\n",
       "      <td>0.002752</td>\n",
       "      <td>0.000845</td>\n",
       "      <td>...</td>\n",
       "      <td>0.003891</td>\n",
       "      <td>0.011313</td>\n",
       "      <td>0.00302</td>\n",
       "      <td>0.002</td>\n",
       "      <td>0.004105</td>\n",
       "      <td>0.011757</td>\n",
       "      <td>0.00562</td>\n",
       "      <td>0.013617</td>\n",
       "      <td>0.009417</td>\n",
       "      <td>0.000472</td>\n",
       "    </tr>\n",
       "  </tbody>\n",
       "</table>\n",
       "<p>2 rows × 120 columns</p>\n",
       "</div>"
      ],
      "text/plain": [
       "                                                 0    \\\n",
       "names   lr1__self__ridge0__var385(t-4)G0003663_resid   \n",
       "values                                      0.000743   \n",
       "\n",
       "                                               1    \\\n",
       "names   lr1__self__sgd0__var385(t-4)G0003663_resid   \n",
       "values                                     0.00109   \n",
       "\n",
       "                                               2    \\\n",
       "names   lr1__self__rf0__var334(t-14)G0002325_resid   \n",
       "values                                     0.00075   \n",
       "\n",
       "                                               3    \\\n",
       "names   lr1__self__rf0__var391(t-12)G0003650_resid   \n",
       "values                                    0.001808   \n",
       "\n",
       "                                                4                     5    \\\n",
       "names   lr1__self__rf0__var579(t-6)K0182681_returns  lr1__talibFE__27_mom   \n",
       "values                                     0.004344              0.002592   \n",
       "\n",
       "                         6                     7                     8    \\\n",
       "names   lr1__talibFE__41_mom  lr1__talibFE__43_mom  lr1__talibFE__94_mom   \n",
       "values              0.002891              0.006556              0.002752   \n",
       "\n",
       "                          9    ...                     110  \\\n",
       "names   lr1__talibFE__117_mom  ...  mi1__talibFE__26_mom10   \n",
       "values               0.000845  ...                0.003891   \n",
       "\n",
       "                           111                          112  \\\n",
       "names   mi1__talibFE__28_rsi14  mi1__talibFE__52_macdsignal   \n",
       "values                0.011313                      0.00302   \n",
       "\n",
       "                                113                      114  \\\n",
       "names   mi1__talibFE__95_macdsignal  mi1__talibFE__114_mom10   \n",
       "values                        0.002                 0.004105   \n",
       "\n",
       "                            115                      116  \\\n",
       "names   mi1__talibFE__156_rsi14  mi1__talibFE__192_mom10   \n",
       "values                 0.011757                  0.00562   \n",
       "\n",
       "                            117                      118  \\\n",
       "names   mi1__talibFE__194_rsi14  mi1__talibFE__231_rsi14   \n",
       "values                 0.013617                 0.009417   \n",
       "\n",
       "                            119  \n",
       "names   mi1__talibFE__236_rsi14  \n",
       "values                 0.000472  \n",
       "\n",
       "[2 rows x 120 columns]"
      ]
     },
     "execution_count": 34,
     "metadata": {},
     "output_type": "execute_result"
    }
   ],
   "source": [
    "fea_imp = pd.DataFrame([names, values], index=['names', 'values'])"
   ]
  },
  {
   "cell_type": "code",
   "execution_count": 37,
   "id": "2d35deb8",
   "metadata": {
    "ExecuteTime": {
     "end_time": "2022-09-26T00:57:00.646162Z",
     "start_time": "2022-09-26T00:57:00.623978Z"
    }
   },
   "outputs": [
    {
     "data": {
      "text/html": [
       "<div>\n",
       "<style scoped>\n",
       "    .dataframe tbody tr th:only-of-type {\n",
       "        vertical-align: middle;\n",
       "    }\n",
       "\n",
       "    .dataframe tbody tr th {\n",
       "        vertical-align: top;\n",
       "    }\n",
       "\n",
       "    .dataframe thead th {\n",
       "        text-align: right;\n",
       "    }\n",
       "</style>\n",
       "<table border=\"1\" class=\"dataframe\">\n",
       "  <thead>\n",
       "    <tr style=\"text-align: right;\">\n",
       "      <th></th>\n",
       "      <th>68</th>\n",
       "      <th>88</th>\n",
       "      <th>69</th>\n",
       "      <th>89</th>\n",
       "      <th>67</th>\n",
       "      <th>63</th>\n",
       "      <th>80</th>\n",
       "      <th>81</th>\n",
       "      <th>98</th>\n",
       "      <th>82</th>\n",
       "      <th>...</th>\n",
       "      <th>41</th>\n",
       "      <th>119</th>\n",
       "      <th>42</th>\n",
       "      <th>16</th>\n",
       "      <th>12</th>\n",
       "      <th>31</th>\n",
       "      <th>47</th>\n",
       "      <th>52</th>\n",
       "      <th>57</th>\n",
       "      <th>77</th>\n",
       "    </tr>\n",
       "  </thead>\n",
       "  <tbody>\n",
       "    <tr>\n",
       "      <th>names</th>\n",
       "      <td>rf1__self__gbr0__var407(t-2)G0003681_resid</td>\n",
       "      <td>gbr1__self__gbr0__var407(t-2)G0003681_resid</td>\n",
       "      <td>rf1__self__mi0__var407(t-2)G0003681_resid</td>\n",
       "      <td>gbr1__self__mi0__var407(t-2)G0003681_resid</td>\n",
       "      <td>rf1__self__gbr0__var514(t-6)S0031648_resid</td>\n",
       "      <td>rf1__self__ridge0__var385(t-12)G0003663_resid</td>\n",
       "      <td>gbr1__self__lr0__var339(t-2)G0003878_resid</td>\n",
       "      <td>gbr1__self__ridge0__var385(t-12)G0003663_resid</td>\n",
       "      <td>gbr1__talibFE__196_rsi6</td>\n",
       "      <td>gbr1__self__rf0__var514(t-6)S0031648_resid</td>\n",
       "      <td>...</td>\n",
       "      <td>sgd1__self__ridge0__var316(t-7)G1143819_resid</td>\n",
       "      <td>mi1__talibFE__236_rsi14</td>\n",
       "      <td>sgd1__self__sgd0__var316(t-7)G1143819_resid</td>\n",
       "      <td>lr1__talibFE__186_mom</td>\n",
       "      <td>lr1__talibFE__152_PPO</td>\n",
       "      <td>ridge1__talibFE__117_mom</td>\n",
       "      <td>sgd1__talibFE__120_PPO</td>\n",
       "      <td>sgd1__talibFE__152_PPO</td>\n",
       "      <td>sgd1__talibFE__211_yoy</td>\n",
       "      <td>rf1__talibFE__134_rsi14</td>\n",
       "    </tr>\n",
       "    <tr>\n",
       "      <th>values</th>\n",
       "      <td>0.055216</td>\n",
       "      <td>0.051764</td>\n",
       "      <td>0.044659</td>\n",
       "      <td>0.04328</td>\n",
       "      <td>0.041358</td>\n",
       "      <td>0.040732</td>\n",
       "      <td>0.036441</td>\n",
       "      <td>0.034318</td>\n",
       "      <td>0.033752</td>\n",
       "      <td>0.031917</td>\n",
       "      <td>...</td>\n",
       "      <td>0.000535</td>\n",
       "      <td>0.000472</td>\n",
       "      <td>0.00046</td>\n",
       "      <td>0.00043</td>\n",
       "      <td>0.000402</td>\n",
       "      <td>0.000272</td>\n",
       "      <td>0.0</td>\n",
       "      <td>0.0</td>\n",
       "      <td>0.0</td>\n",
       "      <td>0.0</td>\n",
       "    </tr>\n",
       "  </tbody>\n",
       "</table>\n",
       "<p>2 rows × 120 columns</p>\n",
       "</div>"
      ],
      "text/plain": [
       "                                               68   \\\n",
       "names   rf1__self__gbr0__var407(t-2)G0003681_resid   \n",
       "values                                    0.055216   \n",
       "\n",
       "                                                88   \\\n",
       "names   gbr1__self__gbr0__var407(t-2)G0003681_resid   \n",
       "values                                     0.051764   \n",
       "\n",
       "                                              69   \\\n",
       "names   rf1__self__mi0__var407(t-2)G0003681_resid   \n",
       "values                                   0.044659   \n",
       "\n",
       "                                               89   \\\n",
       "names   gbr1__self__mi0__var407(t-2)G0003681_resid   \n",
       "values                                     0.04328   \n",
       "\n",
       "                                               67   \\\n",
       "names   rf1__self__gbr0__var514(t-6)S0031648_resid   \n",
       "values                                    0.041358   \n",
       "\n",
       "                                                  63   \\\n",
       "names   rf1__self__ridge0__var385(t-12)G0003663_resid   \n",
       "values                                       0.040732   \n",
       "\n",
       "                                               80   \\\n",
       "names   gbr1__self__lr0__var339(t-2)G0003878_resid   \n",
       "values                                    0.036441   \n",
       "\n",
       "                                                   81   \\\n",
       "names   gbr1__self__ridge0__var385(t-12)G0003663_resid   \n",
       "values                                        0.034318   \n",
       "\n",
       "                            98                                          82   \\\n",
       "names   gbr1__talibFE__196_rsi6  gbr1__self__rf0__var514(t-6)S0031648_resid   \n",
       "values                 0.033752                                    0.031917   \n",
       "\n",
       "        ...                                            41   \\\n",
       "names   ...  sgd1__self__ridge0__var316(t-7)G1143819_resid   \n",
       "values  ...                                       0.000535   \n",
       "\n",
       "                            119                                          42   \\\n",
       "names   mi1__talibFE__236_rsi14  sgd1__self__sgd0__var316(t-7)G1143819_resid   \n",
       "values                 0.000472                                      0.00046   \n",
       "\n",
       "                          16                     12   \\\n",
       "names   lr1__talibFE__186_mom  lr1__talibFE__152_PPO   \n",
       "values                0.00043               0.000402   \n",
       "\n",
       "                             31                      47   \\\n",
       "names   ridge1__talibFE__117_mom  sgd1__talibFE__120_PPO   \n",
       "values                  0.000272                     0.0   \n",
       "\n",
       "                           52                      57   \\\n",
       "names   sgd1__talibFE__152_PPO  sgd1__talibFE__211_yoy   \n",
       "values                     0.0                     0.0   \n",
       "\n",
       "                            77   \n",
       "names   rf1__talibFE__134_rsi14  \n",
       "values                      0.0  \n",
       "\n",
       "[2 rows x 120 columns]"
      ]
     },
     "execution_count": 37,
     "metadata": {},
     "output_type": "execute_result"
    }
   ],
   "source": [
    "fea_imp.sort_values(by='values', axis=1, ascending=False)"
   ]
  },
  {
   "cell_type": "code",
   "execution_count": null,
   "id": "d3ee59d6",
   "metadata": {},
   "outputs": [],
   "source": []
  },
  {
   "cell_type": "code",
   "execution_count": 38,
   "id": "eecb36dc",
   "metadata": {
    "ExecuteTime": {
     "end_time": "2022-09-26T01:08:33.317826Z",
     "start_time": "2022-09-26T01:08:33.046079Z"
    }
   },
   "outputs": [
    {
     "data": {
      "text/html": [
       "<div>\n",
       "<style scoped>\n",
       "    .dataframe tbody tr th:only-of-type {\n",
       "        vertical-align: middle;\n",
       "    }\n",
       "\n",
       "    .dataframe tbody tr th {\n",
       "        vertical-align: top;\n",
       "    }\n",
       "\n",
       "    .dataframe thead th {\n",
       "        text-align: right;\n",
       "    }\n",
       "</style>\n",
       "<table border=\"1\" class=\"dataframe\">\n",
       "  <thead>\n",
       "    <tr style=\"text-align: right;\">\n",
       "      <th></th>\n",
       "      <th>68</th>\n",
       "      <th>88</th>\n",
       "      <th>69</th>\n",
       "      <th>89</th>\n",
       "      <th>67</th>\n",
       "      <th>63</th>\n",
       "      <th>80</th>\n",
       "      <th>81</th>\n",
       "      <th>98</th>\n",
       "      <th>82</th>\n",
       "      <th>...</th>\n",
       "      <th>41</th>\n",
       "      <th>119</th>\n",
       "      <th>42</th>\n",
       "      <th>16</th>\n",
       "      <th>12</th>\n",
       "      <th>31</th>\n",
       "      <th>47</th>\n",
       "      <th>52</th>\n",
       "      <th>57</th>\n",
       "      <th>77</th>\n",
       "    </tr>\n",
       "  </thead>\n",
       "  <tbody>\n",
       "    <tr>\n",
       "      <th>names</th>\n",
       "      <td>rf1__self__gbr0__var407(t-2)G0003681_resid</td>\n",
       "      <td>gbr1__self__gbr0__var407(t-2)G0003681_resid</td>\n",
       "      <td>rf1__self__mi0__var407(t-2)G0003681_resid</td>\n",
       "      <td>gbr1__self__mi0__var407(t-2)G0003681_resid</td>\n",
       "      <td>rf1__self__gbr0__var514(t-6)S0031648_resid</td>\n",
       "      <td>rf1__self__ridge0__var385(t-12)G0003663_resid</td>\n",
       "      <td>gbr1__self__lr0__var339(t-2)G0003878_resid</td>\n",
       "      <td>gbr1__self__ridge0__var385(t-12)G0003663_resid</td>\n",
       "      <td>gbr1__talibFE__196_rsi6</td>\n",
       "      <td>gbr1__self__rf0__var514(t-6)S0031648_resid</td>\n",
       "      <td>...</td>\n",
       "      <td>sgd1__self__ridge0__var316(t-7)G1143819_resid</td>\n",
       "      <td>mi1__talibFE__236_rsi14</td>\n",
       "      <td>sgd1__self__sgd0__var316(t-7)G1143819_resid</td>\n",
       "      <td>lr1__talibFE__186_mom</td>\n",
       "      <td>lr1__talibFE__152_PPO</td>\n",
       "      <td>ridge1__talibFE__117_mom</td>\n",
       "      <td>sgd1__talibFE__120_PPO</td>\n",
       "      <td>sgd1__talibFE__152_PPO</td>\n",
       "      <td>sgd1__talibFE__211_yoy</td>\n",
       "      <td>rf1__talibFE__134_rsi14</td>\n",
       "    </tr>\n",
       "    <tr>\n",
       "      <th>values</th>\n",
       "      <td>0.055216</td>\n",
       "      <td>0.051764</td>\n",
       "      <td>0.044659</td>\n",
       "      <td>0.04328</td>\n",
       "      <td>0.041358</td>\n",
       "      <td>0.040732</td>\n",
       "      <td>0.036441</td>\n",
       "      <td>0.034318</td>\n",
       "      <td>0.033752</td>\n",
       "      <td>0.031917</td>\n",
       "      <td>...</td>\n",
       "      <td>0.000535</td>\n",
       "      <td>0.000472</td>\n",
       "      <td>0.00046</td>\n",
       "      <td>0.00043</td>\n",
       "      <td>0.000402</td>\n",
       "      <td>0.000272</td>\n",
       "      <td>0.0</td>\n",
       "      <td>0.0</td>\n",
       "      <td>0.0</td>\n",
       "      <td>0.0</td>\n",
       "    </tr>\n",
       "  </tbody>\n",
       "</table>\n",
       "<p>2 rows × 120 columns</p>\n",
       "</div>"
      ],
      "text/plain": [
       "                                               68   \\\n",
       "names   rf1__self__gbr0__var407(t-2)G0003681_resid   \n",
       "values                                    0.055216   \n",
       "\n",
       "                                                88   \\\n",
       "names   gbr1__self__gbr0__var407(t-2)G0003681_resid   \n",
       "values                                     0.051764   \n",
       "\n",
       "                                              69   \\\n",
       "names   rf1__self__mi0__var407(t-2)G0003681_resid   \n",
       "values                                   0.044659   \n",
       "\n",
       "                                               89   \\\n",
       "names   gbr1__self__mi0__var407(t-2)G0003681_resid   \n",
       "values                                     0.04328   \n",
       "\n",
       "                                               67   \\\n",
       "names   rf1__self__gbr0__var514(t-6)S0031648_resid   \n",
       "values                                    0.041358   \n",
       "\n",
       "                                                  63   \\\n",
       "names   rf1__self__ridge0__var385(t-12)G0003663_resid   \n",
       "values                                       0.040732   \n",
       "\n",
       "                                               80   \\\n",
       "names   gbr1__self__lr0__var339(t-2)G0003878_resid   \n",
       "values                                    0.036441   \n",
       "\n",
       "                                                   81   \\\n",
       "names   gbr1__self__ridge0__var385(t-12)G0003663_resid   \n",
       "values                                        0.034318   \n",
       "\n",
       "                            98                                          82   \\\n",
       "names   gbr1__talibFE__196_rsi6  gbr1__self__rf0__var514(t-6)S0031648_resid   \n",
       "values                 0.033752                                    0.031917   \n",
       "\n",
       "        ...                                            41   \\\n",
       "names   ...  sgd1__self__ridge0__var316(t-7)G1143819_resid   \n",
       "values  ...                                       0.000535   \n",
       "\n",
       "                            119                                          42   \\\n",
       "names   mi1__talibFE__236_rsi14  sgd1__self__sgd0__var316(t-7)G1143819_resid   \n",
       "values                 0.000472                                      0.00046   \n",
       "\n",
       "                          16                     12   \\\n",
       "names   lr1__talibFE__186_mom  lr1__talibFE__152_PPO   \n",
       "values                0.00043               0.000402   \n",
       "\n",
       "                             31                      47   \\\n",
       "names   ridge1__talibFE__117_mom  sgd1__talibFE__120_PPO   \n",
       "values                  0.000272                     0.0   \n",
       "\n",
       "                           52                      57   \\\n",
       "names   sgd1__talibFE__152_PPO  sgd1__talibFE__211_yoy   \n",
       "values                     0.0                     0.0   \n",
       "\n",
       "                            77   \n",
       "names   rf1__talibFE__134_rsi14  \n",
       "values                      0.0  \n",
       "\n",
       "[2 rows x 120 columns]"
      ]
     },
     "execution_count": 38,
     "metadata": {},
     "output_type": "execute_result"
    }
   ],
   "source": [
    "values=models_list[pd.Period('2018-03', 'M')][9][-1][-1].feature_importances_\n",
    "names=models_list[pd.Period('2018-03', 'M')][9][:-1].get_feature_names_out()\n",
    "fea_imp = pd.DataFrame([names, values], index=['names', 'values'])\n",
    "fea_imp.sort_values(by='values', axis=1, ascending=False)"
   ]
  },
  {
   "cell_type": "code",
   "execution_count": 39,
   "id": "2e6bf767",
   "metadata": {
    "ExecuteTime": {
     "end_time": "2022-09-26T01:09:06.698307Z",
     "start_time": "2022-09-26T01:09:06.474705Z"
    }
   },
   "outputs": [
    {
     "data": {
      "text/html": [
       "<div>\n",
       "<style scoped>\n",
       "    .dataframe tbody tr th:only-of-type {\n",
       "        vertical-align: middle;\n",
       "    }\n",
       "\n",
       "    .dataframe tbody tr th {\n",
       "        vertical-align: top;\n",
       "    }\n",
       "\n",
       "    .dataframe thead th {\n",
       "        text-align: right;\n",
       "    }\n",
       "</style>\n",
       "<table border=\"1\" class=\"dataframe\">\n",
       "  <thead>\n",
       "    <tr style=\"text-align: right;\">\n",
       "      <th></th>\n",
       "      <th>68</th>\n",
       "      <th>88</th>\n",
       "      <th>69</th>\n",
       "      <th>89</th>\n",
       "      <th>67</th>\n",
       "      <th>63</th>\n",
       "      <th>80</th>\n",
       "      <th>81</th>\n",
       "      <th>98</th>\n",
       "      <th>82</th>\n",
       "      <th>...</th>\n",
       "      <th>41</th>\n",
       "      <th>119</th>\n",
       "      <th>42</th>\n",
       "      <th>16</th>\n",
       "      <th>12</th>\n",
       "      <th>31</th>\n",
       "      <th>47</th>\n",
       "      <th>52</th>\n",
       "      <th>57</th>\n",
       "      <th>77</th>\n",
       "    </tr>\n",
       "  </thead>\n",
       "  <tbody>\n",
       "    <tr>\n",
       "      <th>names</th>\n",
       "      <td>rf1__self__gbr0__var407(t-2)G0003681_resid</td>\n",
       "      <td>gbr1__self__gbr0__var407(t-2)G0003681_resid</td>\n",
       "      <td>rf1__self__mi0__var407(t-2)G0003681_resid</td>\n",
       "      <td>gbr1__self__mi0__var407(t-2)G0003681_resid</td>\n",
       "      <td>rf1__self__gbr0__var514(t-6)S0031648_resid</td>\n",
       "      <td>rf1__self__ridge0__var385(t-12)G0003663_resid</td>\n",
       "      <td>gbr1__self__lr0__var339(t-2)G0003878_resid</td>\n",
       "      <td>gbr1__self__ridge0__var385(t-12)G0003663_resid</td>\n",
       "      <td>gbr1__talibFE__196_rsi6</td>\n",
       "      <td>gbr1__self__rf0__var514(t-6)S0031648_resid</td>\n",
       "      <td>...</td>\n",
       "      <td>sgd1__self__ridge0__var316(t-7)G1143819_resid</td>\n",
       "      <td>mi1__talibFE__236_rsi14</td>\n",
       "      <td>sgd1__self__sgd0__var316(t-7)G1143819_resid</td>\n",
       "      <td>lr1__talibFE__186_mom</td>\n",
       "      <td>lr1__talibFE__152_PPO</td>\n",
       "      <td>ridge1__talibFE__117_mom</td>\n",
       "      <td>sgd1__talibFE__120_PPO</td>\n",
       "      <td>sgd1__talibFE__152_PPO</td>\n",
       "      <td>sgd1__talibFE__211_yoy</td>\n",
       "      <td>rf1__talibFE__134_rsi14</td>\n",
       "    </tr>\n",
       "    <tr>\n",
       "      <th>values</th>\n",
       "      <td>0.055216</td>\n",
       "      <td>0.051764</td>\n",
       "      <td>0.044659</td>\n",
       "      <td>0.04328</td>\n",
       "      <td>0.041358</td>\n",
       "      <td>0.040732</td>\n",
       "      <td>0.036441</td>\n",
       "      <td>0.034318</td>\n",
       "      <td>0.033752</td>\n",
       "      <td>0.031917</td>\n",
       "      <td>...</td>\n",
       "      <td>0.000535</td>\n",
       "      <td>0.000472</td>\n",
       "      <td>0.00046</td>\n",
       "      <td>0.00043</td>\n",
       "      <td>0.000402</td>\n",
       "      <td>0.000272</td>\n",
       "      <td>0.0</td>\n",
       "      <td>0.0</td>\n",
       "      <td>0.0</td>\n",
       "      <td>0.0</td>\n",
       "    </tr>\n",
       "  </tbody>\n",
       "</table>\n",
       "<p>2 rows × 120 columns</p>\n",
       "</div>"
      ],
      "text/plain": [
       "                                               68   \\\n",
       "names   rf1__self__gbr0__var407(t-2)G0003681_resid   \n",
       "values                                    0.055216   \n",
       "\n",
       "                                                88   \\\n",
       "names   gbr1__self__gbr0__var407(t-2)G0003681_resid   \n",
       "values                                     0.051764   \n",
       "\n",
       "                                              69   \\\n",
       "names   rf1__self__mi0__var407(t-2)G0003681_resid   \n",
       "values                                   0.044659   \n",
       "\n",
       "                                               89   \\\n",
       "names   gbr1__self__mi0__var407(t-2)G0003681_resid   \n",
       "values                                     0.04328   \n",
       "\n",
       "                                               67   \\\n",
       "names   rf1__self__gbr0__var514(t-6)S0031648_resid   \n",
       "values                                    0.041358   \n",
       "\n",
       "                                                  63   \\\n",
       "names   rf1__self__ridge0__var385(t-12)G0003663_resid   \n",
       "values                                       0.040732   \n",
       "\n",
       "                                               80   \\\n",
       "names   gbr1__self__lr0__var339(t-2)G0003878_resid   \n",
       "values                                    0.036441   \n",
       "\n",
       "                                                   81   \\\n",
       "names   gbr1__self__ridge0__var385(t-12)G0003663_resid   \n",
       "values                                        0.034318   \n",
       "\n",
       "                            98                                          82   \\\n",
       "names   gbr1__talibFE__196_rsi6  gbr1__self__rf0__var514(t-6)S0031648_resid   \n",
       "values                 0.033752                                    0.031917   \n",
       "\n",
       "        ...                                            41   \\\n",
       "names   ...  sgd1__self__ridge0__var316(t-7)G1143819_resid   \n",
       "values  ...                                       0.000535   \n",
       "\n",
       "                            119                                          42   \\\n",
       "names   mi1__talibFE__236_rsi14  sgd1__self__sgd0__var316(t-7)G1143819_resid   \n",
       "values                 0.000472                                      0.00046   \n",
       "\n",
       "                          16                     12   \\\n",
       "names   lr1__talibFE__186_mom  lr1__talibFE__152_PPO   \n",
       "values                0.00043               0.000402   \n",
       "\n",
       "                             31                      47   \\\n",
       "names   ridge1__talibFE__117_mom  sgd1__talibFE__120_PPO   \n",
       "values                  0.000272                     0.0   \n",
       "\n",
       "                           52                      57   \\\n",
       "names   sgd1__talibFE__152_PPO  sgd1__talibFE__211_yoy   \n",
       "values                     0.0                     0.0   \n",
       "\n",
       "                            77   \n",
       "names   rf1__talibFE__134_rsi14  \n",
       "values                      0.0  \n",
       "\n",
       "[2 rows x 120 columns]"
      ]
     },
     "execution_count": 39,
     "metadata": {},
     "output_type": "execute_result"
    }
   ],
   "source": [
    "values=models_list[pd.Period('2020-05', 'M')][9][-1][-1].feature_importances_\n",
    "names=models_list[pd.Period('2020-05', 'M')][9][:-1].get_feature_names_out()\n",
    "fea_imp = pd.DataFrame([names, values], index=['names', 'values'])\n",
    "fea_imp.sort_values(by='values', axis=1, ascending=False)"
   ]
  },
  {
   "cell_type": "code",
   "execution_count": null,
   "id": "e7673731",
   "metadata": {},
   "outputs": [],
   "source": [
    "不同period的feature imp竟然完全没有变化，肯定有问题"
   ]
  },
  {
   "cell_type": "code",
   "execution_count": 41,
   "id": "15bae679",
   "metadata": {
    "ExecuteTime": {
     "end_time": "2022-09-26T02:07:36.094454Z",
     "start_time": "2022-09-26T02:07:36.086732Z"
    }
   },
   "outputs": [
    {
     "data": {
      "text/plain": [
       "'__main__'"
      ]
     },
     "execution_count": 41,
     "metadata": {},
     "output_type": "execute_result"
    }
   ],
   "source": [
    "__name__"
   ]
  },
  {
   "cell_type": "code",
   "execution_count": 45,
   "id": "eba771d5",
   "metadata": {
    "ExecuteTime": {
     "end_time": "2022-09-26T02:11:24.956363Z",
     "start_time": "2022-09-26T02:11:23.946040Z"
    }
   },
   "outputs": [
    {
     "data": {
      "application/javascript": [
       "\n",
       "console.log('Starting front end url_querystring_target comm target');\n",
       "const comm = Jupyter.notebook.kernel.comm_manager.new_comm('url_querystring_target', {'init': 1});\n",
       "comm.send({'ipyparams_browser_url': window.location.href});\n",
       "console.log('Sent window.location.href on url_querystring_target comm target');\n",
       "\n",
       "comm.on_msg(function(msg) {\n",
       "    console.log(msg.content.data);\n",
       "});\n"
      ],
      "text/plain": [
       "<IPython.core.display.Javascript object>"
      ]
     },
     "metadata": {},
     "output_type": "display_data"
    }
   ],
   "source": [
    "import ipyparams\n"
   ]
  },
  {
   "cell_type": "code",
   "execution_count": 43,
   "id": "441c540d",
   "metadata": {
    "ExecuteTime": {
     "end_time": "2022-09-26T02:10:37.414227Z",
     "start_time": "2022-09-26T02:10:32.708225Z"
    }
   },
   "outputs": [
    {
     "name": "stdout",
     "output_type": "stream",
     "text": [
      "Collecting ipyparams\n",
      "  Downloading ipyparams-0.2.1.tar.gz (2.7 kB)\n",
      "  Preparing metadata (setup.py) ... \u001b[?25ldone\n",
      "\u001b[?25hBuilding wheels for collected packages: ipyparams\n",
      "  Building wheel for ipyparams (setup.py) ... \u001b[?25ldone\n",
      "\u001b[?25h  Created wheel for ipyparams: filename=ipyparams-0.2.1-py3-none-any.whl size=2746 sha256=b970c82d743560d406f0730dce2d6018016ceab9aea35cb0138f6e0fd01c1580\n",
      "  Stored in directory: /Users/Gary/Library/Caches/pip/wheels/90/d9/ee/860f6045703143ddcdfcc5ce55bc96c3326392596f5b467891\n",
      "Successfully built ipyparams\n",
      "Installing collected packages: ipyparams\n",
      "Successfully installed ipyparams-0.2.1\n",
      "Note: you may need to restart the kernel to use updated packages.\n"
     ]
    }
   ],
   "source": [
    "pip install ipyparams"
   ]
  },
  {
   "cell_type": "code",
   "execution_count": 46,
   "id": "8660a272",
   "metadata": {
    "ExecuteTime": {
     "end_time": "2022-09-26T02:11:32.185635Z",
     "start_time": "2022-09-26T02:11:32.179343Z"
    }
   },
   "outputs": [
    {
     "data": {
      "text/plain": [
       "'featcheck_RF_0926.ipynb'"
      ]
     },
     "execution_count": 46,
     "metadata": {},
     "output_type": "execute_result"
    }
   ],
   "source": [
    "ipyparams.notebook_name"
   ]
  },
  {
   "cell_type": "code",
   "execution_count": null,
   "id": "e6b2344b",
   "metadata": {},
   "outputs": [],
   "source": []
  }
 ],
 "metadata": {
  "kernelspec": {
   "display_name": "Python 3 (ipykernel)",
   "language": "python",
   "name": "python3"
  },
  "language_info": {
   "codemirror_mode": {
    "name": "ipython",
    "version": 3
   },
   "file_extension": ".py",
   "mimetype": "text/x-python",
   "name": "python",
   "nbconvert_exporter": "python",
   "pygments_lexer": "ipython3",
   "version": "3.9.13"
  },
  "varInspector": {
   "cols": {
    "lenName": 16,
    "lenType": 16,
    "lenVar": "80"
   },
   "kernels_config": {
    "python": {
     "delete_cmd_postfix": "",
     "delete_cmd_prefix": "del ",
     "library": "var_list.py",
     "varRefreshCmd": "print(var_dic_list())"
    },
    "r": {
     "delete_cmd_postfix": ") ",
     "delete_cmd_prefix": "rm(",
     "library": "var_list.r",
     "varRefreshCmd": "cat(var_dic_list()) "
    }
   },
   "oldHeight": 438,
   "position": {
    "height": "40px",
    "left": "753px",
    "right": "20px",
    "top": "89px",
    "width": "486px"
   },
   "types_to_exclude": [
    "module",
    "function",
    "builtin_function_or_method",
    "instance",
    "_Feature"
   ],
   "varInspector_section_display": "none",
   "window_display": true
  }
 },
 "nbformat": 4,
 "nbformat_minor": 5
}
