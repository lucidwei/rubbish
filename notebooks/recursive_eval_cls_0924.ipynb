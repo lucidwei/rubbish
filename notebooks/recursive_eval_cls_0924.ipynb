{
 "cells": [
  {
   "cell_type": "code",
   "execution_count": 1,
   "id": "13524989",
   "metadata": {},
   "outputs": [
    {
     "name": "stderr",
     "output_type": "stream",
     "text": [
      "C:\\Users\\lucid\\AppData\\Roaming\\Python\\Python310\\site-packages\\tpot\\builtins\\__init__.py:36: UserWarning: Warning: optional dependency `torch` is not available. - skipping import of NN models.\n",
      "  warnings.warn(\"Warning: optional dependency `torch` is not available. - skipping import of NN models.\")\n"
     ]
    }
   ],
   "source": [
    "# coding=gbk\n",
    "import os\n",
    "import pickle, datetime, copy\n",
    "from sklearn.model_selection import train_test_split, TimeSeriesSplit\n",
    "import matplotlib.pyplot as plt\n",
    "import pandas as pd\n",
    "import utils, utils_eda, evaluator, utils_train\n",
    "import evaluator as ev\n",
    "from evaluator import Evaluator\n",
    "if os.getcwd()[-9:] == 'notebooks':\n",
    "    os.chdir(\"..\")\n",
    "\n",
    "# Configuration\n",
    "PATH_ORI_DATA = r'C:\\Users\\lucid\\Documents\\长江实习\\课题之自上而下\\data'\n",
    "## 原始数据文件是否已经更新\n",
    "if_update = False\n",
    "## 预处理逻辑(参数)变更/缓存的pickle需要更新时，设为False\n",
    "####一定要注意利用的数据格式，避免用本月行情预测本月行情。\n",
    "use_cache = False\n",
    "if_cls = True\n",
    "## 预处理参数\n",
    "align_to = 'month'\n",
    "use_lag_x = 15\n",
    "begT = '2004-01'\n",
    "endT = datetime.date.today()\n",
    "## 滚动训练次数\n",
    "n_splits = 10"
   ]
  },
  {
   "cell_type": "code",
   "execution_count": 2,
   "id": "ac8bfb17",
   "metadata": {},
   "outputs": [
    {
     "name": "stdout",
     "output_type": "stream",
     "text": [
      "update: False\n",
      "os.path.exists(x&y csv): True\n",
      "...initializing SpecialTreatment\n",
      "\n",
      "...initializing DataAlignment\n",
      "\n",
      "...transforming SpecialTreatment \n",
      "\n",
      "...transforming DataAlignment \n",
      "\n",
      "...initializing GetStationary\n",
      "\n",
      "...transforming GetStationary \n",
      "\n",
      "M5650805 城镇调查失业率  too few data before 2014, need imputer\n",
      "M6424498 iCPI:总指数:环比  too few data before 2014, need imputer\n",
      "M6388362 投资景气指数:总体  too few data before 2014, need imputer\n",
      "M5515072 中期借贷便利(MLF):期末余额  too few data before 2014, need imputer\n",
      "M5639023 债券市场发行债券:国债  too few data before 2014, need imputer\n",
      "M6193259 新增投资者数量  too few data before 2014, need imputer\n",
      "M5543211 私募基金管理人:证券:家数  too few data before 2014, need imputer\n",
      "M5524546 资产管理业务总规模  too few data before 2014, need imputer\n",
      "Y0910594 万得一致预测:M1:同比  too few data before 2014, need imputer\n",
      "M0331593 万得一致预测:社会融资规模:当月值  too few data before 2014, need imputer\n",
      "M0329545 中期借贷便利(MLF):利率:1年  too few data before 2014, need imputer\n",
      "V7644905 美国:30年期抵押贷款固定利率与5年期抵押贷款浮动利率利差  too few data before 2014, need imputer\n",
      "G1100376 美国:商业预期:销售收入增长:平滑  too few data before 2014, need imputer\n",
      "G1100380 美国:商业不确定性:销售收入增长:平滑  too few data before 2014, need imputer\n",
      "M1016750 超额利差(中位数):全体产业债  too few data before 2014, need imputer\n",
      "M1016548 信用利差(中位数):产业债AA  too few data before 2014, need imputer\n",
      "M1016546 信用利差(中位数):产业债AAA  too few data before 2014, need imputer\n",
      "M1016545 信用利差(中位数):全体产业债  too few data before 2014, need imputer\n",
      "M1016710 信用利差(中位数):全体城投债  too few data before 2014, need imputer\n",
      "...initializing SeriesToSupervised\n",
      "\n",
      "...transforming SeriesToSupervised\n",
      "\n",
      "...Pre-processing finished\n",
      "\n",
      "data pickle saved\n"
     ]
    }
   ],
   "source": [
    "X, y_ret = utils.get_preproc_data(PATH_ORI_DATA, if_update, use_cache, use_lag_x, align_to, begT, endT)\n",
    "if if_cls:\n",
    "    y_cls = utils.reg_to_class(y_ret, 3)\n",
    "    y = y_cls\n",
    "else:\n",
    "    y = y_ret"
   ]
  },
  {
   "cell_type": "code",
   "execution_count": 14,
   "id": "3d5acca3",
   "metadata": {
    "scrolled": true
   },
   "outputs": [
    {
     "name": "stdout",
     "output_type": "stream",
     "text": [
      "/nTRAIN period: 2006-12 -> 2014-01 \n",
      "Start training.......................\n",
      "model 0 pickle loaded\n",
      "model 1 pickle loaded\n",
      "model 2 pickle loaded\n",
      "model 3 pickle loaded\n",
      "model 4 pickle loaded\n",
      "model 5 pickle loaded\n",
      "model 6 pickle loaded\n",
      "model 7 pickle loaded\n",
      "model 8 pickle loaded\n",
      "model 9 pickle loaded\n",
      "/nTRAIN period: 2006-12 -> 2015-06 \n",
      "Start training.......................\n",
      "model 0 pickle loaded\n",
      "model 1 pickle loaded\n",
      "model 2 pickle loaded\n",
      "model 3 pickle loaded\n",
      "model 4 pickle loaded\n",
      "model 5 pickle loaded\n",
      "model 6 pickle loaded\n",
      "model 7 pickle loaded\n",
      "model 8 pickle loaded\n",
      "model 9 pickle loaded\n",
      "/nTRAIN period: 2006-12 -> 2016-11 \n",
      "Start training.......................\n",
      "model 0 pickle loaded\n",
      "model 1 pickle loaded\n",
      "model 2 pickle loaded\n",
      "model 3 pickle loaded\n",
      "model 4 pickle loaded\n",
      "model 5 pickle loaded\n",
      "model 6 pickle loaded\n",
      "model 7 pickle loaded\n",
      "model 8 pickle loaded\n",
      "model 9 pickle loaded\n",
      "/nTRAIN period: 2006-12 -> 2018-04 \n",
      "Start training.......................\n",
      "model 0 pickle loaded\n",
      "model 1 pickle loaded\n",
      "model 2 pickle loaded\n",
      "model 3 pickle loaded\n",
      "model 4 pickle loaded\n",
      "model 5 pickle loaded\n",
      "model 6 pickle loaded\n",
      "model 7 pickle loaded\n",
      "model 8 pickle loaded\n",
      "model 9 pickle loaded\n",
      "/nTRAIN period: 2006-12 -> 2019-09 \n",
      "Start training.......................\n",
      "model 0 pickle loaded\n",
      "model 1 pickle loaded\n",
      "model 2 pickle loaded\n",
      "model 3 pickle loaded\n",
      "model 4 pickle loaded\n",
      "model 5 pickle loaded\n",
      "model 6 pickle loaded\n",
      "model 7 pickle loaded\n",
      "model 8 pickle loaded\n",
      "model 9 pickle loaded\n",
      "/nTRAIN period: 2006-12 -> 2021-02 \n",
      "Start training.......................\n",
      "model 0 pickle loaded\n",
      "model 1 pickle loaded\n",
      "model 2 pickle loaded\n",
      "model 3 pickle loaded\n",
      "model 4 pickle loaded\n",
      "model 5 pickle loaded\n",
      "model 6 pickle loaded\n",
      "model 7 pickle loaded\n",
      "model 8 pickle loaded\n",
      "model 9 pickle loaded\n"
     ]
    }
   ],
   "source": [
    "tscv = TimeSeriesSplit(n_splits=n_splits)\n",
    "models_list = []\n",
    "# 原始的Xy切片之前一定要deepcopy，否则可能莫名其妙篡改原始数据\n",
    "for train_index, test_index in tscv.split(X):\n",
    "    if X.index[len(train_index)] < pd.Period('2014-1'):\n",
    "        continue\n",
    "    else:\n",
    "        X_train, y_train = X.copy(deep=True).iloc[train_index, :], y.copy(deep=True).iloc[train_index, :]\n",
    "        print(\"/nTRAIN period:\", str(X_train.index[0]), '->', str(X_train.index[-1]), \"\\nStart training.......................\")\n",
    "        # 因为每个split筛选出的特征不一样，所以必须重新get dump，为了节省时间调试可以False force_train\n",
    "        models = utils_train.get_models_dump(X_train, y_train, version='cls', force_train=False)\n",
    "        models_list.append(models)"
   ]
  },
  {
   "cell_type": "code",
   "execution_count": 15,
   "id": "6bd31227",
   "metadata": {},
   "outputs": [
    {
     "name": "stdout",
     "output_type": "stream",
     "text": [
      "\n",
      "TEST period: 2014-02 -> 2015-06 \n",
      "Start testing...........................\n",
      "predicting test set for asset 0\n",
      "...transforming MacroFE\n",
      "\n",
      "第0个资产的样本外 accuracy score: 0.35294117647058826\n",
      "predicting test set for asset 1\n",
      "...transforming MacroFE\n",
      "\n",
      "第1个资产的样本外 accuracy score: 0.47058823529411764\n",
      "predicting test set for asset 2\n",
      "...transforming MacroFE\n",
      "\n",
      "第2个资产的样本外 accuracy score: 0.23529411764705882\n",
      "predicting test set for asset 3\n",
      "...transforming MacroFE\n",
      "\n",
      "第3个资产的样本外 accuracy score: 0.29411764705882354\n",
      "predicting test set for asset 4\n",
      "...transforming MacroFE\n",
      "\n",
      "第4个资产的样本外 accuracy score: 0.35294117647058826\n",
      "predicting test set for asset 5\n",
      "...transforming MacroFE\n",
      "\n",
      "第5个资产的样本外 accuracy score: 0.5294117647058824\n",
      "predicting test set for asset 6\n",
      "...transforming MacroFE\n",
      "\n",
      "第6个资产的样本外 accuracy score: 0.35294117647058826\n",
      "predicting test set for asset 7\n",
      "...transforming MacroFE\n",
      "\n",
      "第7个资产的样本外 accuracy score: 0.35294117647058826\n",
      "predicting test set for asset 8\n",
      "...transforming MacroFE\n",
      "\n",
      "第8个资产的样本外 accuracy score: 0.29411764705882354\n",
      "predicting test set for asset 9\n",
      "...transforming MacroFE\n",
      "\n",
      "第9个资产的样本外 accuracy score: 0.6470588235294118\n",
      "Test period: 2014-02 -> 2015-06 的年化超额收益为: return    0.00491\n",
      "dtype: float64\n",
      "\n",
      "TEST period: 2015-07 -> 2016-11 \n",
      "Start testing...........................\n",
      "predicting test set for asset 0\n",
      "...transforming MacroFE\n",
      "\n",
      "第0个资产的样本外 accuracy score: 0.4117647058823529\n",
      "predicting test set for asset 1\n",
      "...transforming MacroFE\n",
      "\n",
      "第1个资产的样本外 accuracy score: 0.4117647058823529\n",
      "predicting test set for asset 2\n",
      "...transforming MacroFE\n",
      "\n",
      "第2个资产的样本外 accuracy score: 0.29411764705882354\n",
      "predicting test set for asset 3\n",
      "...transforming MacroFE\n",
      "\n",
      "第3个资产的样本外 accuracy score: 0.35294117647058826\n",
      "predicting test set for asset 4\n",
      "...transforming MacroFE\n",
      "\n",
      "第4个资产的样本外 accuracy score: 0.35294117647058826\n",
      "predicting test set for asset 5\n",
      "...transforming MacroFE\n",
      "\n",
      "第5个资产的样本外 accuracy score: 0.23529411764705882\n",
      "predicting test set for asset 6\n",
      "...transforming MacroFE\n",
      "\n",
      "第6个资产的样本外 accuracy score: 0.29411764705882354\n",
      "predicting test set for asset 7\n",
      "...transforming MacroFE\n",
      "\n",
      "第7个资产的样本外 accuracy score: 0.11764705882352941\n",
      "predicting test set for asset 8\n",
      "...transforming MacroFE\n",
      "\n",
      "第8个资产的样本外 accuracy score: 0.4117647058823529\n",
      "predicting test set for asset 9\n",
      "...transforming MacroFE\n",
      "\n",
      "第9个资产的样本外 accuracy score: 0.23529411764705882\n",
      "Test period: 2015-07 -> 2016-11 的年化超额收益为: return   -0.132564\n",
      "dtype: float64\n",
      "\n",
      "TEST period: 2016-12 -> 2018-04 \n",
      "Start testing...........................\n",
      "predicting test set for asset 0\n",
      "...transforming MacroFE\n",
      "\n"
     ]
    },
    {
     "name": "stderr",
     "output_type": "stream",
     "text": [
      "\n",
      "KeyboardInterrupt\n",
      "\n"
     ]
    }
   ],
   "source": [
    "evalor_list = []\n",
    "i = 0\n",
    "for train_index, test_index in tscv.split(X):\n",
    "    if X.index[len(train_index)] < pd.Period('2014-1'):\n",
    "        continue\n",
    "    else:\n",
    "        X_train, X_test = X.copy(deep=True).iloc[train_index, :], X.copy(deep=True).iloc[test_index, :]\n",
    "        y_train, y_test = y.copy(deep=True).iloc[train_index, :], y.copy(deep=True).iloc[test_index, :]\n",
    "        y_test_ret = y_ret.copy(deep=True).loc[y_test.index, :]\n",
    "        print(\"\\nTEST period:\", str(X_test.index[0]), '->', str(X_test.index[-1]), \"\\nStart testing...........................\")\n",
    "        # 增加测试集长度使得FE得以进行\n",
    "        X_test_long = utils.add_2years_test(X_train, X_test)\n",
    "        evalor = Evaluator(models_list[i], if_cls, X_test_long, y_test, y_test_ret, X_train, y_train)\n",
    "        i += 1\n",
    "        evalor_list.append(evalor)\n",
    "        print(\"Test period:\", str(X_test.index[0]), '->', str(X_test.index[-1]), \"的年化超额收益为:\", str(evalor.excess_ann_ret))\n",
    "        "
   ]
  },
  {
   "cell_type": "code",
   "execution_count": 5,
   "id": "f052438f",
   "metadata": {},
   "outputs": [],
   "source": [
    "exc_rets = [i.excess_ann_ret for i in evalor_list]\n",
    "port_ws, bench_ws = [i.port_worth for i in evalor_list], [i.bench_worth for i in evalor_list]\n",
    "scoress = [i.scores for i in evalor_list]"
   ]
  },
  {
   "cell_type": "code",
   "execution_count": 6,
   "id": "eb2b4de4",
   "metadata": {},
   "outputs": [
    {
     "name": "stdout",
     "output_type": "stream",
     "text": [
      "2014-02 -> 2015-06 的年化超额收益为:\n",
      "return    0.051303\n",
      "dtype: float64\n",
      "2015-07 -> 2016-11 的年化超额收益为:\n",
      "return    0.249273\n",
      "dtype: float64\n",
      "2016-12 -> 2018-04 的年化超额收益为:\n",
      "return    0.082395\n",
      "dtype: float64\n",
      "2018-05 -> 2019-09 的年化超额收益为:\n",
      "return    0.148503\n",
      "dtype: float64\n",
      "2019-10 -> 2021-02 的年化超额收益为:\n",
      "return    0.235481\n",
      "dtype: float64\n",
      "2021-03 -> 2022-07 的年化超额收益为:\n",
      "return    0.003371\n",
      "dtype: float64\n"
     ]
    }
   ],
   "source": [
    "for i in range(0, len(exc_rets)):    \n",
    "    print(str(port_ws[i].index[0]), '->', str(port_ws[i].index[-1]), \"的年化超额收益为:\")\n",
    "    print(exc_rets[i])"
   ]
  },
  {
   "cell_type": "code",
   "execution_count": 7,
   "id": "2201a154",
   "metadata": {},
   "outputs": [
    {
     "data": {
      "text/html": [
       "<div>\n",
       "<style scoped>\n",
       "    .dataframe tbody tr th:only-of-type {\n",
       "        vertical-align: middle;\n",
       "    }\n",
       "\n",
       "    .dataframe tbody tr th {\n",
       "        vertical-align: top;\n",
       "    }\n",
       "\n",
       "    .dataframe thead th {\n",
       "        text-align: right;\n",
       "    }\n",
       "</style>\n",
       "<table border=\"1\" class=\"dataframe\">\n",
       "  <thead>\n",
       "    <tr style=\"text-align: right;\">\n",
       "      <th></th>\n",
       "      <th>0</th>\n",
       "      <th>0</th>\n",
       "      <th>0</th>\n",
       "      <th>0</th>\n",
       "      <th>0</th>\n",
       "      <th>0</th>\n",
       "    </tr>\n",
       "  </thead>\n",
       "  <tbody>\n",
       "    <tr>\n",
       "      <th>第0个资产:</th>\n",
       "      <td>0.235294</td>\n",
       "      <td>0.470588</td>\n",
       "      <td>0.411765</td>\n",
       "      <td>0.470588</td>\n",
       "      <td>0.411765</td>\n",
       "      <td>0.470588</td>\n",
       "    </tr>\n",
       "    <tr>\n",
       "      <th>第1个资产:</th>\n",
       "      <td>0.235294</td>\n",
       "      <td>0.411765</td>\n",
       "      <td>0.470588</td>\n",
       "      <td>0.352941</td>\n",
       "      <td>0.294118</td>\n",
       "      <td>0.294118</td>\n",
       "    </tr>\n",
       "    <tr>\n",
       "      <th>第2个资产:</th>\n",
       "      <td>0.411765</td>\n",
       "      <td>0.176471</td>\n",
       "      <td>0.235294</td>\n",
       "      <td>0.352941</td>\n",
       "      <td>0.294118</td>\n",
       "      <td>0.352941</td>\n",
       "    </tr>\n",
       "    <tr>\n",
       "      <th>第3个资产:</th>\n",
       "      <td>0.411765</td>\n",
       "      <td>0.235294</td>\n",
       "      <td>0.411765</td>\n",
       "      <td>0.529412</td>\n",
       "      <td>0.411765</td>\n",
       "      <td>0.470588</td>\n",
       "    </tr>\n",
       "    <tr>\n",
       "      <th>第4个资产:</th>\n",
       "      <td>0.411765</td>\n",
       "      <td>0.352941</td>\n",
       "      <td>0.352941</td>\n",
       "      <td>0.411765</td>\n",
       "      <td>0.588235</td>\n",
       "      <td>0.294118</td>\n",
       "    </tr>\n",
       "    <tr>\n",
       "      <th>第5个资产:</th>\n",
       "      <td>0.470588</td>\n",
       "      <td>0.588235</td>\n",
       "      <td>0.352941</td>\n",
       "      <td>0.411765</td>\n",
       "      <td>0.294118</td>\n",
       "      <td>0.235294</td>\n",
       "    </tr>\n",
       "    <tr>\n",
       "      <th>第6个资产:</th>\n",
       "      <td>0.529412</td>\n",
       "      <td>0.294118</td>\n",
       "      <td>0.294118</td>\n",
       "      <td>0.117647</td>\n",
       "      <td>0.470588</td>\n",
       "      <td>0.176471</td>\n",
       "    </tr>\n",
       "    <tr>\n",
       "      <th>第7个资产:</th>\n",
       "      <td>0.352941</td>\n",
       "      <td>0.235294</td>\n",
       "      <td>0.352941</td>\n",
       "      <td>0.235294</td>\n",
       "      <td>0.176471</td>\n",
       "      <td>0.294118</td>\n",
       "    </tr>\n",
       "    <tr>\n",
       "      <th>第8个资产:</th>\n",
       "      <td>0.411765</td>\n",
       "      <td>0.411765</td>\n",
       "      <td>0.411765</td>\n",
       "      <td>0.294118</td>\n",
       "      <td>0.235294</td>\n",
       "      <td>0.470588</td>\n",
       "    </tr>\n",
       "    <tr>\n",
       "      <th>第9个资产:</th>\n",
       "      <td>1.000000</td>\n",
       "      <td>1.000000</td>\n",
       "      <td>1.000000</td>\n",
       "      <td>1.000000</td>\n",
       "      <td>1.000000</td>\n",
       "      <td>0.411765</td>\n",
       "    </tr>\n",
       "  </tbody>\n",
       "</table>\n",
       "</div>"
      ],
      "text/plain": [
       "               0         0         0         0         0         0\n",
       "第0个资产:  0.235294  0.470588  0.411765  0.470588  0.411765  0.470588\n",
       "第1个资产:  0.235294  0.411765  0.470588  0.352941  0.294118  0.294118\n",
       "第2个资产:  0.411765  0.176471  0.235294  0.352941  0.294118  0.352941\n",
       "第3个资产:  0.411765  0.235294  0.411765  0.529412  0.411765  0.470588\n",
       "第4个资产:  0.411765  0.352941  0.352941  0.411765  0.588235  0.294118\n",
       "第5个资产:  0.470588  0.588235  0.352941  0.411765  0.294118  0.235294\n",
       "第6个资产:  0.529412  0.294118  0.294118  0.117647  0.470588  0.176471\n",
       "第7个资产:  0.352941  0.235294  0.352941  0.235294  0.176471  0.294118\n",
       "第8个资产:  0.411765  0.411765  0.411765  0.294118  0.235294  0.470588\n",
       "第9个资产:  1.000000  1.000000  1.000000  1.000000  1.000000  0.411765"
      ]
     },
     "execution_count": 7,
     "metadata": {},
     "output_type": "execute_result"
    }
   ],
   "source": [
    "score_df = pd.DataFrame()\n",
    "for i in scoress:\n",
    "    score_df = pd.concat([score_df, pd.Series(i)], axis=1)\n",
    "score_df"
   ]
  },
  {
   "cell_type": "code",
   "execution_count": 8,
   "id": "3e917689",
   "metadata": {},
   "outputs": [
    {
     "name": "stdout",
     "output_type": "stream",
     "text": [
      "第0个资产:\n",
      "0.411764705882353\n",
      "第1个资产:\n",
      "0.34313725490196084\n",
      "第2个资产:\n",
      "0.303921568627451\n",
      "第3个资产:\n",
      "0.41176470588235287\n",
      "第4个资产:\n",
      "0.40196078431372545\n",
      "第5个资产:\n",
      "0.39215686274509803\n",
      "第6个资产:\n",
      "0.3137254901960785\n",
      "第7个资产:\n",
      "0.27450980392156865\n",
      "第8个资产:\n",
      "0.37254901960784315\n",
      "第9个资产:\n",
      "0.9019607843137255\n"
     ]
    }
   ],
   "source": [
    "for id, row in score_df.iterrows():\n",
    "    print(id)\n",
    "    print(row.mean())"
   ]
  },
  {
   "cell_type": "code",
   "execution_count": 9,
   "id": "b4995d54",
   "metadata": {},
   "outputs": [
    {
     "data": {
      "text/plain": [
       "[]"
      ]
     },
     "execution_count": 9,
     "metadata": {},
     "output_type": "execute_result"
    },
    {
     "data": {
      "image/png": "[encoded data removed]",
      "text/plain": [
       "<Figure size 1080x576 with 1 Axes>"
      ]
     },
     "metadata": {
      "needs_background": "light"
     },
     "output_type": "display_data"
    }
   ],
   "source": [
    "fig, ax = plt.subplots(figsize=(15,8))\n",
    "for pw in port_ws:\n",
    "    pw.columns = ['port_worth']\n",
    "    pw.plot.line(ax=ax, color='r')\n",
    "for bw in bench_ws:\n",
    "    bw.columns = ['bench_worth']\n",
    "    bw.plot(ax=ax, color='b')\n",
    "\n",
    "ax.plot()"
   ]
  },
  {
   "cell_type": "code",
   "execution_count": 20,
   "id": "d924fa64",
   "metadata": {},
   "outputs": [],
   "source": [
    "con_pws = ev.get_continue_worth(port_ws)\n",
    "con_bws = ev.get_continue_worth(bench_ws)"
   ]
  },
  {
   "cell_type": "code",
   "execution_count": 21,
   "id": "53adba12",
   "metadata": {},
   "outputs": [
    {
     "data": {
      "text/plain": [
       "[]"
      ]
     },
     "execution_count": 21,
     "metadata": {},
     "output_type": "execute_result"
    },
    {
     "data": {
      "image/png": "[encoded data removed]",
      "text/plain": [
       "<Figure size 1080x576 with 1 Axes>"
      ]
     },
     "metadata": {
      "needs_background": "light"
     },
     "output_type": "display_data"
    }
   ],
   "source": [
    "fig, ax = plt.subplots(figsize=(15,8))\n",
    "for pw in con_pws:\n",
    "    pw.columns = ['port_worth']\n",
    "    pw.plot.line(ax=ax, color='r')\n",
    "for bw in con_bws:\n",
    "    bw.columns = ['bench_worth']\n",
    "    bw.plot(ax=ax, color='b')\n",
    "\n",
    "ax.plot()"
   ]
  },
  {
   "cell_type": "code",
   "execution_count": null,
   "id": "d1f00fe4",
   "metadata": {},
   "outputs": [],
   "source": []
  }
 ],
 "metadata": {
  "kernelspec": {
   "display_name": "Python 3 (ipykernel)",
   "language": "python",
   "name": "python3"
  },
  "language_info": {
   "codemirror_mode": {
    "name": "ipython",
    "version": 3
   },
   "file_extension": ".py",
   "mimetype": "text/x-python",
   "name": "python",
   "nbconvert_exporter": "python",
   "pygments_lexer": "ipython3",
   "version": "3.10.4"
  },
  "varInspector": {
   "cols": {
    "lenName": 16,
    "lenType": 16,
    "lenVar": 40
   },
   "kernels_config": {
    "python": {
     "delete_cmd_postfix": "",
     "delete_cmd_prefix": "del ",
     "library": "var_list.py",
     "varRefreshCmd": "print(var_dic_list())"
    },
    "r": {
     "delete_cmd_postfix": ") ",
     "delete_cmd_prefix": "rm(",
     "library": "var_list.r",
     "varRefreshCmd": "cat(var_dic_list()) "
    }
   },
   "types_to_exclude": [
    "module",
    "function",
    "builtin_function_or_method",
    "instance",
    "_Feature"
   ],
   "window_display": false
  }
 },
 "nbformat": 4,
 "nbformat_minor": 5
}
