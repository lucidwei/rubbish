{
 "cells": [
  {
   "cell_type": "code",
   "execution_count": 1,
   "id": "13524989",
   "metadata": {},
   "outputs": [
    {
     "name": "stderr",
     "output_type": "stream",
     "text": [
      "/Users/Gary/opt/anaconda3/envs/MLenv/lib/python3.9/site-packages/scipy/__init__.py:146: UserWarning: A NumPy version >=1.16.5 and <1.23.0 is required for this version of SciPy (detected version 1.23.3\n",
      "  warnings.warn(f\"A NumPy version >={np_minversion} and <{np_maxversion}\"\n",
      "/Users/Gary/opt/anaconda3/envs/MLenv/lib/python3.9/site-packages/tpot/builtins/__init__.py:36: UserWarning: Warning: optional dependency `torch` is not available. - skipping import of NN models.\n",
      "  warnings.warn(\"Warning: optional dependency `torch` is not available. - skipping import of NN models.\")\n"
     ]
    }
   ],
   "source": [
    "# coding=gbk\n",
    "import os\n",
    "os.chdir(\"..\")\n",
    "# Press Double Shift to search everywhere for classes, files, tool windows, actions, and settings.\n",
    "import pickle, datetime, copy\n",
    "from sklearn.model_selection import train_test_split, TimeSeriesSplit\n",
    "import matplotlib.pyplot as plt\n",
    "import pandas as pd\n",
    "import utils, utils_eda, evaluator, utils_train\n",
    "from evaluator import Evaluator\n",
    "\n",
    "# Configuration\n",
    "PATH_ORI_DATA = r'C:\\Users\\lucid\\Documents\\长江实习\\课题之自上而下\\data'\n",
    "## 原始数据文件是否已经更新\n",
    "if_update = False\n",
    "## 预处理逻辑(参数)变更/缓存的pickle需要更新时，设为False\n",
    "####一定要注意利用的数据格式，避免用本月行情预测本月行情。\n",
    "use_cache = False\n",
    "if_cls = True\n",
    "## 预处理参数\n",
    "align_to = 'month'\n",
    "use_lag_x = 15\n",
    "begT = '2004-01'\n",
    "endT = datetime.date.today()"
   ]
  },
  {
   "cell_type": "code",
   "execution_count": 2,
   "id": "ac8bfb17",
   "metadata": {},
   "outputs": [
    {
     "name": "stdout",
     "output_type": "stream",
     "text": [
      "update: False\n",
      "os.path.exists(x&y csv): True\n",
      "...initializing SpecialTreatment\n",
      "\n",
      "...initializing DataAlignment\n",
      "\n",
      "...transforming SpecialTreatment \n",
      "\n",
      "...transforming DataAlignment \n",
      "\n",
      "...initializing GetStationary\n",
      "\n",
      "...transforming GetStationary \n",
      "\n",
      "M5650805 城镇调查失业率  too few data before 2014, need imputer\n",
      "M6424498 iCPI:总指数:环比  too few data before 2014, need imputer\n",
      "M6388362 投资景气指数:总体  too few data before 2014, need imputer\n",
      "M5515072 中期借贷便利(MLF):期末余额  too few data before 2014, need imputer\n",
      "M5639023 债券市场发行债券:国债  too few data before 2014, need imputer\n",
      "M6193259 新增投资者数量  too few data before 2014, need imputer\n",
      "M5543211 私募基金管理人:证券:家数  too few data before 2014, need imputer\n",
      "M5524546 资产管理业务总规模  too few data before 2014, need imputer\n",
      "Y0910594 万得一致预测:M1:同比  too few data before 2014, need imputer\n",
      "M0331593 万得一致预测:社会融资规模:当月值  too few data before 2014, need imputer\n",
      "M0329545 中期借贷便利(MLF):利率:1年  too few data before 2014, need imputer\n",
      "V7644905 美国:30年期抵押贷款固定利率与5年期抵押贷款浮动利率利差  too few data before 2014, need imputer\n",
      "G1100376 美国:商业预期:销售收入增长:平滑  too few data before 2014, need imputer\n",
      "G1100380 美国:商业不确定性:销售收入增长:平滑  too few data before 2014, need imputer\n",
      "M1016750 超额利差(中位数):全体产业债  too few data before 2014, need imputer\n",
      "M1016548 信用利差(中位数):产业债AA  too few data before 2014, need imputer\n",
      "M1016546 信用利差(中位数):产业债AAA  too few data before 2014, need imputer\n",
      "M1016545 信用利差(中位数):全体产业债  too few data before 2014, need imputer\n",
      "M1016710 信用利差(中位数):全体城投债  too few data before 2014, need imputer\n",
      "...initializing SeriesToSupervised\n",
      "\n",
      "...transforming SeriesToSupervised\n",
      "\n",
      "...Pre-processing finished\n",
      "\n",
      "data pickle saved\n"
     ]
    }
   ],
   "source": [
    "X, y_ret = utils.get_preproc_data(PATH_ORI_DATA, if_update, use_cache, use_lag_x, align_to, begT, endT)\n",
    "if if_cls:\n",
    "    y_cls = utils.reg_to_class(y_ret, 3)\n",
    "    y = y_cls\n",
    "else:\n",
    "    y = y_ret"
   ]
  },
  {
   "cell_type": "code",
   "execution_count": 3,
   "id": "3d5acca3",
   "metadata": {
    "scrolled": true
   },
   "outputs": [
    {
     "name": "stdout",
     "output_type": "stream",
     "text": [
      "/nTRAIN period: 2006-12 -> 2014-01 \n",
      "Start.......................\n",
      "...initializing MacroFE\n",
      "\n"
     ]
    },
    {
     "name": "stderr",
     "output_type": "stream",
     "text": [
      "/Users/Gary/opt/anaconda3/envs/MLenv/lib/python3.9/site-packages/xgboost/compat.py:36: FutureWarning: pandas.Int64Index is deprecated and will be removed from pandas in a future version. Use pandas.Index with the appropriate dtype instead.\n",
      "  from pandas import MultiIndex, Int64Index\n"
     ]
    },
    {
     "name": "stdout",
     "output_type": "stream",
     "text": [
      "...transforming MacroFE\n",
      "\n"
     ]
    },
    {
     "name": "stderr",
     "output_type": "stream",
     "text": [
      "/Users/Gary/opt/anaconda3/envs/MLenv/lib/python3.9/site-packages/xgboost/sklearn.py:1224: UserWarning: The use of label encoder in XGBClassifier is deprecated and will be removed in a future release. To remove this warning, do the following: 1) Pass option use_label_encoder=False when constructing XGBClassifier object; and 2) Encode your labels (y) as integers starting with 0, i.e. 0, 1, 2, ..., [num_class - 1].\n",
      "  warnings.warn(label_encoder_deprecation_msg, UserWarning)\n"
     ]
    },
    {
     "name": "stdout",
     "output_type": "stream",
     "text": [
      "model 0 pickle saved and appended\n",
      "...transforming MacroFE\n",
      "\n",
      "model 1 pickle saved and appended\n",
      "...transforming MacroFE\n",
      "\n",
      "model 2 pickle saved and appended\n",
      "...transforming MacroFE\n",
      "\n",
      "model 3 pickle saved and appended\n",
      "...transforming MacroFE\n",
      "\n",
      "model 4 pickle saved and appended\n",
      "...transforming MacroFE\n",
      "\n",
      "model 5 pickle saved and appended\n",
      "...transforming MacroFE\n",
      "\n",
      "model 6 pickle saved and appended\n",
      "...transforming MacroFE\n",
      "\n"
     ]
    },
    {
     "name": "stderr",
     "output_type": "stream",
     "text": [
      "/Users/Gary/opt/anaconda3/envs/MLenv/lib/python3.9/site-packages/sklearn/linear_model/_stochastic_gradient.py:173: FutureWarning: The loss 'log' was deprecated in v1.1 and will be removed in version 1.3. Use `loss='log_loss'` which is equivalent.\n",
      "  warnings.warn(\n"
     ]
    },
    {
     "name": "stdout",
     "output_type": "stream",
     "text": [
      "model 7 pickle saved and appended\n",
      "...transforming MacroFE\n",
      "\n",
      "model 8 pickle saved and appended\n",
      "...transforming MacroFE\n",
      "\n",
      "model 9 pickle saved and appended\n",
      "/nTRAIN period: 2006-12 -> 2015-06 \n",
      "Start.......................\n",
      "...transforming MacroFE\n",
      "\n"
     ]
    },
    {
     "name": "stderr",
     "output_type": "stream",
     "text": [
      "/Users/Gary/opt/anaconda3/envs/MLenv/lib/python3.9/site-packages/xgboost/sklearn.py:1224: UserWarning: The use of label encoder in XGBClassifier is deprecated and will be removed in a future release. To remove this warning, do the following: 1) Pass option use_label_encoder=False when constructing XGBClassifier object; and 2) Encode your labels (y) as integers starting with 0, i.e. 0, 1, 2, ..., [num_class - 1].\n",
      "  warnings.warn(label_encoder_deprecation_msg, UserWarning)\n"
     ]
    },
    {
     "name": "stdout",
     "output_type": "stream",
     "text": [
      "model 0 pickle saved and appended\n",
      "...transforming MacroFE\n",
      "\n",
      "model 1 pickle saved and appended\n",
      "...transforming MacroFE\n",
      "\n",
      "model 2 pickle saved and appended\n",
      "...transforming MacroFE\n",
      "\n",
      "model 3 pickle saved and appended\n",
      "...transforming MacroFE\n",
      "\n",
      "model 4 pickle saved and appended\n",
      "...transforming MacroFE\n",
      "\n",
      "model 5 pickle saved and appended\n",
      "...transforming MacroFE\n",
      "\n",
      "model 6 pickle saved and appended\n",
      "...transforming MacroFE\n",
      "\n"
     ]
    },
    {
     "name": "stderr",
     "output_type": "stream",
     "text": [
      "/Users/Gary/opt/anaconda3/envs/MLenv/lib/python3.9/site-packages/sklearn/linear_model/_stochastic_gradient.py:173: FutureWarning: The loss 'log' was deprecated in v1.1 and will be removed in version 1.3. Use `loss='log_loss'` which is equivalent.\n",
      "  warnings.warn(\n"
     ]
    },
    {
     "name": "stdout",
     "output_type": "stream",
     "text": [
      "model 7 pickle saved and appended\n",
      "...transforming MacroFE\n",
      "\n",
      "model 8 pickle saved and appended\n",
      "...transforming MacroFE\n",
      "\n",
      "model 9 pickle saved and appended\n",
      "/nTRAIN period: 2006-12 -> 2016-11 \n",
      "Start.......................\n",
      "...transforming MacroFE\n",
      "\n"
     ]
    },
    {
     "name": "stderr",
     "output_type": "stream",
     "text": [
      "/Users/Gary/opt/anaconda3/envs/MLenv/lib/python3.9/site-packages/xgboost/sklearn.py:1224: UserWarning: The use of label encoder in XGBClassifier is deprecated and will be removed in a future release. To remove this warning, do the following: 1) Pass option use_label_encoder=False when constructing XGBClassifier object; and 2) Encode your labels (y) as integers starting with 0, i.e. 0, 1, 2, ..., [num_class - 1].\n",
      "  warnings.warn(label_encoder_deprecation_msg, UserWarning)\n"
     ]
    },
    {
     "name": "stdout",
     "output_type": "stream",
     "text": [
      "model 0 pickle saved and appended\n",
      "...transforming MacroFE\n",
      "\n",
      "model 1 pickle saved and appended\n",
      "...transforming MacroFE\n",
      "\n",
      "model 2 pickle saved and appended\n",
      "...transforming MacroFE\n",
      "\n",
      "model 3 pickle saved and appended\n",
      "...transforming MacroFE\n",
      "\n",
      "model 4 pickle saved and appended\n",
      "...transforming MacroFE\n",
      "\n",
      "model 5 pickle saved and appended\n",
      "...transforming MacroFE\n",
      "\n",
      "model 6 pickle saved and appended\n",
      "...transforming MacroFE\n",
      "\n"
     ]
    },
    {
     "name": "stderr",
     "output_type": "stream",
     "text": [
      "/Users/Gary/opt/anaconda3/envs/MLenv/lib/python3.9/site-packages/sklearn/linear_model/_stochastic_gradient.py:173: FutureWarning: The loss 'log' was deprecated in v1.1 and will be removed in version 1.3. Use `loss='log_loss'` which is equivalent.\n",
      "  warnings.warn(\n"
     ]
    },
    {
     "name": "stdout",
     "output_type": "stream",
     "text": [
      "model 7 pickle saved and appended\n",
      "...transforming MacroFE\n",
      "\n",
      "model 8 pickle saved and appended\n",
      "...transforming MacroFE\n",
      "\n",
      "model 9 pickle saved and appended\n",
      "/nTRAIN period: 2006-12 -> 2018-04 \n",
      "Start.......................\n",
      "...transforming MacroFE\n",
      "\n"
     ]
    },
    {
     "name": "stderr",
     "output_type": "stream",
     "text": [
      "/Users/Gary/opt/anaconda3/envs/MLenv/lib/python3.9/site-packages/xgboost/sklearn.py:1224: UserWarning: The use of label encoder in XGBClassifier is deprecated and will be removed in a future release. To remove this warning, do the following: 1) Pass option use_label_encoder=False when constructing XGBClassifier object; and 2) Encode your labels (y) as integers starting with 0, i.e. 0, 1, 2, ..., [num_class - 1].\n",
      "  warnings.warn(label_encoder_deprecation_msg, UserWarning)\n"
     ]
    },
    {
     "name": "stdout",
     "output_type": "stream",
     "text": [
      "model 0 pickle saved and appended\n",
      "...transforming MacroFE\n",
      "\n",
      "model 1 pickle saved and appended\n",
      "...transforming MacroFE\n",
      "\n",
      "model 2 pickle saved and appended\n",
      "...transforming MacroFE\n",
      "\n",
      "model 3 pickle saved and appended\n",
      "...transforming MacroFE\n",
      "\n",
      "model 4 pickle saved and appended\n",
      "...transforming MacroFE\n",
      "\n",
      "model 5 pickle saved and appended\n",
      "...transforming MacroFE\n",
      "\n",
      "model 6 pickle saved and appended\n",
      "...transforming MacroFE\n",
      "\n"
     ]
    },
    {
     "name": "stderr",
     "output_type": "stream",
     "text": [
      "/Users/Gary/opt/anaconda3/envs/MLenv/lib/python3.9/site-packages/sklearn/linear_model/_stochastic_gradient.py:173: FutureWarning: The loss 'log' was deprecated in v1.1 and will be removed in version 1.3. Use `loss='log_loss'` which is equivalent.\n",
      "  warnings.warn(\n"
     ]
    },
    {
     "name": "stdout",
     "output_type": "stream",
     "text": [
      "model 7 pickle saved and appended\n",
      "...transforming MacroFE\n",
      "\n",
      "model 8 pickle saved and appended\n",
      "...transforming MacroFE\n",
      "\n",
      "model 9 pickle saved and appended\n",
      "/nTRAIN period: 2006-12 -> 2019-09 \n",
      "Start.......................\n",
      "...transforming MacroFE\n",
      "\n"
     ]
    },
    {
     "name": "stderr",
     "output_type": "stream",
     "text": [
      "/Users/Gary/opt/anaconda3/envs/MLenv/lib/python3.9/site-packages/xgboost/sklearn.py:1224: UserWarning: The use of label encoder in XGBClassifier is deprecated and will be removed in a future release. To remove this warning, do the following: 1) Pass option use_label_encoder=False when constructing XGBClassifier object; and 2) Encode your labels (y) as integers starting with 0, i.e. 0, 1, 2, ..., [num_class - 1].\n",
      "  warnings.warn(label_encoder_deprecation_msg, UserWarning)\n"
     ]
    },
    {
     "name": "stdout",
     "output_type": "stream",
     "text": [
      "model 0 pickle saved and appended\n",
      "...transforming MacroFE\n",
      "\n",
      "model 1 pickle saved and appended\n",
      "...transforming MacroFE\n",
      "\n",
      "model 2 pickle saved and appended\n",
      "...transforming MacroFE\n",
      "\n",
      "model 3 pickle saved and appended\n",
      "...transforming MacroFE\n",
      "\n",
      "model 4 pickle saved and appended\n",
      "...transforming MacroFE\n",
      "\n",
      "model 5 pickle saved and appended\n",
      "...transforming MacroFE\n",
      "\n",
      "model 6 pickle saved and appended\n",
      "...transforming MacroFE\n",
      "\n"
     ]
    },
    {
     "name": "stderr",
     "output_type": "stream",
     "text": [
      "/Users/Gary/opt/anaconda3/envs/MLenv/lib/python3.9/site-packages/sklearn/linear_model/_stochastic_gradient.py:173: FutureWarning: The loss 'log' was deprecated in v1.1 and will be removed in version 1.3. Use `loss='log_loss'` which is equivalent.\n",
      "  warnings.warn(\n"
     ]
    },
    {
     "name": "stdout",
     "output_type": "stream",
     "text": [
      "model 7 pickle saved and appended\n",
      "...transforming MacroFE\n",
      "\n",
      "model 8 pickle saved and appended\n",
      "...transforming MacroFE\n",
      "\n",
      "model 9 pickle saved and appended\n",
      "/nTRAIN period: 2006-12 -> 2021-02 \n",
      "Start.......................\n",
      "...transforming MacroFE\n",
      "\n"
     ]
    },
    {
     "name": "stderr",
     "output_type": "stream",
     "text": [
      "/Users/Gary/opt/anaconda3/envs/MLenv/lib/python3.9/site-packages/xgboost/sklearn.py:1224: UserWarning: The use of label encoder in XGBClassifier is deprecated and will be removed in a future release. To remove this warning, do the following: 1) Pass option use_label_encoder=False when constructing XGBClassifier object; and 2) Encode your labels (y) as integers starting with 0, i.e. 0, 1, 2, ..., [num_class - 1].\n",
      "  warnings.warn(label_encoder_deprecation_msg, UserWarning)\n"
     ]
    },
    {
     "name": "stdout",
     "output_type": "stream",
     "text": [
      "model 0 pickle saved and appended\n",
      "...transforming MacroFE\n",
      "\n",
      "model 1 pickle saved and appended\n",
      "...transforming MacroFE\n",
      "\n",
      "model 2 pickle saved and appended\n",
      "...transforming MacroFE\n",
      "\n",
      "model 3 pickle saved and appended\n",
      "...transforming MacroFE\n",
      "\n",
      "model 4 pickle saved and appended\n",
      "...transforming MacroFE\n",
      "\n",
      "model 5 pickle saved and appended\n",
      "...transforming MacroFE\n",
      "\n",
      "model 6 pickle saved and appended\n",
      "...transforming MacroFE\n",
      "\n"
     ]
    },
    {
     "name": "stderr",
     "output_type": "stream",
     "text": [
      "/Users/Gary/opt/anaconda3/envs/MLenv/lib/python3.9/site-packages/sklearn/linear_model/_stochastic_gradient.py:173: FutureWarning: The loss 'log' was deprecated in v1.1 and will be removed in version 1.3. Use `loss='log_loss'` which is equivalent.\n",
      "  warnings.warn(\n"
     ]
    },
    {
     "name": "stdout",
     "output_type": "stream",
     "text": [
      "model 7 pickle saved and appended\n",
      "...transforming MacroFE\n",
      "\n",
      "model 8 pickle saved and appended\n",
      "...transforming MacroFE\n",
      "\n",
      "model 9 pickle saved and appended\n"
     ]
    }
   ],
   "source": [
    "tscv = TimeSeriesSplit(n_splits=10)\n",
    "models_list = []\n",
    "for train_index, test_index in tscv.split(X):\n",
    "    if X.index[len(train_index)] < pd.Period('2014-1'):\n",
    "        continue\n",
    "    else:\n",
    "        X_train, X_test = X.iloc[train_index, :], X.iloc[test_index, :]\n",
    "        y_train, y_test = y.iloc[train_index, :], y.iloc[test_index, :]\n",
    "        y_return = y_ret.loc[y_test.index, :]\n",
    "        print(\"/nTRAIN period:\", str(X_train.index[0]), '->', str(X_train.index[-1]), \"\\nStart.......................\")\n",
    "        # 增加测试集长度使得FE得以进行\n",
    "        X_test_long = utils.add_2years_test(X_train, X_test)\n",
    "        # 因为每个split筛选出的特征不一样，所以必须重新get dump，为了节省时间调试可以False force_train\n",
    "        models = utils_train.get_models_dump(X_train, y_train, version='cls', force_train=True)\n",
    "        models_list.append(models)"
   ]
  },
  {
   "cell_type": "code",
   "execution_count": 4,
   "id": "6bd31227",
   "metadata": {},
   "outputs": [
    {
     "name": "stdout",
     "output_type": "stream",
     "text": [
      "\n",
      "TEST period: 2014-02 -> 2015-06 \n",
      "Start...........................\n",
      "predicting test set for asset 0\n",
      "...transforming MacroFE\n",
      "\n",
      "第0个资产的样本外 accuracy score: 0.5882352941176471\n",
      "predicting test set for asset 1\n",
      "...transforming MacroFE\n",
      "\n",
      "第1个资产的样本外 accuracy score: 0.29411764705882354\n",
      "predicting test set for asset 2\n",
      "...transforming MacroFE\n",
      "\n",
      "第2个资产的样本外 accuracy score: 0.29411764705882354\n",
      "predicting test set for asset 3\n",
      "...transforming MacroFE\n",
      "\n",
      "第3个资产的样本外 accuracy score: 0.35294117647058826\n",
      "predicting test set for asset 4\n",
      "...transforming MacroFE\n",
      "\n",
      "第4个资产的样本外 accuracy score: 0.11764705882352941\n",
      "predicting test set for asset 5\n",
      "...transforming MacroFE\n",
      "\n",
      "第5个资产的样本外 accuracy score: 0.5882352941176471\n",
      "predicting test set for asset 6\n",
      "...transforming MacroFE\n",
      "\n",
      "第6个资产的样本外 accuracy score: 0.35294117647058826\n",
      "predicting test set for asset 7\n",
      "...transforming MacroFE\n",
      "\n",
      "第7个资产的样本外 accuracy score: 0.23529411764705882\n",
      "predicting test set for asset 8\n",
      "...transforming MacroFE\n",
      "\n",
      "第8个资产的样本外 accuracy score: 0.11764705882352941\n",
      "predicting test set for asset 9\n",
      "...transforming MacroFE\n",
      "\n",
      "第9个资产的样本外 accuracy score: 1.0\n",
      "Test period: 2014-02 -> 2015-06 的年化超额收益为: return    0.093368\n",
      "dtype: float64\n",
      "\n",
      "TEST period: 2015-07 -> 2016-11 \n",
      "Start...........................\n",
      "predicting test set for asset 0\n",
      "...transforming MacroFE\n",
      "\n",
      "第0个资产的样本外 accuracy score: 0.29411764705882354\n",
      "predicting test set for asset 1\n",
      "...transforming MacroFE\n",
      "\n",
      "第1个资产的样本外 accuracy score: 0.29411764705882354\n",
      "predicting test set for asset 2\n",
      "...transforming MacroFE\n",
      "\n",
      "第2个资产的样本外 accuracy score: 0.17647058823529413\n",
      "predicting test set for asset 3\n",
      "...transforming MacroFE\n",
      "\n",
      "第3个资产的样本外 accuracy score: 0.23529411764705882\n",
      "predicting test set for asset 4\n",
      "...transforming MacroFE\n",
      "\n",
      "第4个资产的样本外 accuracy score: 0.29411764705882354\n",
      "predicting test set for asset 5\n",
      "...transforming MacroFE\n",
      "\n",
      "第5个资产的样本外 accuracy score: 0.35294117647058826\n",
      "predicting test set for asset 6\n",
      "...transforming MacroFE\n",
      "\n",
      "第6个资产的样本外 accuracy score: 0.47058823529411764\n",
      "predicting test set for asset 7\n",
      "...transforming MacroFE\n",
      "\n",
      "第7个资产的样本外 accuracy score: 0.23529411764705882\n",
      "predicting test set for asset 8\n",
      "...transforming MacroFE\n",
      "\n",
      "第8个资产的样本外 accuracy score: 0.23529411764705882\n",
      "predicting test set for asset 9\n",
      "...transforming MacroFE\n",
      "\n",
      "第9个资产的样本外 accuracy score: 1.0\n",
      "Test period: 2015-07 -> 2016-11 的年化超额收益为: return    0.055777\n",
      "dtype: float64\n",
      "\n",
      "TEST period: 2016-12 -> 2018-04 \n",
      "Start...........................\n",
      "predicting test set for asset 0\n",
      "...transforming MacroFE\n",
      "\n",
      "第0个资产的样本外 accuracy score: 0.29411764705882354\n",
      "predicting test set for asset 1\n",
      "...transforming MacroFE\n",
      "\n",
      "第1个资产的样本外 accuracy score: 0.35294117647058826\n",
      "predicting test set for asset 2\n",
      "...transforming MacroFE\n",
      "\n",
      "第2个资产的样本外 accuracy score: 0.23529411764705882\n",
      "predicting test set for asset 3\n",
      "...transforming MacroFE\n",
      "\n",
      "第3个资产的样本外 accuracy score: 0.17647058823529413\n",
      "predicting test set for asset 4\n",
      "...transforming MacroFE\n",
      "\n",
      "第4个资产的样本外 accuracy score: 0.35294117647058826\n",
      "predicting test set for asset 5\n",
      "...transforming MacroFE\n",
      "\n",
      "第5个资产的样本外 accuracy score: 0.29411764705882354\n",
      "predicting test set for asset 6\n",
      "...transforming MacroFE\n",
      "\n",
      "第6个资产的样本外 accuracy score: 0.35294117647058826\n",
      "predicting test set for asset 7\n",
      "...transforming MacroFE\n",
      "\n",
      "第7个资产的样本外 accuracy score: 0.23529411764705882\n",
      "predicting test set for asset 8\n",
      "...transforming MacroFE\n",
      "\n",
      "第8个资产的样本外 accuracy score: 0.35294117647058826\n",
      "predicting test set for asset 9\n",
      "...transforming MacroFE\n",
      "\n",
      "第9个资产的样本外 accuracy score: 1.0\n",
      "Test period: 2016-12 -> 2018-04 的年化超额收益为: return    0.048771\n",
      "dtype: float64\n",
      "\n",
      "TEST period: 2018-05 -> 2019-09 \n",
      "Start...........................\n",
      "predicting test set for asset 0\n",
      "...transforming MacroFE\n",
      "\n",
      "第0个资产的样本外 accuracy score: 0.47058823529411764\n",
      "predicting test set for asset 1\n",
      "...transforming MacroFE\n",
      "\n",
      "第1个资产的样本外 accuracy score: 0.47058823529411764\n",
      "predicting test set for asset 2\n",
      "...transforming MacroFE\n",
      "\n",
      "第2个资产的样本外 accuracy score: 0.4117647058823529\n",
      "predicting test set for asset 3\n",
      "...transforming MacroFE\n",
      "\n",
      "第3个资产的样本外 accuracy score: 0.29411764705882354\n",
      "predicting test set for asset 4\n",
      "...transforming MacroFE\n",
      "\n",
      "第4个资产的样本外 accuracy score: 0.17647058823529413\n",
      "predicting test set for asset 5\n",
      "...transforming MacroFE\n",
      "\n",
      "第5个资产的样本外 accuracy score: 0.29411764705882354\n",
      "predicting test set for asset 6\n",
      "...transforming MacroFE\n",
      "\n",
      "第6个资产的样本外 accuracy score: 0.5294117647058824\n",
      "predicting test set for asset 7\n",
      "...transforming MacroFE\n",
      "\n",
      "第7个资产的样本外 accuracy score: 0.23529411764705882\n",
      "predicting test set for asset 8\n",
      "...transforming MacroFE\n",
      "\n",
      "第8个资产的样本外 accuracy score: 0.17647058823529413\n",
      "predicting test set for asset 9\n",
      "...transforming MacroFE\n",
      "\n",
      "第9个资产的样本外 accuracy score: 1.0\n",
      "Test period: 2018-05 -> 2019-09 的年化超额收益为: return    0.089849\n",
      "dtype: float64\n",
      "\n",
      "TEST period: 2019-10 -> 2021-02 \n",
      "Start...........................\n",
      "predicting test set for asset 0\n",
      "...transforming MacroFE\n",
      "\n",
      "第0个资产的样本外 accuracy score: 0.4117647058823529\n",
      "predicting test set for asset 1\n",
      "...transforming MacroFE\n",
      "\n",
      "第1个资产的样本外 accuracy score: 0.47058823529411764\n",
      "predicting test set for asset 2\n",
      "...transforming MacroFE\n",
      "\n",
      "第2个资产的样本外 accuracy score: 0.35294117647058826\n",
      "predicting test set for asset 3\n",
      "...transforming MacroFE\n",
      "\n",
      "第3个资产的样本外 accuracy score: 0.17647058823529413\n",
      "predicting test set for asset 4\n",
      "...transforming MacroFE\n",
      "\n",
      "第4个资产的样本外 accuracy score: 0.29411764705882354\n",
      "predicting test set for asset 5\n",
      "...transforming MacroFE\n",
      "\n",
      "第5个资产的样本外 accuracy score: 0.47058823529411764\n",
      "predicting test set for asset 6\n",
      "...transforming MacroFE\n",
      "\n",
      "第6个资产的样本外 accuracy score: 0.35294117647058826\n",
      "predicting test set for asset 7\n",
      "...transforming MacroFE\n",
      "\n",
      "第7个资产的样本外 accuracy score: 0.47058823529411764\n",
      "predicting test set for asset 8\n",
      "...transforming MacroFE\n",
      "\n",
      "第8个资产的样本外 accuracy score: 0.29411764705882354\n",
      "predicting test set for asset 9\n",
      "...transforming MacroFE\n",
      "\n",
      "第9个资产的样本外 accuracy score: 1.0\n",
      "Test period: 2019-10 -> 2021-02 的年化超额收益为: return    0.171457\n",
      "dtype: float64\n",
      "\n",
      "TEST period: 2021-03 -> 2022-07 \n",
      "Start...........................\n",
      "predicting test set for asset 0\n",
      "...transforming MacroFE\n",
      "\n",
      "第0个资产的样本外 accuracy score: 0.4117647058823529\n",
      "predicting test set for asset 1\n",
      "...transforming MacroFE\n",
      "\n",
      "第1个资产的样本外 accuracy score: 0.35294117647058826\n",
      "predicting test set for asset 2\n",
      "...transforming MacroFE\n",
      "\n",
      "第2个资产的样本外 accuracy score: 0.47058823529411764\n",
      "predicting test set for asset 3\n",
      "...transforming MacroFE\n",
      "\n",
      "第3个资产的样本外 accuracy score: 0.35294117647058826\n",
      "predicting test set for asset 4\n",
      "...transforming MacroFE\n",
      "\n",
      "第4个资产的样本外 accuracy score: 0.4117647058823529\n",
      "predicting test set for asset 5\n",
      "...transforming MacroFE\n",
      "\n",
      "第5个资产的样本外 accuracy score: 0.35294117647058826\n",
      "predicting test set for asset 6\n",
      "...transforming MacroFE\n",
      "\n",
      "第6个资产的样本外 accuracy score: 0.29411764705882354\n",
      "predicting test set for asset 7\n",
      "...transforming MacroFE\n",
      "\n",
      "第7个资产的样本外 accuracy score: 0.29411764705882354\n",
      "predicting test set for asset 8\n",
      "...transforming MacroFE\n",
      "\n",
      "第8个资产的样本外 accuracy score: 0.17647058823529413\n",
      "predicting test set for asset 9\n",
      "...transforming MacroFE\n",
      "\n",
      "第9个资产的样本外 accuracy score: 0.17647058823529413\n",
      "Test period: 2021-03 -> 2022-07 的年化超额收益为: return    0.043143\n",
      "dtype: float64\n"
     ]
    }
   ],
   "source": [
    "evalor_list = []\n",
    "i = 0\n",
    "for train_index, test_index in tscv.split(X):\n",
    "    if X.index[len(train_index)] < pd.Period('2014-1'):\n",
    "        continue\n",
    "    else:\n",
    "        X_train, X_test = X.iloc[train_index, :], X.iloc[test_index, :]\n",
    "        y_train, y_test = y.iloc[train_index, :], y.iloc[test_index, :]\n",
    "        y_return = y_ret.loc[y_test.index, :]\n",
    "        print(\"\\nTEST period:\", str(X_test.index[0]), '->', str(X_test.index[-1]), \"\\nStart...........................\")\n",
    "        # 增加测试集长度使得FE得以进行\n",
    "        X_test_long = utils.add_2years_test(X_train, X_test)\n",
    "        evalor = Evaluator(models_list[i], if_cls, X_test_long, y_test, y_return, X_train, y_train)\n",
    "        i += 1\n",
    "        evalor_list.append(evalor)\n",
    "        print(\"Test period:\", str(X_test.index[0]), '->', str(X_test.index[-1]), \"的年化超额收益为:\", str(evalor.excess_ann_ret))\n",
    "        "
   ]
  },
  {
   "cell_type": "code",
   "execution_count": 5,
   "id": "f052438f",
   "metadata": {},
   "outputs": [],
   "source": [
    "exc_rets = [evaluator.excess_ann_ret for evaluator in evalor_list]\n",
    "port_ws, bench_ws = [evaluator.port_worth for evaluator in evalor_list], [evaluator.bench_worth for evaluator in evalor_list]\n",
    "scoress = [evaluator.scores for evaluator in evalor_list]"
   ]
  },
  {
   "cell_type": "code",
   "execution_count": 6,
   "id": "eb2b4de4",
   "metadata": {},
   "outputs": [
    {
     "name": "stdout",
     "output_type": "stream",
     "text": [
      "2014-02 -> 2015-06 的年化超额收益为:\n",
      "return    0.093368\n",
      "dtype: float64\n",
      "2015-07 -> 2016-11 的年化超额收益为:\n",
      "return    0.055777\n",
      "dtype: float64\n",
      "2016-12 -> 2018-04 的年化超额收益为:\n",
      "return    0.048771\n",
      "dtype: float64\n",
      "2018-05 -> 2019-09 的年化超额收益为:\n",
      "return    0.089849\n",
      "dtype: float64\n",
      "2019-10 -> 2021-02 的年化超额收益为:\n",
      "return    0.171457\n",
      "dtype: float64\n",
      "2021-03 -> 2022-07 的年化超额收益为:\n",
      "return    0.043143\n",
      "dtype: float64\n"
     ]
    }
   ],
   "source": [
    "for i in range(0, len(exc_rets)):    \n",
    "    print(str(port_ws[i].index[0]), '->', str(port_ws[i].index[-1]), \"的年化超额收益为:\")\n",
    "    print(exc_rets[i])"
   ]
  },
  {
   "cell_type": "code",
   "execution_count": 7,
   "id": "2201a154",
   "metadata": {},
   "outputs": [
    {
     "data": {
      "text/html": [
       "<div>\n",
       "<style scoped>\n",
       "    .dataframe tbody tr th:only-of-type {\n",
       "        vertical-align: middle;\n",
       "    }\n",
       "\n",
       "    .dataframe tbody tr th {\n",
       "        vertical-align: top;\n",
       "    }\n",
       "\n",
       "    .dataframe thead th {\n",
       "        text-align: right;\n",
       "    }\n",
       "</style>\n",
       "<table border=\"1\" class=\"dataframe\">\n",
       "  <thead>\n",
       "    <tr style=\"text-align: right;\">\n",
       "      <th></th>\n",
       "      <th>0</th>\n",
       "      <th>0</th>\n",
       "      <th>0</th>\n",
       "      <th>0</th>\n",
       "      <th>0</th>\n",
       "      <th>0</th>\n",
       "    </tr>\n",
       "  </thead>\n",
       "  <tbody>\n",
       "    <tr>\n",
       "      <th>第0个资产:</th>\n",
       "      <td>0.588235</td>\n",
       "      <td>0.294118</td>\n",
       "      <td>0.294118</td>\n",
       "      <td>0.470588</td>\n",
       "      <td>0.411765</td>\n",
       "      <td>0.411765</td>\n",
       "    </tr>\n",
       "    <tr>\n",
       "      <th>第1个资产:</th>\n",
       "      <td>0.294118</td>\n",
       "      <td>0.294118</td>\n",
       "      <td>0.352941</td>\n",
       "      <td>0.470588</td>\n",
       "      <td>0.470588</td>\n",
       "      <td>0.352941</td>\n",
       "    </tr>\n",
       "    <tr>\n",
       "      <th>第2个资产:</th>\n",
       "      <td>0.294118</td>\n",
       "      <td>0.176471</td>\n",
       "      <td>0.235294</td>\n",
       "      <td>0.411765</td>\n",
       "      <td>0.352941</td>\n",
       "      <td>0.470588</td>\n",
       "    </tr>\n",
       "    <tr>\n",
       "      <th>第3个资产:</th>\n",
       "      <td>0.352941</td>\n",
       "      <td>0.235294</td>\n",
       "      <td>0.176471</td>\n",
       "      <td>0.294118</td>\n",
       "      <td>0.176471</td>\n",
       "      <td>0.352941</td>\n",
       "    </tr>\n",
       "    <tr>\n",
       "      <th>第4个资产:</th>\n",
       "      <td>0.117647</td>\n",
       "      <td>0.294118</td>\n",
       "      <td>0.352941</td>\n",
       "      <td>0.176471</td>\n",
       "      <td>0.294118</td>\n",
       "      <td>0.411765</td>\n",
       "    </tr>\n",
       "    <tr>\n",
       "      <th>第5个资产:</th>\n",
       "      <td>0.588235</td>\n",
       "      <td>0.352941</td>\n",
       "      <td>0.294118</td>\n",
       "      <td>0.294118</td>\n",
       "      <td>0.470588</td>\n",
       "      <td>0.352941</td>\n",
       "    </tr>\n",
       "    <tr>\n",
       "      <th>第6个资产:</th>\n",
       "      <td>0.352941</td>\n",
       "      <td>0.470588</td>\n",
       "      <td>0.352941</td>\n",
       "      <td>0.529412</td>\n",
       "      <td>0.352941</td>\n",
       "      <td>0.294118</td>\n",
       "    </tr>\n",
       "    <tr>\n",
       "      <th>第7个资产:</th>\n",
       "      <td>0.235294</td>\n",
       "      <td>0.235294</td>\n",
       "      <td>0.235294</td>\n",
       "      <td>0.235294</td>\n",
       "      <td>0.470588</td>\n",
       "      <td>0.294118</td>\n",
       "    </tr>\n",
       "    <tr>\n",
       "      <th>第8个资产:</th>\n",
       "      <td>0.117647</td>\n",
       "      <td>0.235294</td>\n",
       "      <td>0.352941</td>\n",
       "      <td>0.176471</td>\n",
       "      <td>0.294118</td>\n",
       "      <td>0.176471</td>\n",
       "    </tr>\n",
       "    <tr>\n",
       "      <th>第9个资产:</th>\n",
       "      <td>1.000000</td>\n",
       "      <td>1.000000</td>\n",
       "      <td>1.000000</td>\n",
       "      <td>1.000000</td>\n",
       "      <td>1.000000</td>\n",
       "      <td>0.176471</td>\n",
       "    </tr>\n",
       "  </tbody>\n",
       "</table>\n",
       "</div>"
      ],
      "text/plain": [
       "               0         0         0         0         0         0\n",
       "第0个资产:  0.588235  0.294118  0.294118  0.470588  0.411765  0.411765\n",
       "第1个资产:  0.294118  0.294118  0.352941  0.470588  0.470588  0.352941\n",
       "第2个资产:  0.294118  0.176471  0.235294  0.411765  0.352941  0.470588\n",
       "第3个资产:  0.352941  0.235294  0.176471  0.294118  0.176471  0.352941\n",
       "第4个资产:  0.117647  0.294118  0.352941  0.176471  0.294118  0.411765\n",
       "第5个资产:  0.588235  0.352941  0.294118  0.294118  0.470588  0.352941\n",
       "第6个资产:  0.352941  0.470588  0.352941  0.529412  0.352941  0.294118\n",
       "第7个资产:  0.235294  0.235294  0.235294  0.235294  0.470588  0.294118\n",
       "第8个资产:  0.117647  0.235294  0.352941  0.176471  0.294118  0.176471\n",
       "第9个资产:  1.000000  1.000000  1.000000  1.000000  1.000000  0.176471"
      ]
     },
     "execution_count": 7,
     "metadata": {},
     "output_type": "execute_result"
    }
   ],
   "source": [
    "score_df = pd.DataFrame()\n",
    "for i in scoress:\n",
    "    score_df = pd.concat([score_df, pd.Series(i)], axis=1)\n",
    "score_df"
   ]
  },
  {
   "cell_type": "code",
   "execution_count": 8,
   "id": "3e917689",
   "metadata": {},
   "outputs": [
    {
     "name": "stdout",
     "output_type": "stream",
     "text": [
      "第0个资产:\n",
      "0.41176470588235287\n",
      "第1个资产:\n",
      "0.37254901960784315\n",
      "第2个资产:\n",
      "0.3235294117647059\n",
      "第3个资产:\n",
      "0.2647058823529412\n",
      "第4个资产:\n",
      "0.2745098039215686\n",
      "第5个资产:\n",
      "0.39215686274509803\n",
      "第6个资产:\n",
      "0.39215686274509803\n",
      "第7个资产:\n",
      "0.28431372549019607\n",
      "第8个资产:\n",
      "0.22549019607843138\n",
      "第9个资产:\n",
      "0.8627450980392157\n"
     ]
    }
   ],
   "source": [
    "for id, row in score_df.iterrows():\n",
    "    print(id)\n",
    "    print(row.mean())"
   ]
  },
  {
   "cell_type": "code",
   "execution_count": 9,
   "id": "b4995d54",
   "metadata": {},
   "outputs": [
    {
     "data": {
      "text/plain": [
       "[]"
      ]
     },
     "execution_count": 9,
     "metadata": {},
     "output_type": "execute_result"
    },
    {
     "data": {
      "image/png": "[encoded data removed]",
      "text/plain": [
       "<Figure size 1500x800 with 1 Axes>"
      ]
     },
     "metadata": {},
     "output_type": "display_data"
    }
   ],
   "source": [
    "fig, ax = plt.subplots(figsize=(15,8))\n",
    "for pw in port_ws:\n",
    "    pw.columns = ['port_worth']\n",
    "    pw.plot.line(ax=ax, color='r')\n",
    "for bw in bench_ws:\n",
    "    bw.columns = ['bench_worth']\n",
    "    bw.plot(ax=ax, color='b')\n",
    "\n",
    "ax.plot()"
   ]
  },
  {
   "cell_type": "code",
   "execution_count": 10,
   "id": "d924fa64",
   "metadata": {},
   "outputs": [
    {
     "ename": "NameError",
     "evalue": "name 'ev' is not defined",
     "output_type": "error",
     "traceback": [
      "\u001b[0;31m---------------------------------------------------------------------------\u001b[0m",
      "\u001b[0;31mNameError\u001b[0m                                 Traceback (most recent call last)",
      "Input \u001b[0;32mIn [10]\u001b[0m, in \u001b[0;36m<cell line: 1>\u001b[0;34m()\u001b[0m\n\u001b[0;32m----> 1\u001b[0m con_pws \u001b[38;5;241m=\u001b[39m \u001b[43mev\u001b[49m\u001b[38;5;241m.\u001b[39mget_continue_worth(port_ws)\n\u001b[1;32m      2\u001b[0m con_bws \u001b[38;5;241m=\u001b[39m ev\u001b[38;5;241m.\u001b[39mget_continue_worth(bench_ws)\n\u001b[1;32m      3\u001b[0m scoress \u001b[38;5;241m=\u001b[39m [evaluator\u001b[38;5;241m.\u001b[39mscores \u001b[38;5;28;01mfor\u001b[39;00m evaluator \u001b[38;5;129;01min\u001b[39;00m evalor_list]\n",
      "\u001b[0;31mNameError\u001b[0m: name 'ev' is not defined"
     ]
    }
   ],
   "source": [
    "con_pws = ev.get_continue_worth(port_ws)\n",
    "con_bws = ev.get_continue_worth(bench_ws)\n",
    "scoress = [evaluator.scores for evaluator in evalor_list]"
   ]
  },
  {
   "cell_type": "code",
   "execution_count": null,
   "id": "53adba12",
   "metadata": {},
   "outputs": [],
   "source": [
    "fig, ax = plt.subplots(figsize=(15,8))\n",
    "for pw in con_pws:\n",
    "    pw.columns = ['port_worth']\n",
    "    pw.plot.line(ax=ax, color='r')\n",
    "for bw in con_bws:\n",
    "    bw.columns = ['bench_worth']\n",
    "    bw.plot(ax=ax, color='b')\n",
    "\n",
    "ax.plot()"
   ]
  },
  {
   "cell_type": "code",
   "execution_count": null,
   "id": "e9e23729",
   "metadata": {},
   "outputs": [],
   "source": [
    "最后一个资产总用未来数据/未来模型"
   ]
  },
  {
   "cell_type": "code",
   "execution_count": null,
   "id": "ce0e021b",
   "metadata": {},
   "outputs": [],
   "source": []
  }
 ],
 "metadata": {
  "kernelspec": {
   "display_name": "Python 3 (ipykernel)",
   "language": "python",
   "name": "python3"
  },
  "language_info": {
   "codemirror_mode": {
    "name": "ipython",
    "version": 3
   },
   "file_extension": ".py",
   "mimetype": "text/x-python",
   "name": "python",
   "nbconvert_exporter": "python",
   "pygments_lexer": "ipython3",
   "version": "3.9.13"
  },
  "varInspector": {
   "cols": {
    "lenName": 16,
    "lenType": 16,
    "lenVar": 40
   },
   "kernels_config": {
    "python": {
     "delete_cmd_postfix": "",
     "delete_cmd_prefix": "del ",
     "library": "var_list.py",
     "varRefreshCmd": "print(var_dic_list())"
    },
    "r": {
     "delete_cmd_postfix": ") ",
     "delete_cmd_prefix": "rm(",
     "library": "var_list.r",
     "varRefreshCmd": "cat(var_dic_list()) "
    }
   },
   "types_to_exclude": [
    "module",
    "function",
    "builtin_function_or_method",
    "instance",
    "_Feature"
   ],
   "window_display": false
  }
 },
 "nbformat": 4,
 "nbformat_minor": 5
}
