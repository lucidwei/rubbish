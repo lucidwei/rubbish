{
 "cells": [
  {
   "cell_type": "code",
   "execution_count": 1,
   "id": "5bdd5e5f",
   "metadata": {
    "ExecuteTime": {
     "end_time": "2022-10-18T07:35:57.246086Z",
     "start_time": "2022-10-18T07:35:57.232676Z"
    }
   },
   "outputs": [
    {
     "data": {
      "application/javascript": [
       "IPython.notebook.kernel.execute('version = \"' + IPython.notebook.notebook_name + '\"')\n"
      ],
      "text/plain": [
       "<IPython.core.display.Javascript object>"
      ]
     },
     "metadata": {},
     "output_type": "display_data"
    }
   ],
   "source": [
    "%%javascript\n",
    "IPython.notebook.kernel.execute('version = \"' + IPython.notebook.notebook_name + '\"')"
   ]
  },
  {
   "cell_type": "code",
   "execution_count": 2,
   "id": "f7dcf337",
   "metadata": {
    "ExecuteTime": {
     "end_time": "2022-10-18T07:35:59.855554Z",
     "start_time": "2022-10-18T07:35:57.974751Z"
    }
   },
   "outputs": [
    {
     "name": "stderr",
     "output_type": "stream",
     "text": [
      "/Users/Gary/opt/anaconda3/envs/MLenv/lib/python3.9/site-packages/scipy/__init__.py:146: UserWarning: A NumPy version >=1.16.5 and <1.23.0 is required for this version of SciPy (detected version 1.23.3\n",
      "  warnings.warn(f\"A NumPy version >={np_minversion} and <{np_maxversion}\"\n",
      "/Users/Gary/opt/anaconda3/envs/MLenv/lib/python3.9/site-packages/tpot/builtins/__init__.py:36: UserWarning: Warning: optional dependency `torch` is not available. - skipping import of NN models.\n",
      "  warnings.warn(\"Warning: optional dependency `torch` is not available. - skipping import of NN models.\")\n"
     ]
    }
   ],
   "source": [
    "# coding=gbk\n",
    "import os\n",
    "while os.getcwd()[-7:] != 'rubbish':\n",
    "    os.chdir(\"..\")\n",
    "import pickle, datetime, copy\n",
    "from copy import deepcopy\n",
    "from sklearn.model_selection import train_test_split, TimeSeriesSplit\n",
    "import matplotlib.pyplot as plt\n",
    "import pandas as pd\n",
    "import utils, utils_eda, utils_train\n",
    "from evaluator import Evaluator\n",
    "import evaluator as ev"
   ]
  },
  {
   "cell_type": "code",
   "execution_count": 3,
   "id": "c57c8807",
   "metadata": {
    "ExecuteTime": {
     "end_time": "2022-10-18T07:35:59.948425Z",
     "start_time": "2022-10-18T07:35:59.938412Z"
    }
   },
   "outputs": [
    {
     "name": "stdout",
     "output_type": "stream",
     "text": [
      "version: clklead1_rf03_1017\n"
     ]
    }
   ],
   "source": [
    "# 文件处理参数\n",
    "PATH_ORI_DATA = r'C:\\Users\\lucid\\Documents\\长江实习\\课题之自上而下\\data'\n",
    "if_update = False  ## 原始数据文件是否已经更新\n",
    "use_cache = False  ## 预处理逻辑/参数变更 or 缓存的pickle需要更新时，设为False (注意利用的数据格式，避免用本月行情预测本月行情。)\n",
    "version = version.split('.')[0]\n",
    "print('version:', version)\n",
    "\n",
    "# 预处理参数\n",
    "if_cls = True\n",
    "align_to = 'month'\n",
    "use_lag_x = 15\n",
    "use_sup_lead = 1  ## 纳入美林时钟等补充框架\n",
    "begT = '2004-01'\n",
    "endT = datetime.date.today()\n",
    "asset_sel = []\n",
    "\n",
    "# 训练参数\n",
    "n_splits = 10  ## 滚动训练次数\n",
    "test_size = 12\n",
    "pipe = 'cls'  ## 'benchmark', 'post_FE'(reg), 'cls'\n",
    "force_train = False  ## 因为每个时间段筛选出的特征不一样，所以必须重新get dump，为了节省时间调试可以False\n",
    "model_name = 'rf03'  ## 'separate'(use topot gen) or specific model name, availables see pipes file"
   ]
  },
  {
   "cell_type": "code",
   "execution_count": 4,
   "id": "4fd1cbca",
   "metadata": {
    "ExecuteTime": {
     "end_time": "2022-10-18T07:36:11.234427Z",
     "start_time": "2022-10-18T07:36:00.060322Z"
    }
   },
   "outputs": [
    {
     "name": "stdout",
     "output_type": "stream",
     "text": [
      "update: False\n",
      "os.path.exists(x&y csv): True\n",
      "...initializing SpecialTreatment\n",
      "\n",
      "...initializing DataAlignment\n",
      "\n",
      "...transforming SpecialTreatment \n",
      "\n",
      "...transforming DataAlignment \n",
      "\n",
      "...initializing GetStationary\n",
      "\n",
      "...transforming GetStationary \n",
      "\n",
      "M5650805 城镇调查失业率  too few data before 2014, need imputer\n",
      "M6424498 iCPI:总指数:环比  too few data before 2014, need imputer\n",
      "M6388362 投资景气指数:总体  too few data before 2014, need imputer\n",
      "M5515072 中期借贷便利(MLF):期末余额  too few data before 2014, need imputer\n",
      "M5639023 债券市场发行债券:国债  too few data before 2014, need imputer\n",
      "M6193259 新增投资者数量  too few data before 2014, need imputer\n",
      "M5543211 私募基金管理人:证券:家数  too few data before 2014, need imputer\n",
      "M5524546 资产管理业务总规模  too few data before 2014, need imputer\n",
      "Y0910594 万得一致预测:M1:同比  too few data before 2014, need imputer\n",
      "M0331593 万得一致预测:社会融资规模:当月值  too few data before 2014, need imputer\n",
      "M0329545 中期借贷便利(MLF):利率:1年  too few data before 2014, need imputer\n",
      "V7644905 美国:30年期抵押贷款固定利率与5年期抵押贷款浮动利率利差  too few data before 2014, need imputer\n",
      "G1100376 美国:商业预期:销售收入增长:平滑  too few data before 2014, need imputer\n",
      "G1100380 美国:商业不确定性:销售收入增长:平滑  too few data before 2014, need imputer\n",
      "M1016750 超额利差(中位数):全体产业债  too few data before 2014, need imputer\n",
      "M1016548 信用利差(中位数):产业债AA  too few data before 2014, need imputer\n",
      "M1016546 信用利差(中位数):产业债AAA  too few data before 2014, need imputer\n",
      "M1016545 信用利差(中位数):全体产业债  too few data before 2014, need imputer\n",
      "M1016710 信用利差(中位数):全体城投债  too few data before 2014, need imputer\n",
      "...initializing SeriesToSupervised\n",
      "\n",
      "...transforming SeriesToSupervised\n",
      "\n",
      "...Pre-processing finished\n",
      "\n",
      "data pickle saved\n"
     ]
    }
   ],
   "source": [
    "#############预处理##############\n",
    "X, y_ret = utils.get_preproc_data(PATH_ORI_DATA, if_update, use_cache, align_to, use_lag_x, use_sup_lead, begT, endT)\n",
    "if asset_sel:\n",
    "    y_ret = y_ret.iloc[:, asset_sel]\n",
    "\n",
    "if if_cls:\n",
    "    y_cls = utils.reg_to_class(y_ret, 3)\n",
    "    y = y_cls\n",
    "else:\n",
    "    y = y_ret"
   ]
  },
  {
   "cell_type": "code",
   "execution_count": 5,
   "id": "0d4c0e59",
   "metadata": {
    "ExecuteTime": {
     "end_time": "2022-10-18T07:36:33.267580Z",
     "start_time": "2022-10-18T07:36:12.121546Z"
    }
   },
   "outputs": [
    {
     "name": "stdout",
     "output_type": "stream",
     "text": [
      "/nTRAIN period: 2005-05 -> 2015-07 \n",
      "Start training.......................\n",
      "...initializing MacroFE\n",
      "model 0 pickle loaded\n",
      "model 1 pickle loaded\n",
      "model 2 pickle loaded\n",
      "model 3 pickle loaded\n",
      "model 4 pickle loaded\n",
      "model 5 pickle loaded\n",
      "model 6 pickle loaded\n",
      "model 7 pickle loaded\n",
      "model 8 pickle loaded\n",
      "model 9 pickle loaded\n",
      "/nTRAIN period: 2005-05 -> 2016-07 \n",
      "Start training.......................\n",
      "model 0 pickle loaded\n",
      "model 1 pickle loaded\n",
      "model 2 pickle loaded\n",
      "model 3 pickle loaded\n",
      "model 4 pickle loaded\n",
      "model 5 pickle loaded\n",
      "model 6 pickle loaded\n",
      "model 7 pickle loaded\n",
      "model 8 pickle loaded\n",
      "model 9 pickle loaded\n",
      "/nTRAIN period: 2005-05 -> 2017-07 \n",
      "Start training.......................\n",
      "model 0 pickle loaded\n",
      "model 1 pickle loaded\n",
      "model 2 pickle loaded\n",
      "model 3 pickle loaded\n",
      "model 4 pickle loaded\n",
      "model 5 pickle loaded\n",
      "model 6 pickle loaded\n",
      "model 7 pickle loaded\n",
      "model 8 pickle loaded\n",
      "model 9 pickle loaded\n",
      "/nTRAIN period: 2005-05 -> 2018-07 \n",
      "Start training.......................\n",
      "model 0 pickle loaded\n",
      "model 1 pickle loaded\n",
      "model 2 pickle loaded\n",
      "model 3 pickle loaded\n",
      "model 4 pickle loaded\n",
      "model 5 pickle loaded\n",
      "model 6 pickle loaded\n",
      "model 7 pickle loaded\n",
      "model 8 pickle loaded\n",
      "model 9 pickle loaded\n",
      "/nTRAIN period: 2005-05 -> 2019-07 \n",
      "Start training.......................\n",
      "model 0 pickle loaded\n",
      "model 1 pickle loaded\n",
      "model 2 pickle loaded\n",
      "model 3 pickle loaded\n",
      "model 4 pickle loaded\n",
      "model 5 pickle loaded\n",
      "model 6 pickle loaded\n",
      "model 7 pickle loaded\n",
      "model 8 pickle loaded\n",
      "model 9 pickle loaded\n",
      "/nTRAIN period: 2005-05 -> 2020-07 \n",
      "Start training.......................\n",
      "model 0 pickle loaded\n",
      "model 1 pickle loaded\n",
      "model 2 pickle loaded\n",
      "model 3 pickle loaded\n",
      "model 4 pickle loaded\n",
      "model 5 pickle loaded\n",
      "model 6 pickle loaded\n",
      "model 7 pickle loaded\n",
      "model 8 pickle loaded\n",
      "model 9 pickle loaded\n",
      "/nTRAIN period: 2005-05 -> 2021-07 \n",
      "Start training.......................\n",
      "model 0 pickle loaded\n",
      "model 1 pickle loaded\n",
      "model 2 pickle loaded\n",
      "model 3 pickle loaded\n",
      "model 4 pickle loaded\n",
      "model 5 pickle loaded\n",
      "model 6 pickle loaded\n",
      "model 7 pickle loaded\n",
      "model 8 pickle loaded\n",
      "model 9 pickle loaded\n"
     ]
    }
   ],
   "source": [
    "#############训练##############\n",
    "tscv = TimeSeriesSplit(n_splits=n_splits, test_size=test_size)\n",
    "models_list = {}\n",
    "# 原始的Xy切片之前要deepcopy，否则可能莫名其妙篡改原始数据\n",
    "for train_index, test_index in tscv.split(X.copy(deep=True)):\n",
    "    if X.index[len(train_index)] < pd.Period('2015-7'):\n",
    "        continue\n",
    "    else:\n",
    "        X_train, y_train = X.copy(deep=True).iloc[train_index, :], y.copy(deep=True).iloc[train_index, :]\n",
    "        print(\"/nTRAIN period:\", str(X_train.index[0]), '->', str(X_train.index[-1]),\n",
    "              \"\\nStart training.......................\")\n",
    "\n",
    "        models = utils_train.get_models_dump(X_train, y_train, pipe=pipe, version=version, force_train=force_train,\n",
    "                                             model_name=model_name)\n",
    "        models_list[str(X_train.index[-1])] = deepcopy(models)"
   ]
  },
  {
   "cell_type": "code",
   "execution_count": 6,
   "id": "de08a602",
   "metadata": {
    "ExecuteTime": {
     "end_time": "2022-10-18T07:48:28.463339Z",
     "start_time": "2022-10-18T07:40:18.203995Z"
    }
   },
   "outputs": [
    {
     "name": "stdout",
     "output_type": "stream",
     "text": [
      "\n",
      "TEST period: 2015-08 -> 2016-07 \n",
      "Start testing...........................\n",
      "\n",
      "predicting test set for asset 0\n",
      "...transforming MacroFE\n",
      "第0个资产的样本外 accuracy score: 0.5\n",
      "\n",
      "predicting test set for asset 1\n",
      "...transforming MacroFE\n",
      "第1个资产的样本外 accuracy score: 0.16666666666666666\n",
      "\n",
      "predicting test set for asset 2\n",
      "...transforming MacroFE\n",
      "第2个资产的样本外 accuracy score: 0.4166666666666667\n",
      "\n",
      "predicting test set for asset 3\n",
      "...transforming MacroFE\n",
      "第3个资产的样本外 accuracy score: 0.5\n",
      "\n",
      "predicting test set for asset 4\n",
      "...transforming MacroFE\n",
      "第4个资产的样本外 accuracy score: 0.16666666666666666\n",
      "\n",
      "predicting test set for asset 5\n",
      "...transforming MacroFE\n",
      "第5个资产的样本外 accuracy score: 0.4166666666666667\n",
      "\n",
      "predicting test set for asset 6\n",
      "...transforming MacroFE\n",
      "第6个资产的样本外 accuracy score: 0.4166666666666667\n",
      "\n",
      "predicting test set for asset 7\n",
      "...transforming MacroFE\n",
      "第7个资产的样本外 accuracy score: 0.25\n",
      "\n",
      "predicting test set for asset 8\n",
      "...transforming MacroFE\n",
      "第8个资产的样本外 accuracy score: 0.25\n",
      "\n",
      "predicting test set for asset 9\n",
      "...transforming MacroFE\n",
      "第9个资产的样本外 accuracy score: 0.4166666666666667\n",
      "Test period: 2015-08 -> 2016-07 的年化超额收益为: return   -0.011664\n",
      "dtype: float64\n",
      "\n",
      "TEST period: 2016-08 -> 2017-07 \n",
      "Start testing...........................\n",
      "\n",
      "predicting test set for asset 0\n",
      "...transforming MacroFE\n",
      "第0个资产的样本外 accuracy score: 0.25\n",
      "\n",
      "predicting test set for asset 1\n",
      "...transforming MacroFE\n",
      "第1个资产的样本外 accuracy score: 0.16666666666666666\n",
      "\n",
      "predicting test set for asset 2\n",
      "...transforming MacroFE\n",
      "第2个资产的样本外 accuracy score: 0.3333333333333333\n",
      "\n",
      "predicting test set for asset 3\n",
      "...transforming MacroFE\n",
      "第3个资产的样本外 accuracy score: 0.6666666666666666\n",
      "\n",
      "predicting test set for asset 4\n",
      "...transforming MacroFE\n",
      "第4个资产的样本外 accuracy score: 0.4166666666666667\n",
      "\n",
      "predicting test set for asset 5\n",
      "...transforming MacroFE\n",
      "第5个资产的样本外 accuracy score: 0.08333333333333333\n",
      "\n",
      "predicting test set for asset 6\n",
      "...transforming MacroFE\n",
      "第6个资产的样本外 accuracy score: 0.5\n",
      "\n",
      "predicting test set for asset 7\n",
      "...transforming MacroFE\n",
      "第7个资产的样本外 accuracy score: 0.3333333333333333\n",
      "\n",
      "predicting test set for asset 8\n",
      "...transforming MacroFE\n",
      "第8个资产的样本外 accuracy score: 0.3333333333333333\n",
      "\n",
      "predicting test set for asset 9\n",
      "...transforming MacroFE\n",
      "第9个资产的样本外 accuracy score: 0.16666666666666666\n",
      "Test period: 2016-08 -> 2017-07 的年化超额收益为: return    0.035218\n",
      "dtype: float64\n",
      "\n",
      "TEST period: 2017-08 -> 2018-07 \n",
      "Start testing...........................\n",
      "\n",
      "predicting test set for asset 0\n",
      "...transforming MacroFE\n",
      "第0个资产的样本外 accuracy score: 0.08333333333333333\n",
      "\n",
      "predicting test set for asset 1\n",
      "...transforming MacroFE\n",
      "第1个资产的样本外 accuracy score: 0.3333333333333333\n",
      "\n",
      "predicting test set for asset 2\n",
      "...transforming MacroFE\n",
      "第2个资产的样本外 accuracy score: 0.4166666666666667\n",
      "\n",
      "predicting test set for asset 3\n",
      "...transforming MacroFE\n",
      "第3个资产的样本外 accuracy score: 0.3333333333333333\n",
      "\n",
      "predicting test set for asset 4\n",
      "...transforming MacroFE\n",
      "第4个资产的样本外 accuracy score: 0.5\n",
      "\n",
      "predicting test set for asset 5\n",
      "...transforming MacroFE\n",
      "第5个资产的样本外 accuracy score: 0.16666666666666666\n",
      "\n",
      "predicting test set for asset 6\n",
      "...transforming MacroFE\n",
      "第6个资产的样本外 accuracy score: 0.25\n",
      "\n",
      "predicting test set for asset 7\n",
      "...transforming MacroFE\n",
      "第7个资产的样本外 accuracy score: 0.25\n",
      "\n",
      "predicting test set for asset 8\n",
      "...transforming MacroFE\n",
      "第8个资产的样本外 accuracy score: 0.4166666666666667\n",
      "\n",
      "predicting test set for asset 9\n",
      "...transforming MacroFE\n",
      "第9个资产的样本外 accuracy score: 0.3333333333333333\n",
      "Test period: 2017-08 -> 2018-07 的年化超额收益为: return   -0.053779\n",
      "dtype: float64\n",
      "\n",
      "TEST period: 2018-08 -> 2019-07 \n",
      "Start testing...........................\n",
      "\n",
      "predicting test set for asset 0\n",
      "...transforming MacroFE\n",
      "第0个资产的样本外 accuracy score: 0.25\n",
      "\n",
      "predicting test set for asset 1\n",
      "...transforming MacroFE\n",
      "第1个资产的样本外 accuracy score: 0.25\n",
      "\n",
      "predicting test set for asset 2\n",
      "...transforming MacroFE\n",
      "第2个资产的样本外 accuracy score: 0.4166666666666667\n",
      "\n",
      "predicting test set for asset 3\n",
      "...transforming MacroFE\n",
      "第3个资产的样本外 accuracy score: 0.5833333333333334\n",
      "\n",
      "predicting test set for asset 4\n",
      "...transforming MacroFE\n",
      "第4个资产的样本外 accuracy score: 0.3333333333333333\n",
      "\n",
      "predicting test set for asset 5\n",
      "...transforming MacroFE\n",
      "第5个资产的样本外 accuracy score: 0.4166666666666667\n",
      "\n",
      "predicting test set for asset 6\n",
      "...transforming MacroFE\n",
      "第6个资产的样本外 accuracy score: 0.6666666666666666\n",
      "\n",
      "predicting test set for asset 7\n",
      "...transforming MacroFE\n",
      "第7个资产的样本外 accuracy score: 0.4166666666666667\n",
      "\n",
      "predicting test set for asset 8\n",
      "...transforming MacroFE\n",
      "第8个资产的样本外 accuracy score: 0.16666666666666666\n",
      "\n",
      "predicting test set for asset 9\n",
      "...transforming MacroFE\n",
      "第9个资产的样本外 accuracy score: 0.5\n",
      "Test period: 2018-08 -> 2019-07 的年化超额收益为: return    0.057619\n",
      "dtype: float64\n",
      "\n",
      "TEST period: 2019-08 -> 2020-07 \n",
      "Start testing...........................\n",
      "\n",
      "predicting test set for asset 0\n",
      "...transforming MacroFE\n",
      "第0个资产的样本外 accuracy score: 0.5833333333333334\n",
      "\n",
      "predicting test set for asset 1\n",
      "...transforming MacroFE\n",
      "第1个资产的样本外 accuracy score: 0.5\n",
      "\n",
      "predicting test set for asset 2\n",
      "...transforming MacroFE\n",
      "第2个资产的样本外 accuracy score: 0.08333333333333333\n",
      "\n",
      "predicting test set for asset 3\n",
      "...transforming MacroFE\n",
      "第3个资产的样本外 accuracy score: 0.3333333333333333\n",
      "\n",
      "predicting test set for asset 4\n",
      "...transforming MacroFE\n",
      "第4个资产的样本外 accuracy score: 0.4166666666666667\n",
      "\n",
      "predicting test set for asset 5\n",
      "...transforming MacroFE\n",
      "第5个资产的样本外 accuracy score: 0.5\n",
      "\n",
      "predicting test set for asset 6\n",
      "...transforming MacroFE\n",
      "第6个资产的样本外 accuracy score: 0.5833333333333334\n",
      "\n",
      "predicting test set for asset 7\n",
      "...transforming MacroFE\n",
      "第7个资产的样本外 accuracy score: 0.4166666666666667\n",
      "\n",
      "predicting test set for asset 8\n",
      "...transforming MacroFE\n",
      "第8个资产的样本外 accuracy score: 0.3333333333333333\n",
      "\n",
      "predicting test set for asset 9\n",
      "...transforming MacroFE\n",
      "第9个资产的样本外 accuracy score: 0.3333333333333333\n",
      "Test period: 2019-08 -> 2020-07 的年化超额收益为: return    0.080219\n",
      "dtype: float64\n",
      "\n",
      "TEST period: 2020-08 -> 2021-07 \n",
      "Start testing...........................\n",
      "\n",
      "predicting test set for asset 0\n",
      "...transforming MacroFE\n",
      "第0个资产的样本外 accuracy score: 0.3333333333333333\n",
      "\n",
      "predicting test set for asset 1\n",
      "...transforming MacroFE\n",
      "第1个资产的样本外 accuracy score: 0.3333333333333333\n",
      "\n",
      "predicting test set for asset 2\n",
      "...transforming MacroFE\n",
      "第2个资产的样本外 accuracy score: 0.16666666666666666\n",
      "\n",
      "predicting test set for asset 3\n",
      "...transforming MacroFE\n",
      "第3个资产的样本外 accuracy score: 0.4166666666666667\n",
      "\n",
      "predicting test set for asset 4\n",
      "...transforming MacroFE\n",
      "第4个资产的样本外 accuracy score: 0.3333333333333333\n",
      "\n",
      "predicting test set for asset 5\n",
      "...transforming MacroFE\n",
      "第5个资产的样本外 accuracy score: 0.5833333333333334\n",
      "\n",
      "predicting test set for asset 6\n",
      "...transforming MacroFE\n",
      "第6个资产的样本外 accuracy score: 0.5833333333333334\n",
      "\n",
      "predicting test set for asset 7\n",
      "...transforming MacroFE\n",
      "第7个资产的样本外 accuracy score: 0.3333333333333333\n",
      "\n",
      "predicting test set for asset 8\n",
      "...transforming MacroFE\n",
      "第8个资产的样本外 accuracy score: 0.3333333333333333\n",
      "\n",
      "predicting test set for asset 9\n",
      "...transforming MacroFE\n",
      "第9个资产的样本外 accuracy score: 0.16666666666666666\n",
      "Test period: 2020-08 -> 2021-07 的年化超额收益为: return   -0.013333\n",
      "dtype: float64\n",
      "\n",
      "TEST period: 2021-08 -> 2022-07 \n",
      "Start testing...........................\n",
      "\n",
      "predicting test set for asset 0\n",
      "...transforming MacroFE\n",
      "第0个资产的样本外 accuracy score: 0.3333333333333333\n",
      "\n",
      "predicting test set for asset 1\n",
      "...transforming MacroFE\n",
      "第1个资产的样本外 accuracy score: 0.3333333333333333\n",
      "\n",
      "predicting test set for asset 2\n",
      "...transforming MacroFE\n",
      "第2个资产的样本外 accuracy score: 0.25\n",
      "\n",
      "predicting test set for asset 3\n",
      "...transforming MacroFE\n",
      "第3个资产的样本外 accuracy score: 0.5\n",
      "\n",
      "predicting test set for asset 4\n",
      "...transforming MacroFE\n",
      "第4个资产的样本外 accuracy score: 0.25\n",
      "\n",
      "predicting test set for asset 5\n",
      "...transforming MacroFE\n",
      "第5个资产的样本外 accuracy score: 0.6666666666666666\n",
      "\n",
      "predicting test set for asset 6\n",
      "...transforming MacroFE\n",
      "第6个资产的样本外 accuracy score: 0.4166666666666667\n",
      "\n",
      "predicting test set for asset 7\n",
      "...transforming MacroFE\n",
      "第7个资产的样本外 accuracy score: 0.25\n",
      "\n",
      "predicting test set for asset 8\n",
      "...transforming MacroFE\n",
      "第8个资产的样本外 accuracy score: 0.16666666666666666\n",
      "\n",
      "predicting test set for asset 9\n",
      "...transforming MacroFE\n",
      "第9个资产的样本外 accuracy score: 0.3333333333333333\n",
      "Test period: 2021-08 -> 2022-07 的年化超额收益为: return    0.059863\n",
      "dtype: float64\n"
     ]
    }
   ],
   "source": [
    "#############测试和评估##############\n",
    "evalor_list = []\n",
    "for train_index, test_index in tscv.split(X.copy(deep=True)):\n",
    "    if X.index[len(train_index)] < pd.Period('2015-7'):\n",
    "        continue\n",
    "    else:\n",
    "        X_train, X_test = X.copy(deep=True).iloc[train_index, :], X.copy(deep=True).iloc[test_index, :]\n",
    "        y_train, y_test = y.copy(deep=True).iloc[train_index, :], y.copy(deep=True).iloc[test_index, :]\n",
    "        y_test_ret = y_ret.copy(deep=True).loc[y_test.index, :]\n",
    "        print(\"\\nTEST period:\", str(X_test.index[0]), '->', str(X_test.index[-1]),\n",
    "              \"\\nStart testing...........................\")\n",
    "        # 增加测试集长度使得FE得以进行\n",
    "        X_test_long = utils.add_2years_test(X_train, X_test)\n",
    "\n",
    "        evalor = Evaluator(models_list[str(X_train.index[-1])], if_cls, X_test_long, y_test, y_test_ret, X_train,\n",
    "                           y_train)\n",
    "        evalor_list.append(deepcopy(evalor))\n",
    "        print(\"Test period:\", str(X_test.index[0]), '->', str(X_test.index[-1]), \"的年化超额收益为:\",\n",
    "              str(evalor.excess_ann_ret))\n",
    "        del evalor"
   ]
  },
  {
   "cell_type": "code",
   "execution_count": 7,
   "id": "2999a46e",
   "metadata": {
    "ExecuteTime": {
     "end_time": "2022-10-18T07:52:07.102023Z",
     "start_time": "2022-10-18T07:52:07.081556Z"
    }
   },
   "outputs": [],
   "source": [
    "exc_rets = [i.excess_ann_ret for i in evalor_list]\n",
    "port_ws, bench_ws = [i.port_worth for i in evalor_list], [i.bench_worth for i in evalor_list]\n",
    "scoress = [i.scores for i in evalor_list]\n",
    "port_poss = [i.port_pos for i in evalor_list]\n",
    "con_pws = ev.get_continue_worth(port_ws)\n",
    "con_bws = ev.get_continue_worth(bench_ws)"
   ]
  },
  {
   "cell_type": "code",
   "execution_count": 11,
   "id": "7d0fb096",
   "metadata": {
    "ExecuteTime": {
     "end_time": "2022-10-18T08:11:29.243212Z",
     "start_time": "2022-10-18T08:11:29.001503Z"
    }
   },
   "outputs": [],
   "source": [
    "ev.save_output(version, con_pws, con_bws, scoress, port_poss, y_ret)"
   ]
  },
  {
   "cell_type": "code",
   "execution_count": null,
   "id": "eb2b4de4",
   "metadata": {
    "ExecuteTime": {
     "end_time": "2022-10-17T12:12:27.383233Z",
     "start_time": "2022-10-17T12:12:27.374949Z"
    }
   },
   "outputs": [],
   "source": [
    "# 超额收益分析\n",
    "for i in range(0, len(exc_rets)):    \n",
    "    print(str(port_ws[i].index[0]), '->', str(port_ws[i].index[-1]), \"的年化超额收益为:\")\n",
    "    print(exc_rets[i])"
   ]
  },
  {
   "cell_type": "code",
   "execution_count": null,
   "id": "2201a154",
   "metadata": {
    "ExecuteTime": {
     "end_time": "2022-10-17T12:12:27.431841Z",
     "start_time": "2022-10-17T12:12:27.386296Z"
    }
   },
   "outputs": [],
   "source": [
    "# 各阶段样本外模型表现\n",
    "score_df = pd.DataFrame()\n",
    "for i in scoress:\n",
    "    score_df = pd.concat([score_df, pd.Series(i)], axis=1)\n",
    "score_df"
   ]
  },
  {
   "cell_type": "code",
   "execution_count": null,
   "id": "3e917689",
   "metadata": {
    "ExecuteTime": {
     "end_time": "2022-10-17T12:12:27.442853Z",
     "start_time": "2022-10-17T12:12:27.435054Z"
    }
   },
   "outputs": [],
   "source": [
    "for id, row in score_df.iterrows():\n",
    "    print(id)\n",
    "    print(row.mean())"
   ]
  },
  {
   "cell_type": "code",
   "execution_count": null,
   "id": "b4995d54",
   "metadata": {
    "ExecuteTime": {
     "end_time": "2022-10-17T12:12:28.210513Z",
     "start_time": "2022-10-17T12:12:27.455144Z"
    }
   },
   "outputs": [],
   "source": [
    "fig, ax = plt.subplots(figsize=(15,8))\n",
    "for pw in port_ws:\n",
    "    pw.columns = ['port_worth']\n",
    "    pw.plot.line(ax=ax, color='r')\n",
    "for bw in bench_ws:\n",
    "    bw.columns = ['bench_worth']\n",
    "    bw.plot(ax=ax, color='b')\n",
    "\n",
    "ax.plot()"
   ]
  },
  {
   "cell_type": "code",
   "execution_count": null,
   "id": "d924fa64",
   "metadata": {
    "ExecuteTime": {
     "end_time": "2022-10-17T12:12:28.221619Z",
     "start_time": "2022-10-17T12:12:28.212931Z"
    }
   },
   "outputs": [],
   "source": []
  },
  {
   "cell_type": "code",
   "execution_count": null,
   "id": "53adba12",
   "metadata": {
    "ExecuteTime": {
     "end_time": "2022-10-17T12:12:29.234546Z",
     "start_time": "2022-10-17T12:12:28.224585Z"
    }
   },
   "outputs": [],
   "source": [
    "fig, ax = plt.subplots(figsize=(15,8))\n",
    "for pw in con_pws:\n",
    "    pw.columns = ['port_worth']\n",
    "    pw.plot.line(ax=ax, color='r')\n",
    "for bw in con_bws:\n",
    "    bw.columns = ['bench_worth']\n",
    "    bw.plot(ax=ax, color='b')\n",
    "\n",
    "ax.plot()"
   ]
  },
  {
   "cell_type": "code",
   "execution_count": null,
   "id": "f1783be4",
   "metadata": {
    "ExecuteTime": {
     "end_time": "2022-10-17T12:12:29.245974Z",
     "start_time": "2022-10-17T12:12:29.237854Z"
    }
   },
   "outputs": [],
   "source": [
    "# 宏观因子重要性分析"
   ]
  },
  {
   "cell_type": "code",
   "execution_count": null,
   "id": "134f9a93",
   "metadata": {
    "ExecuteTime": {
     "end_time": "2022-10-17T12:12:29.256747Z",
     "start_time": "2022-10-17T12:12:29.248557Z"
    }
   },
   "outputs": [],
   "source": [
    "keys = list(models_list.keys())\n",
    "keys"
   ]
  },
  {
   "cell_type": "code",
   "execution_count": null,
   "id": "7384d956",
   "metadata": {
    "ExecuteTime": {
     "end_time": "2022-10-17T12:12:29.275688Z",
     "start_time": "2022-10-17T12:12:29.259673Z"
    }
   },
   "outputs": [],
   "source": [
    "from utils_eda import get_ori_id, get_info, get_ori_name\n",
    "asset_num = 9\n",
    "asset_id = get_ori_id(y.columns[asset_num])\n",
    "asset_name = get_ori_name(asset_id, get_info())\n",
    "asset_name"
   ]
  },
  {
   "cell_type": "code",
   "execution_count": null,
   "id": "4430d3b0",
   "metadata": {
    "ExecuteTime": {
     "end_time": "2022-10-17T12:12:29.790446Z",
     "start_time": "2022-10-17T12:12:29.278522Z"
    }
   },
   "outputs": [],
   "source": [
    "values=models_list[keys[0]][asset_num][-1][-1].feature_importances_\n",
    "print(len(values))\n",
    "names=models_list[keys[0]][asset_num][:-1].get_feature_names_out()\n",
    "# names = [names[i].split('__')[-1] for i in range(len(names))]\n",
    "print(len(names))\n",
    "len(set(names))"
   ]
  },
  {
   "cell_type": "code",
   "execution_count": null,
   "id": "b3cbcfbf",
   "metadata": {
    "ExecuteTime": {
     "end_time": "2022-10-17T12:12:29.800505Z",
     "start_time": "2022-10-17T12:12:29.796379Z"
    }
   },
   "outputs": [],
   "source": [
    "# 一些estimator用coef_作为因子重要性\n",
    "# values=models_list['2016-01'][asset_num][-1][-1].coef_\n",
    "# values"
   ]
  },
  {
   "cell_type": "code",
   "execution_count": null,
   "id": "9c145a44",
   "metadata": {
    "ExecuteTime": {
     "end_time": "2022-10-17T12:12:29.809028Z",
     "start_time": "2022-10-17T12:12:29.804117Z"
    }
   },
   "outputs": [],
   "source": [
    "# 查看单个时间段\n",
    "# values=models_list['2018-03'][asset_num][-1][-1].feature_importances_\n",
    "# names=models_list['2018-03'][asset_num][:-1].get_feature_names_out()\n",
    "# names = [names[i].split('__')[-1] for i in range(len(names))]\n",
    "# fea_imp = pd.DataFrame([names, values], index=['names', 'values'])\n",
    "# fea_imp.sort_values(by='values', axis=1, ascending=False)"
   ]
  },
  {
   "cell_type": "code",
   "execution_count": null,
   "id": "f5b59eb3",
   "metadata": {
    "ExecuteTime": {
     "end_time": "2022-10-17T12:12:31.312464Z",
     "start_time": "2022-10-17T12:12:29.812061Z"
    },
    "scrolled": true
   },
   "outputs": [],
   "source": [
    "# 多个时间段整合\n",
    "fi_df = pd.DataFrame(values, index=names, columns=[keys[0]])\n",
    "fi_df = fi_df[~fi_df.index.duplicated()]\n",
    "for i in range(1, len(keys)):\n",
    "    values=models_list[keys[i]][asset_num][-1][-1].feature_importances_\n",
    "    names=models_list[keys[i]][asset_num][:-1].get_feature_names_out()\n",
    "    names = [names[i].split('__')[-1] for i in range(len(names))]\n",
    "    fi = pd.DataFrame(values, index=names, columns=[keys[i]])\n",
    "    fi = fi[~fi.index.duplicated()]\n",
    "    fi_df = pd.concat([fi_df, fi], axis=1)\n",
    "fi_df"
   ]
  },
  {
   "cell_type": "code",
   "execution_count": null,
   "id": "16757bd0",
   "metadata": {
    "ExecuteTime": {
     "end_time": "2022-10-17T12:12:31.371041Z",
     "start_time": "2022-10-17T12:12:31.314704Z"
    }
   },
   "outputs": [],
   "source": [
    "# 统计各指标在不同时期出现次数、重要性加和再排序\n",
    "fi_df.apply(lambda x: x.sum(), axis=1).sort_values(ascending=False)[:10]"
   ]
  },
  {
   "cell_type": "code",
   "execution_count": null,
   "id": "a35e060d",
   "metadata": {
    "ExecuteTime": {
     "end_time": "2022-10-17T12:12:31.382494Z",
     "start_time": "2022-10-17T12:12:31.373500Z"
    }
   },
   "outputs": [],
   "source": [
    "fi_df.count(axis=1).sort_values(ascending=False)"
   ]
  },
  {
   "cell_type": "code",
   "execution_count": null,
   "id": "b03fb43c",
   "metadata": {
    "ExecuteTime": {
     "end_time": "2022-10-17T12:12:31.389527Z",
     "start_time": "2022-10-17T12:12:31.385945Z"
    }
   },
   "outputs": [],
   "source": [
    "# 仓位分析\n",
    "# 怎么又是熟悉的bug。pycahrm里是没问题的。\n",
    "# 重新run一遍test，再跑。\n",
    "# sb notebook的问题"
   ]
  },
  {
   "cell_type": "code",
   "execution_count": null,
   "id": "8cc8e8c4",
   "metadata": {
    "ExecuteTime": {
     "end_time": "2022-10-17T12:12:31.449726Z",
     "start_time": "2022-10-17T12:12:31.394353Z"
    }
   },
   "outputs": [],
   "source": [
    "port_positions = [utils_eda.trans_columns_name(i) for i in port_poss]"
   ]
  },
  {
   "cell_type": "code",
   "execution_count": null,
   "id": "432ad3a3",
   "metadata": {
    "ExecuteTime": {
     "end_time": "2022-10-17T12:12:35.899309Z",
     "start_time": "2022-10-17T12:12:31.452898Z"
    },
    "scrolled": false
   },
   "outputs": [],
   "source": [
    "for i in range(len(port_poss)):\n",
    "    port_positions[i].plot(kind='area',figsize=(15, 8))"
   ]
  },
  {
   "cell_type": "code",
   "execution_count": 9,
   "id": "b399e1b4",
   "metadata": {
    "ExecuteTime": {
     "end_time": "2022-10-18T07:55:59.637387Z",
     "start_time": "2022-10-18T07:55:59.627103Z"
    }
   },
   "outputs": [
    {
     "data": {
      "text/plain": [
       "<module 'evaluator' from '/Users/Gary/PycharmProjects/rubbish/evaluator.py'>"
      ]
     },
     "execution_count": 9,
     "metadata": {},
     "output_type": "execute_result"
    }
   ],
   "source": [
    "import imp\n",
    "imp.reload(ev)"
   ]
  },
  {
   "cell_type": "code",
   "execution_count": null,
   "id": "d352d898",
   "metadata": {},
   "outputs": [],
   "source": []
  }
 ],
 "metadata": {
  "kernelspec": {
   "display_name": "Python 3 (ipykernel)",
   "language": "python",
   "name": "python3"
  },
  "language_info": {
   "codemirror_mode": {
    "name": "ipython",
    "version": 3
   },
   "file_extension": ".py",
   "mimetype": "text/x-python",
   "name": "python",
   "nbconvert_exporter": "python",
   "pygments_lexer": "ipython3",
   "version": "3.9.13"
  },
  "varInspector": {
   "cols": {
    "lenName": 16,
    "lenType": 16,
    "lenVar": "80"
   },
   "kernels_config": {
    "python": {
     "delete_cmd_postfix": "",
     "delete_cmd_prefix": "del ",
     "library": "var_list.py",
     "varRefreshCmd": "print(var_dic_list())"
    },
    "r": {
     "delete_cmd_postfix": ") ",
     "delete_cmd_prefix": "rm(",
     "library": "var_list.r",
     "varRefreshCmd": "cat(var_dic_list()) "
    }
   },
   "oldHeight": 438,
   "position": {
    "height": "40px",
    "left": "715px",
    "right": "20px",
    "top": "59px",
    "width": "486px"
   },
   "types_to_exclude": [
    "module",
    "function",
    "builtin_function_or_method",
    "instance",
    "_Feature"
   ],
   "varInspector_section_display": "none",
   "window_display": true
  }
 },
 "nbformat": 4,
 "nbformat_minor": 5
}
