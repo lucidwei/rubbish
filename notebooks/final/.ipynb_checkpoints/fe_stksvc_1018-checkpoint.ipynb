{
 "cells": [
  {
   "cell_type": "code",
   "execution_count": 1,
   "id": "5bdd5e5f",
   "metadata": {
    "ExecuteTime": {
     "end_time": "2022-10-17T08:32:00.858202Z",
     "start_time": "2022-10-17T08:32:00.844409Z"
    }
   },
   "outputs": [
    {
     "data": {
      "application/javascript": [
       "IPython.notebook.kernel.execute('version = \"' + IPython.notebook.notebook_name + '\"')\n"
      ],
      "text/plain": [
       "<IPython.core.display.Javascript object>"
      ]
     },
     "metadata": {},
     "output_type": "display_data"
    }
   ],
   "source": [
    "%%javascript\n",
    "IPython.notebook.kernel.execute('version = \"' + IPython.notebook.notebook_name + '\"')"
   ]
  },
  {
   "cell_type": "code",
   "execution_count": 2,
   "id": "f7dcf337",
   "metadata": {
    "ExecuteTime": {
     "end_time": "2022-10-17T08:32:05.127923Z",
     "start_time": "2022-10-17T08:32:02.686893Z"
    }
   },
   "outputs": [
    {
     "name": "stderr",
     "output_type": "stream",
     "text": [
      "/Users/Gary/opt/anaconda3/envs/MLenv/lib/python3.9/site-packages/scipy/__init__.py:146: UserWarning: A NumPy version >=1.16.5 and <1.23.0 is required for this version of SciPy (detected version 1.23.3\n",
      "  warnings.warn(f\"A NumPy version >={np_minversion} and <{np_maxversion}\"\n",
      "/Users/Gary/opt/anaconda3/envs/MLenv/lib/python3.9/site-packages/tpot/builtins/__init__.py:36: UserWarning: Warning: optional dependency `torch` is not available. - skipping import of NN models.\n",
      "  warnings.warn(\"Warning: optional dependency `torch` is not available. - skipping import of NN models.\")\n"
     ]
    }
   ],
   "source": [
    "# coding=gbk\n",
    "import os\n",
    "if os.getcwd()[-9:] == 'notebooks':\n",
    "    os.chdir(\"..\")\n",
    "import pickle, datetime, copy\n",
    "from copy import deepcopy\n",
    "from sklearn.model_selection import train_test_split, TimeSeriesSplit\n",
    "import matplotlib.pyplot as plt\n",
    "import pandas as pd\n",
    "import utils, utils_eda, utils_train\n",
    "from evaluator import Evaluator\n",
    "import evaluator as ev"
   ]
  },
  {
   "cell_type": "code",
   "execution_count": 3,
   "id": "c57c8807",
   "metadata": {
    "ExecuteTime": {
     "end_time": "2022-10-17T08:32:05.142314Z",
     "start_time": "2022-10-17T08:32:05.130887Z"
    }
   },
   "outputs": [
    {
     "name": "stdout",
     "output_type": "stream",
     "text": [
      "version: clklead1_stksvc_1017\n"
     ]
    }
   ],
   "source": [
    "# 文件处理参数\n",
    "PATH_ORI_DATA = r'C:\\Users\\lucid\\Documents\\长江实习\\课题之自上而下\\data'\n",
    "if_update = False  ## 原始数据文件是否已经更新\n",
    "use_cache = False  ## 预处理逻辑/参数变更 or 缓存的pickle需要更新时，设为False (注意利用的数据格式，避免用本月行情预测本月行情。)\n",
    "version = version.split('.')[0]\n",
    "print('version:', version)\n",
    "\n",
    "# 预处理参数\n",
    "if_cls = True\n",
    "align_to = 'month'\n",
    "use_lag_x = 15\n",
    "use_sup_lead = False  ## 纳入美林时钟等补充框架\n",
    "begT = '2004-01'\n",
    "endT = datetime.date.today()\n",
    "asset_sel = []\n",
    "\n",
    "# 训练参数\n",
    "n_splits = 10  ## 滚动训练次数\n",
    "test_size = 12\n",
    "pipe = 'cls'  ## 'benchmark', 'post_FE'(reg), 'cls'\n",
    "force_train = False  ## 因为每个时间段筛选出的特征不一样，所以必须重新get dump，为了节省时间调试可以False\n",
    "model_name = 'stksvc'  ## 'separate'(use topot gen) or specific model name, availables see pipes file"
   ]
  },
  {
   "cell_type": "code",
   "execution_count": 4,
   "id": "4fd1cbca",
   "metadata": {
    "ExecuteTime": {
     "end_time": "2022-10-17T08:32:18.032594Z",
     "start_time": "2022-10-17T08:32:05.148543Z"
    }
   },
   "outputs": [
    {
     "name": "stdout",
     "output_type": "stream",
     "text": [
      "update: False\n",
      "os.path.exists(x&y csv): True\n",
      "...initializing SpecialTreatment\n",
      "\n",
      "...initializing DataAlignment\n",
      "\n",
      "...transforming SpecialTreatment \n",
      "\n",
      "...transforming DataAlignment \n",
      "\n",
      "...initializing GetStationary\n",
      "\n",
      "...transforming GetStationary \n",
      "\n",
      "M5650805 城镇调查失业率  too few data before 2014, need imputer\n",
      "M6424498 iCPI:总指数:环比  too few data before 2014, need imputer\n",
      "M6388362 投资景气指数:总体  too few data before 2014, need imputer\n",
      "M5515072 中期借贷便利(MLF):期末余额  too few data before 2014, need imputer\n",
      "M5639023 债券市场发行债券:国债  too few data before 2014, need imputer\n",
      "M6193259 新增投资者数量  too few data before 2014, need imputer\n",
      "M5543211 私募基金管理人:证券:家数  too few data before 2014, need imputer\n",
      "M5524546 资产管理业务总规模  too few data before 2014, need imputer\n",
      "Y0910594 万得一致预测:M1:同比  too few data before 2014, need imputer\n",
      "M0331593 万得一致预测:社会融资规模:当月值  too few data before 2014, need imputer\n",
      "M0329545 中期借贷便利(MLF):利率:1年  too few data before 2014, need imputer\n",
      "V7644905 美国:30年期抵押贷款固定利率与5年期抵押贷款浮动利率利差  too few data before 2014, need imputer\n",
      "G1100376 美国:商业预期:销售收入增长:平滑  too few data before 2014, need imputer\n",
      "G1100380 美国:商业不确定性:销售收入增长:平滑  too few data before 2014, need imputer\n",
      "M1016750 超额利差(中位数):全体产业债  too few data before 2014, need imputer\n",
      "M1016548 信用利差(中位数):产业债AA  too few data before 2014, need imputer\n",
      "M1016546 信用利差(中位数):产业债AAA  too few data before 2014, need imputer\n",
      "M1016545 信用利差(中位数):全体产业债  too few data before 2014, need imputer\n",
      "M1016710 信用利差(中位数):全体城投债  too few data before 2014, need imputer\n",
      "...initializing SeriesToSupervised\n",
      "\n",
      "...transforming SeriesToSupervised\n",
      "\n",
      "...Pre-processing finished\n",
      "\n",
      "data pickle saved\n"
     ]
    }
   ],
   "source": [
    "#############预处理##############\n",
    "X, y_ret = utils.get_preproc_data(PATH_ORI_DATA, if_update, use_cache, align_to, use_lag_x, use_sup_lead, begT, endT)\n",
    "if asset_sel:\n",
    "    y_ret = y_ret.iloc[:, asset_sel]\n",
    "\n",
    "if if_cls:\n",
    "    y_cls = utils.reg_to_class(y_ret, 3)\n",
    "    y = y_cls\n",
    "else:\n",
    "    y = y_ret"
   ]
  },
  {
   "cell_type": "code",
   "execution_count": 5,
   "id": "0d4c0e59",
   "metadata": {
    "ExecuteTime": {
     "end_time": "2022-10-17T12:07:59.118735Z",
     "start_time": "2022-10-17T08:32:18.049117Z"
    }
   },
   "outputs": [
    {
     "name": "stdout",
     "output_type": "stream",
     "text": [
      "/nTRAIN period: 2005-05 -> 2015-07 \n",
      "Start training.......................\n",
      "...initializing MacroFE\n"
     ]
    },
    {
     "name": "stderr",
     "output_type": "stream",
     "text": [
      "/Users/Gary/opt/anaconda3/envs/MLenv/lib/python3.9/site-packages/xgboost/compat.py:36: FutureWarning: pandas.Int64Index is deprecated and will be removed from pandas in a future version. Use pandas.Index with the appropriate dtype instead.\n",
      "  from pandas import MultiIndex, Int64Index\n"
     ]
    },
    {
     "name": "stdout",
     "output_type": "stream",
     "text": [
      "no param_list found for this estimator, will use default params\n",
      "补充框架已pass through至transformed X\n",
      "...initializing MacroFE\n"
     ]
    },
    {
     "name": "stderr",
     "output_type": "stream",
     "text": [
      "/Users/Gary/opt/anaconda3/envs/MLenv/lib/python3.9/site-packages/numpy/lib/function_base.py:2853: RuntimeWarning: invalid value encountered in divide\n",
      "  c /= stddev[:, None]\n",
      "/Users/Gary/opt/anaconda3/envs/MLenv/lib/python3.9/site-packages/numpy/lib/function_base.py:2854: RuntimeWarning: invalid value encountered in divide\n",
      "  c /= stddev[None, :]\n"
     ]
    },
    {
     "name": "stdout",
     "output_type": "stream",
     "text": [
      "...transforming MacroFE\n"
     ]
    },
    {
     "name": "stderr",
     "output_type": "stream",
     "text": [
      "/Users/Gary/opt/anaconda3/envs/MLenv/lib/python3.9/site-packages/xgboost/sklearn.py:1224: UserWarning: The use of label encoder in XGBClassifier is deprecated and will be removed in a future release. To remove this warning, do the following: 1) Pass option use_label_encoder=False when constructing XGBClassifier object; and 2) Encode your labels (y) as integers starting with 0, i.e. 0, 1, 2, ..., [num_class - 1].\n",
      "  warnings.warn(label_encoder_deprecation_msg, UserWarning)\n"
     ]
    },
    {
     "name": "stdout",
     "output_type": "stream",
     "text": [
      "...transforming MacroFE\n",
      "样本内score： 1.0\n",
      "model 0 pickle saved and appended\n",
      "\n",
      "no param_list found for this estimator, will use default params\n",
      "补充框架已pass through至transformed X\n",
      "...initializing MacroFE\n"
     ]
    },
    {
     "name": "stderr",
     "output_type": "stream",
     "text": [
      "/Users/Gary/opt/anaconda3/envs/MLenv/lib/python3.9/site-packages/numpy/lib/function_base.py:2853: RuntimeWarning: invalid value encountered in divide\n",
      "  c /= stddev[:, None]\n",
      "/Users/Gary/opt/anaconda3/envs/MLenv/lib/python3.9/site-packages/numpy/lib/function_base.py:2854: RuntimeWarning: invalid value encountered in divide\n",
      "  c /= stddev[None, :]\n"
     ]
    },
    {
     "name": "stdout",
     "output_type": "stream",
     "text": [
      "...transforming MacroFE\n"
     ]
    },
    {
     "name": "stderr",
     "output_type": "stream",
     "text": [
      "/Users/Gary/opt/anaconda3/envs/MLenv/lib/python3.9/site-packages/xgboost/sklearn.py:1224: UserWarning: The use of label encoder in XGBClassifier is deprecated and will be removed in a future release. To remove this warning, do the following: 1) Pass option use_label_encoder=False when constructing XGBClassifier object; and 2) Encode your labels (y) as integers starting with 0, i.e. 0, 1, 2, ..., [num_class - 1].\n",
      "  warnings.warn(label_encoder_deprecation_msg, UserWarning)\n"
     ]
    },
    {
     "name": "stdout",
     "output_type": "stream",
     "text": [
      "...transforming MacroFE\n",
      "样本内score： 1.0\n",
      "model 1 pickle saved and appended\n",
      "\n",
      "no param_list found for this estimator, will use default params\n",
      "补充框架已pass through至transformed X\n",
      "...initializing MacroFE\n",
      "...transforming MacroFE\n"
     ]
    },
    {
     "name": "stderr",
     "output_type": "stream",
     "text": [
      "/Users/Gary/opt/anaconda3/envs/MLenv/lib/python3.9/site-packages/xgboost/sklearn.py:1224: UserWarning: The use of label encoder in XGBClassifier is deprecated and will be removed in a future release. To remove this warning, do the following: 1) Pass option use_label_encoder=False when constructing XGBClassifier object; and 2) Encode your labels (y) as integers starting with 0, i.e. 0, 1, 2, ..., [num_class - 1].\n",
      "  warnings.warn(label_encoder_deprecation_msg, UserWarning)\n"
     ]
    },
    {
     "name": "stdout",
     "output_type": "stream",
     "text": [
      "...transforming MacroFE\n",
      "样本内score： 1.0\n",
      "model 2 pickle saved and appended\n",
      "\n",
      "no param_list found for this estimator, will use default params\n",
      "补充框架已pass through至transformed X\n",
      "...initializing MacroFE\n",
      "...transforming MacroFE\n"
     ]
    },
    {
     "name": "stderr",
     "output_type": "stream",
     "text": [
      "/Users/Gary/opt/anaconda3/envs/MLenv/lib/python3.9/site-packages/xgboost/sklearn.py:1224: UserWarning: The use of label encoder in XGBClassifier is deprecated and will be removed in a future release. To remove this warning, do the following: 1) Pass option use_label_encoder=False when constructing XGBClassifier object; and 2) Encode your labels (y) as integers starting with 0, i.e. 0, 1, 2, ..., [num_class - 1].\n",
      "  warnings.warn(label_encoder_deprecation_msg, UserWarning)\n"
     ]
    },
    {
     "name": "stdout",
     "output_type": "stream",
     "text": [
      "...transforming MacroFE\n",
      "样本内score： 1.0\n",
      "model 3 pickle saved and appended\n",
      "\n",
      "no param_list found for this estimator, will use default params\n",
      "补充框架已pass through至transformed X\n",
      "...initializing MacroFE\n",
      "...transforming MacroFE\n"
     ]
    },
    {
     "name": "stderr",
     "output_type": "stream",
     "text": [
      "/Users/Gary/opt/anaconda3/envs/MLenv/lib/python3.9/site-packages/xgboost/sklearn.py:1224: UserWarning: The use of label encoder in XGBClassifier is deprecated and will be removed in a future release. To remove this warning, do the following: 1) Pass option use_label_encoder=False when constructing XGBClassifier object; and 2) Encode your labels (y) as integers starting with 0, i.e. 0, 1, 2, ..., [num_class - 1].\n",
      "  warnings.warn(label_encoder_deprecation_msg, UserWarning)\n"
     ]
    },
    {
     "name": "stdout",
     "output_type": "stream",
     "text": [
      "...transforming MacroFE\n",
      "样本内score： 1.0\n",
      "model 4 pickle saved and appended\n",
      "\n",
      "no param_list found for this estimator, will use default params\n",
      "补充框架已pass through至transformed X\n",
      "...initializing MacroFE\n",
      "...transforming MacroFE\n"
     ]
    },
    {
     "name": "stderr",
     "output_type": "stream",
     "text": [
      "/Users/Gary/opt/anaconda3/envs/MLenv/lib/python3.9/site-packages/xgboost/sklearn.py:1224: UserWarning: The use of label encoder in XGBClassifier is deprecated and will be removed in a future release. To remove this warning, do the following: 1) Pass option use_label_encoder=False when constructing XGBClassifier object; and 2) Encode your labels (y) as integers starting with 0, i.e. 0, 1, 2, ..., [num_class - 1].\n",
      "  warnings.warn(label_encoder_deprecation_msg, UserWarning)\n"
     ]
    },
    {
     "name": "stdout",
     "output_type": "stream",
     "text": [
      "...transforming MacroFE\n",
      "样本内score： 1.0\n",
      "model 5 pickle saved and appended\n",
      "\n",
      "no param_list found for this estimator, will use default params\n",
      "补充框架已pass through至transformed X\n",
      "...initializing MacroFE\n",
      "...transforming MacroFE\n"
     ]
    },
    {
     "name": "stderr",
     "output_type": "stream",
     "text": [
      "/Users/Gary/opt/anaconda3/envs/MLenv/lib/python3.9/site-packages/xgboost/sklearn.py:1224: UserWarning: The use of label encoder in XGBClassifier is deprecated and will be removed in a future release. To remove this warning, do the following: 1) Pass option use_label_encoder=False when constructing XGBClassifier object; and 2) Encode your labels (y) as integers starting with 0, i.e. 0, 1, 2, ..., [num_class - 1].\n",
      "  warnings.warn(label_encoder_deprecation_msg, UserWarning)\n"
     ]
    },
    {
     "name": "stdout",
     "output_type": "stream",
     "text": [
      "...transforming MacroFE\n",
      "样本内score： 1.0\n",
      "model 6 pickle saved and appended\n",
      "\n",
      "no param_list found for this estimator, will use default params\n",
      "补充框架已pass through至transformed X\n",
      "...initializing MacroFE\n",
      "...transforming MacroFE\n"
     ]
    },
    {
     "name": "stderr",
     "output_type": "stream",
     "text": [
      "/Users/Gary/opt/anaconda3/envs/MLenv/lib/python3.9/site-packages/xgboost/sklearn.py:1224: UserWarning: The use of label encoder in XGBClassifier is deprecated and will be removed in a future release. To remove this warning, do the following: 1) Pass option use_label_encoder=False when constructing XGBClassifier object; and 2) Encode your labels (y) as integers starting with 0, i.e. 0, 1, 2, ..., [num_class - 1].\n",
      "  warnings.warn(label_encoder_deprecation_msg, UserWarning)\n"
     ]
    },
    {
     "name": "stdout",
     "output_type": "stream",
     "text": [
      "...transforming MacroFE\n",
      "样本内score： 1.0\n",
      "model 7 pickle saved and appended\n",
      "\n",
      "no param_list found for this estimator, will use default params\n",
      "补充框架已pass through至transformed X\n",
      "...initializing MacroFE\n"
     ]
    },
    {
     "name": "stderr",
     "output_type": "stream",
     "text": [
      "/Users/Gary/opt/anaconda3/envs/MLenv/lib/python3.9/site-packages/numpy/lib/function_base.py:2853: RuntimeWarning: invalid value encountered in divide\n",
      "  c /= stddev[:, None]\n",
      "/Users/Gary/opt/anaconda3/envs/MLenv/lib/python3.9/site-packages/numpy/lib/function_base.py:2854: RuntimeWarning: invalid value encountered in divide\n",
      "  c /= stddev[None, :]\n"
     ]
    },
    {
     "name": "stdout",
     "output_type": "stream",
     "text": [
      "...transforming MacroFE\n"
     ]
    },
    {
     "name": "stderr",
     "output_type": "stream",
     "text": [
      "/Users/Gary/opt/anaconda3/envs/MLenv/lib/python3.9/site-packages/xgboost/sklearn.py:1224: UserWarning: The use of label encoder in XGBClassifier is deprecated and will be removed in a future release. To remove this warning, do the following: 1) Pass option use_label_encoder=False when constructing XGBClassifier object; and 2) Encode your labels (y) as integers starting with 0, i.e. 0, 1, 2, ..., [num_class - 1].\n",
      "  warnings.warn(label_encoder_deprecation_msg, UserWarning)\n"
     ]
    },
    {
     "name": "stdout",
     "output_type": "stream",
     "text": [
      "...transforming MacroFE\n",
      "样本内score： 1.0\n",
      "model 8 pickle saved and appended\n",
      "\n",
      "no param_list found for this estimator, will use default params\n",
      "补充框架已pass through至transformed X\n",
      "...initializing MacroFE\n"
     ]
    },
    {
     "name": "stderr",
     "output_type": "stream",
     "text": [
      "/Users/Gary/opt/anaconda3/envs/MLenv/lib/python3.9/site-packages/numpy/lib/function_base.py:2853: RuntimeWarning: invalid value encountered in divide\n",
      "  c /= stddev[:, None]\n",
      "/Users/Gary/opt/anaconda3/envs/MLenv/lib/python3.9/site-packages/numpy/lib/function_base.py:2854: RuntimeWarning: invalid value encountered in divide\n",
      "  c /= stddev[None, :]\n"
     ]
    },
    {
     "name": "stdout",
     "output_type": "stream",
     "text": [
      "...transforming MacroFE\n"
     ]
    },
    {
     "name": "stderr",
     "output_type": "stream",
     "text": [
      "/Users/Gary/opt/anaconda3/envs/MLenv/lib/python3.9/site-packages/xgboost/sklearn.py:1224: UserWarning: The use of label encoder in XGBClassifier is deprecated and will be removed in a future release. To remove this warning, do the following: 1) Pass option use_label_encoder=False when constructing XGBClassifier object; and 2) Encode your labels (y) as integers starting with 0, i.e. 0, 1, 2, ..., [num_class - 1].\n",
      "  warnings.warn(label_encoder_deprecation_msg, UserWarning)\n"
     ]
    },
    {
     "name": "stdout",
     "output_type": "stream",
     "text": [
      "...transforming MacroFE\n",
      "样本内score： 1.0\n",
      "model 9 pickle saved and appended\n",
      "\n",
      "/nTRAIN period: 2005-05 -> 2016-07 \n",
      "Start training.......................\n",
      "no param_list found for this estimator, will use default params\n",
      "补充框架已pass through至transformed X\n",
      "...initializing MacroFE\n",
      "...transforming MacroFE\n"
     ]
    },
    {
     "name": "stderr",
     "output_type": "stream",
     "text": [
      "/Users/Gary/opt/anaconda3/envs/MLenv/lib/python3.9/site-packages/xgboost/sklearn.py:1224: UserWarning: The use of label encoder in XGBClassifier is deprecated and will be removed in a future release. To remove this warning, do the following: 1) Pass option use_label_encoder=False when constructing XGBClassifier object; and 2) Encode your labels (y) as integers starting with 0, i.e. 0, 1, 2, ..., [num_class - 1].\n",
      "  warnings.warn(label_encoder_deprecation_msg, UserWarning)\n"
     ]
    },
    {
     "name": "stdout",
     "output_type": "stream",
     "text": [
      "...transforming MacroFE\n",
      "样本内score： 1.0\n",
      "model 0 pickle saved and appended\n",
      "\n",
      "no param_list found for this estimator, will use default params\n",
      "补充框架已pass through至transformed X\n",
      "...initializing MacroFE\n",
      "...transforming MacroFE\n"
     ]
    },
    {
     "name": "stderr",
     "output_type": "stream",
     "text": [
      "/Users/Gary/opt/anaconda3/envs/MLenv/lib/python3.9/site-packages/xgboost/sklearn.py:1224: UserWarning: The use of label encoder in XGBClassifier is deprecated and will be removed in a future release. To remove this warning, do the following: 1) Pass option use_label_encoder=False when constructing XGBClassifier object; and 2) Encode your labels (y) as integers starting with 0, i.e. 0, 1, 2, ..., [num_class - 1].\n",
      "  warnings.warn(label_encoder_deprecation_msg, UserWarning)\n"
     ]
    },
    {
     "name": "stdout",
     "output_type": "stream",
     "text": [
      "...transforming MacroFE\n",
      "样本内score： 1.0\n",
      "model 1 pickle saved and appended\n",
      "\n",
      "no param_list found for this estimator, will use default params\n",
      "补充框架已pass through至transformed X\n",
      "...initializing MacroFE\n",
      "...transforming MacroFE\n"
     ]
    },
    {
     "name": "stderr",
     "output_type": "stream",
     "text": [
      "/Users/Gary/opt/anaconda3/envs/MLenv/lib/python3.9/site-packages/xgboost/sklearn.py:1224: UserWarning: The use of label encoder in XGBClassifier is deprecated and will be removed in a future release. To remove this warning, do the following: 1) Pass option use_label_encoder=False when constructing XGBClassifier object; and 2) Encode your labels (y) as integers starting with 0, i.e. 0, 1, 2, ..., [num_class - 1].\n",
      "  warnings.warn(label_encoder_deprecation_msg, UserWarning)\n"
     ]
    },
    {
     "name": "stdout",
     "output_type": "stream",
     "text": [
      "...transforming MacroFE\n",
      "样本内score： 1.0\n",
      "model 2 pickle saved and appended\n",
      "\n",
      "no param_list found for this estimator, will use default params\n",
      "补充框架已pass through至transformed X\n",
      "...initializing MacroFE\n",
      "...transforming MacroFE\n"
     ]
    },
    {
     "name": "stderr",
     "output_type": "stream",
     "text": [
      "/Users/Gary/opt/anaconda3/envs/MLenv/lib/python3.9/site-packages/xgboost/sklearn.py:1224: UserWarning: The use of label encoder in XGBClassifier is deprecated and will be removed in a future release. To remove this warning, do the following: 1) Pass option use_label_encoder=False when constructing XGBClassifier object; and 2) Encode your labels (y) as integers starting with 0, i.e. 0, 1, 2, ..., [num_class - 1].\n",
      "  warnings.warn(label_encoder_deprecation_msg, UserWarning)\n"
     ]
    },
    {
     "name": "stdout",
     "output_type": "stream",
     "text": [
      "...transforming MacroFE\n",
      "样本内score： 1.0\n",
      "model 3 pickle saved and appended\n",
      "\n",
      "no param_list found for this estimator, will use default params\n",
      "补充框架已pass through至transformed X\n",
      "...initializing MacroFE\n",
      "...transforming MacroFE\n"
     ]
    },
    {
     "name": "stderr",
     "output_type": "stream",
     "text": [
      "/Users/Gary/opt/anaconda3/envs/MLenv/lib/python3.9/site-packages/xgboost/sklearn.py:1224: UserWarning: The use of label encoder in XGBClassifier is deprecated and will be removed in a future release. To remove this warning, do the following: 1) Pass option use_label_encoder=False when constructing XGBClassifier object; and 2) Encode your labels (y) as integers starting with 0, i.e. 0, 1, 2, ..., [num_class - 1].\n",
      "  warnings.warn(label_encoder_deprecation_msg, UserWarning)\n"
     ]
    },
    {
     "name": "stdout",
     "output_type": "stream",
     "text": [
      "...transforming MacroFE\n",
      "样本内score： 1.0\n",
      "model 4 pickle saved and appended\n",
      "\n",
      "no param_list found for this estimator, will use default params\n",
      "补充框架已pass through至transformed X\n",
      "...initializing MacroFE\n",
      "...transforming MacroFE\n"
     ]
    },
    {
     "name": "stderr",
     "output_type": "stream",
     "text": [
      "/Users/Gary/opt/anaconda3/envs/MLenv/lib/python3.9/site-packages/xgboost/sklearn.py:1224: UserWarning: The use of label encoder in XGBClassifier is deprecated and will be removed in a future release. To remove this warning, do the following: 1) Pass option use_label_encoder=False when constructing XGBClassifier object; and 2) Encode your labels (y) as integers starting with 0, i.e. 0, 1, 2, ..., [num_class - 1].\n",
      "  warnings.warn(label_encoder_deprecation_msg, UserWarning)\n"
     ]
    },
    {
     "name": "stdout",
     "output_type": "stream",
     "text": [
      "...transforming MacroFE\n",
      "样本内score： 1.0\n",
      "model 5 pickle saved and appended\n",
      "\n",
      "no param_list found for this estimator, will use default params\n",
      "补充框架已pass through至transformed X\n",
      "...initializing MacroFE\n",
      "...transforming MacroFE\n"
     ]
    },
    {
     "name": "stderr",
     "output_type": "stream",
     "text": [
      "/Users/Gary/opt/anaconda3/envs/MLenv/lib/python3.9/site-packages/xgboost/sklearn.py:1224: UserWarning: The use of label encoder in XGBClassifier is deprecated and will be removed in a future release. To remove this warning, do the following: 1) Pass option use_label_encoder=False when constructing XGBClassifier object; and 2) Encode your labels (y) as integers starting with 0, i.e. 0, 1, 2, ..., [num_class - 1].\n",
      "  warnings.warn(label_encoder_deprecation_msg, UserWarning)\n"
     ]
    },
    {
     "name": "stdout",
     "output_type": "stream",
     "text": [
      "...transforming MacroFE\n",
      "样本内score： 1.0\n",
      "model 6 pickle saved and appended\n",
      "\n",
      "no param_list found for this estimator, will use default params\n",
      "补充框架已pass through至transformed X\n",
      "...initializing MacroFE\n",
      "...transforming MacroFE\n"
     ]
    },
    {
     "name": "stderr",
     "output_type": "stream",
     "text": [
      "/Users/Gary/opt/anaconda3/envs/MLenv/lib/python3.9/site-packages/xgboost/sklearn.py:1224: UserWarning: The use of label encoder in XGBClassifier is deprecated and will be removed in a future release. To remove this warning, do the following: 1) Pass option use_label_encoder=False when constructing XGBClassifier object; and 2) Encode your labels (y) as integers starting with 0, i.e. 0, 1, 2, ..., [num_class - 1].\n",
      "  warnings.warn(label_encoder_deprecation_msg, UserWarning)\n"
     ]
    },
    {
     "name": "stdout",
     "output_type": "stream",
     "text": [
      "...transforming MacroFE\n",
      "样本内score： 1.0\n",
      "model 7 pickle saved and appended\n",
      "\n",
      "no param_list found for this estimator, will use default params\n",
      "补充框架已pass through至transformed X\n",
      "...initializing MacroFE\n",
      "...transforming MacroFE\n"
     ]
    },
    {
     "name": "stderr",
     "output_type": "stream",
     "text": [
      "/Users/Gary/opt/anaconda3/envs/MLenv/lib/python3.9/site-packages/xgboost/sklearn.py:1224: UserWarning: The use of label encoder in XGBClassifier is deprecated and will be removed in a future release. To remove this warning, do the following: 1) Pass option use_label_encoder=False when constructing XGBClassifier object; and 2) Encode your labels (y) as integers starting with 0, i.e. 0, 1, 2, ..., [num_class - 1].\n",
      "  warnings.warn(label_encoder_deprecation_msg, UserWarning)\n"
     ]
    },
    {
     "name": "stdout",
     "output_type": "stream",
     "text": [
      "...transforming MacroFE\n",
      "样本内score： 1.0\n",
      "model 8 pickle saved and appended\n",
      "\n",
      "no param_list found for this estimator, will use default params\n",
      "补充框架已pass through至transformed X\n",
      "...initializing MacroFE\n",
      "...transforming MacroFE\n"
     ]
    },
    {
     "name": "stderr",
     "output_type": "stream",
     "text": [
      "/Users/Gary/opt/anaconda3/envs/MLenv/lib/python3.9/site-packages/xgboost/sklearn.py:1224: UserWarning: The use of label encoder in XGBClassifier is deprecated and will be removed in a future release. To remove this warning, do the following: 1) Pass option use_label_encoder=False when constructing XGBClassifier object; and 2) Encode your labels (y) as integers starting with 0, i.e. 0, 1, 2, ..., [num_class - 1].\n",
      "  warnings.warn(label_encoder_deprecation_msg, UserWarning)\n"
     ]
    },
    {
     "name": "stdout",
     "output_type": "stream",
     "text": [
      "...transforming MacroFE\n",
      "样本内score： 1.0\n",
      "model 9 pickle saved and appended\n",
      "\n",
      "/nTRAIN period: 2005-05 -> 2017-07 \n",
      "Start training.......................\n",
      "no param_list found for this estimator, will use default params\n",
      "补充框架已pass through至transformed X\n",
      "...initializing MacroFE\n",
      "...transforming MacroFE\n"
     ]
    },
    {
     "name": "stderr",
     "output_type": "stream",
     "text": [
      "/Users/Gary/opt/anaconda3/envs/MLenv/lib/python3.9/site-packages/xgboost/sklearn.py:1224: UserWarning: The use of label encoder in XGBClassifier is deprecated and will be removed in a future release. To remove this warning, do the following: 1) Pass option use_label_encoder=False when constructing XGBClassifier object; and 2) Encode your labels (y) as integers starting with 0, i.e. 0, 1, 2, ..., [num_class - 1].\n",
      "  warnings.warn(label_encoder_deprecation_msg, UserWarning)\n"
     ]
    },
    {
     "name": "stdout",
     "output_type": "stream",
     "text": [
      "...transforming MacroFE\n",
      "样本内score： 1.0\n",
      "model 0 pickle saved and appended\n",
      "\n",
      "no param_list found for this estimator, will use default params\n",
      "补充框架已pass through至transformed X\n",
      "...initializing MacroFE\n",
      "...transforming MacroFE\n"
     ]
    },
    {
     "name": "stderr",
     "output_type": "stream",
     "text": [
      "/Users/Gary/opt/anaconda3/envs/MLenv/lib/python3.9/site-packages/xgboost/sklearn.py:1224: UserWarning: The use of label encoder in XGBClassifier is deprecated and will be removed in a future release. To remove this warning, do the following: 1) Pass option use_label_encoder=False when constructing XGBClassifier object; and 2) Encode your labels (y) as integers starting with 0, i.e. 0, 1, 2, ..., [num_class - 1].\n",
      "  warnings.warn(label_encoder_deprecation_msg, UserWarning)\n"
     ]
    },
    {
     "name": "stdout",
     "output_type": "stream",
     "text": [
      "...transforming MacroFE\n",
      "样本内score： 1.0\n",
      "model 1 pickle saved and appended\n",
      "\n",
      "no param_list found for this estimator, will use default params\n",
      "补充框架已pass through至transformed X\n",
      "...initializing MacroFE\n",
      "...transforming MacroFE\n"
     ]
    },
    {
     "name": "stderr",
     "output_type": "stream",
     "text": [
      "/Users/Gary/opt/anaconda3/envs/MLenv/lib/python3.9/site-packages/xgboost/sklearn.py:1224: UserWarning: The use of label encoder in XGBClassifier is deprecated and will be removed in a future release. To remove this warning, do the following: 1) Pass option use_label_encoder=False when constructing XGBClassifier object; and 2) Encode your labels (y) as integers starting with 0, i.e. 0, 1, 2, ..., [num_class - 1].\n",
      "  warnings.warn(label_encoder_deprecation_msg, UserWarning)\n"
     ]
    },
    {
     "name": "stdout",
     "output_type": "stream",
     "text": [
      "...transforming MacroFE\n",
      "样本内score： 1.0\n",
      "model 2 pickle saved and appended\n",
      "\n",
      "no param_list found for this estimator, will use default params\n",
      "补充框架已pass through至transformed X\n",
      "...initializing MacroFE\n",
      "...transforming MacroFE\n"
     ]
    },
    {
     "name": "stderr",
     "output_type": "stream",
     "text": [
      "/Users/Gary/opt/anaconda3/envs/MLenv/lib/python3.9/site-packages/xgboost/sklearn.py:1224: UserWarning: The use of label encoder in XGBClassifier is deprecated and will be removed in a future release. To remove this warning, do the following: 1) Pass option use_label_encoder=False when constructing XGBClassifier object; and 2) Encode your labels (y) as integers starting with 0, i.e. 0, 1, 2, ..., [num_class - 1].\n",
      "  warnings.warn(label_encoder_deprecation_msg, UserWarning)\n"
     ]
    },
    {
     "name": "stdout",
     "output_type": "stream",
     "text": [
      "...transforming MacroFE\n",
      "样本内score： 1.0\n",
      "model 3 pickle saved and appended\n",
      "\n",
      "no param_list found for this estimator, will use default params\n",
      "补充框架已pass through至transformed X\n",
      "...initializing MacroFE\n",
      "...transforming MacroFE\n"
     ]
    },
    {
     "name": "stderr",
     "output_type": "stream",
     "text": [
      "/Users/Gary/opt/anaconda3/envs/MLenv/lib/python3.9/site-packages/xgboost/sklearn.py:1224: UserWarning: The use of label encoder in XGBClassifier is deprecated and will be removed in a future release. To remove this warning, do the following: 1) Pass option use_label_encoder=False when constructing XGBClassifier object; and 2) Encode your labels (y) as integers starting with 0, i.e. 0, 1, 2, ..., [num_class - 1].\n",
      "  warnings.warn(label_encoder_deprecation_msg, UserWarning)\n"
     ]
    },
    {
     "name": "stdout",
     "output_type": "stream",
     "text": [
      "...transforming MacroFE\n",
      "样本内score： 1.0\n",
      "model 4 pickle saved and appended\n",
      "\n",
      "no param_list found for this estimator, will use default params\n",
      "补充框架已pass through至transformed X\n",
      "...initializing MacroFE\n",
      "...transforming MacroFE\n"
     ]
    },
    {
     "name": "stderr",
     "output_type": "stream",
     "text": [
      "/Users/Gary/opt/anaconda3/envs/MLenv/lib/python3.9/site-packages/xgboost/sklearn.py:1224: UserWarning: The use of label encoder in XGBClassifier is deprecated and will be removed in a future release. To remove this warning, do the following: 1) Pass option use_label_encoder=False when constructing XGBClassifier object; and 2) Encode your labels (y) as integers starting with 0, i.e. 0, 1, 2, ..., [num_class - 1].\n",
      "  warnings.warn(label_encoder_deprecation_msg, UserWarning)\n"
     ]
    },
    {
     "name": "stdout",
     "output_type": "stream",
     "text": [
      "...transforming MacroFE\n",
      "样本内score： 1.0\n",
      "model 5 pickle saved and appended\n",
      "\n",
      "no param_list found for this estimator, will use default params\n",
      "补充框架已pass through至transformed X\n",
      "...initializing MacroFE\n",
      "...transforming MacroFE\n"
     ]
    },
    {
     "name": "stderr",
     "output_type": "stream",
     "text": [
      "/Users/Gary/opt/anaconda3/envs/MLenv/lib/python3.9/site-packages/xgboost/sklearn.py:1224: UserWarning: The use of label encoder in XGBClassifier is deprecated and will be removed in a future release. To remove this warning, do the following: 1) Pass option use_label_encoder=False when constructing XGBClassifier object; and 2) Encode your labels (y) as integers starting with 0, i.e. 0, 1, 2, ..., [num_class - 1].\n",
      "  warnings.warn(label_encoder_deprecation_msg, UserWarning)\n"
     ]
    },
    {
     "name": "stdout",
     "output_type": "stream",
     "text": [
      "...transforming MacroFE\n",
      "样本内score： 1.0\n",
      "model 6 pickle saved and appended\n",
      "\n",
      "no param_list found for this estimator, will use default params\n",
      "补充框架已pass through至transformed X\n",
      "...initializing MacroFE\n",
      "...transforming MacroFE\n"
     ]
    },
    {
     "name": "stderr",
     "output_type": "stream",
     "text": [
      "/Users/Gary/opt/anaconda3/envs/MLenv/lib/python3.9/site-packages/xgboost/sklearn.py:1224: UserWarning: The use of label encoder in XGBClassifier is deprecated and will be removed in a future release. To remove this warning, do the following: 1) Pass option use_label_encoder=False when constructing XGBClassifier object; and 2) Encode your labels (y) as integers starting with 0, i.e. 0, 1, 2, ..., [num_class - 1].\n",
      "  warnings.warn(label_encoder_deprecation_msg, UserWarning)\n"
     ]
    },
    {
     "name": "stdout",
     "output_type": "stream",
     "text": [
      "...transforming MacroFE\n",
      "样本内score： 1.0\n",
      "model 7 pickle saved and appended\n",
      "\n",
      "no param_list found for this estimator, will use default params\n",
      "补充框架已pass through至transformed X\n",
      "...initializing MacroFE\n",
      "...transforming MacroFE\n"
     ]
    },
    {
     "name": "stderr",
     "output_type": "stream",
     "text": [
      "/Users/Gary/opt/anaconda3/envs/MLenv/lib/python3.9/site-packages/xgboost/sklearn.py:1224: UserWarning: The use of label encoder in XGBClassifier is deprecated and will be removed in a future release. To remove this warning, do the following: 1) Pass option use_label_encoder=False when constructing XGBClassifier object; and 2) Encode your labels (y) as integers starting with 0, i.e. 0, 1, 2, ..., [num_class - 1].\n",
      "  warnings.warn(label_encoder_deprecation_msg, UserWarning)\n"
     ]
    },
    {
     "name": "stdout",
     "output_type": "stream",
     "text": [
      "...transforming MacroFE\n",
      "样本内score： 1.0\n",
      "model 8 pickle saved and appended\n",
      "\n",
      "no param_list found for this estimator, will use default params\n",
      "补充框架已pass through至transformed X\n",
      "...initializing MacroFE\n",
      "...transforming MacroFE\n"
     ]
    },
    {
     "name": "stderr",
     "output_type": "stream",
     "text": [
      "/Users/Gary/opt/anaconda3/envs/MLenv/lib/python3.9/site-packages/xgboost/sklearn.py:1224: UserWarning: The use of label encoder in XGBClassifier is deprecated and will be removed in a future release. To remove this warning, do the following: 1) Pass option use_label_encoder=False when constructing XGBClassifier object; and 2) Encode your labels (y) as integers starting with 0, i.e. 0, 1, 2, ..., [num_class - 1].\n",
      "  warnings.warn(label_encoder_deprecation_msg, UserWarning)\n"
     ]
    },
    {
     "name": "stdout",
     "output_type": "stream",
     "text": [
      "...transforming MacroFE\n",
      "样本内score： 1.0\n",
      "model 9 pickle saved and appended\n",
      "\n",
      "/nTRAIN period: 2005-05 -> 2018-07 \n",
      "Start training.......................\n",
      "no param_list found for this estimator, will use default params\n",
      "补充框架已pass through至transformed X\n",
      "...initializing MacroFE\n",
      "...transforming MacroFE\n"
     ]
    },
    {
     "name": "stderr",
     "output_type": "stream",
     "text": [
      "/Users/Gary/opt/anaconda3/envs/MLenv/lib/python3.9/site-packages/xgboost/sklearn.py:1224: UserWarning: The use of label encoder in XGBClassifier is deprecated and will be removed in a future release. To remove this warning, do the following: 1) Pass option use_label_encoder=False when constructing XGBClassifier object; and 2) Encode your labels (y) as integers starting with 0, i.e. 0, 1, 2, ..., [num_class - 1].\n",
      "  warnings.warn(label_encoder_deprecation_msg, UserWarning)\n"
     ]
    },
    {
     "name": "stdout",
     "output_type": "stream",
     "text": [
      "...transforming MacroFE\n",
      "样本内score： 1.0\n",
      "model 0 pickle saved and appended\n",
      "\n",
      "no param_list found for this estimator, will use default params\n",
      "补充框架已pass through至transformed X\n",
      "...initializing MacroFE\n",
      "...transforming MacroFE\n"
     ]
    },
    {
     "name": "stderr",
     "output_type": "stream",
     "text": [
      "/Users/Gary/opt/anaconda3/envs/MLenv/lib/python3.9/site-packages/xgboost/sklearn.py:1224: UserWarning: The use of label encoder in XGBClassifier is deprecated and will be removed in a future release. To remove this warning, do the following: 1) Pass option use_label_encoder=False when constructing XGBClassifier object; and 2) Encode your labels (y) as integers starting with 0, i.e. 0, 1, 2, ..., [num_class - 1].\n",
      "  warnings.warn(label_encoder_deprecation_msg, UserWarning)\n"
     ]
    },
    {
     "name": "stdout",
     "output_type": "stream",
     "text": [
      "...transforming MacroFE\n",
      "样本内score： 1.0\n",
      "model 1 pickle saved and appended\n",
      "\n",
      "no param_list found for this estimator, will use default params\n",
      "补充框架已pass through至transformed X\n",
      "...initializing MacroFE\n",
      "...transforming MacroFE\n"
     ]
    },
    {
     "name": "stderr",
     "output_type": "stream",
     "text": [
      "/Users/Gary/opt/anaconda3/envs/MLenv/lib/python3.9/site-packages/xgboost/sklearn.py:1224: UserWarning: The use of label encoder in XGBClassifier is deprecated and will be removed in a future release. To remove this warning, do the following: 1) Pass option use_label_encoder=False when constructing XGBClassifier object; and 2) Encode your labels (y) as integers starting with 0, i.e. 0, 1, 2, ..., [num_class - 1].\n",
      "  warnings.warn(label_encoder_deprecation_msg, UserWarning)\n"
     ]
    },
    {
     "name": "stdout",
     "output_type": "stream",
     "text": [
      "...transforming MacroFE\n",
      "样本内score： 1.0\n",
      "model 2 pickle saved and appended\n",
      "\n",
      "no param_list found for this estimator, will use default params\n",
      "补充框架已pass through至transformed X\n",
      "...initializing MacroFE\n",
      "...transforming MacroFE\n"
     ]
    },
    {
     "name": "stderr",
     "output_type": "stream",
     "text": [
      "/Users/Gary/opt/anaconda3/envs/MLenv/lib/python3.9/site-packages/xgboost/sklearn.py:1224: UserWarning: The use of label encoder in XGBClassifier is deprecated and will be removed in a future release. To remove this warning, do the following: 1) Pass option use_label_encoder=False when constructing XGBClassifier object; and 2) Encode your labels (y) as integers starting with 0, i.e. 0, 1, 2, ..., [num_class - 1].\n",
      "  warnings.warn(label_encoder_deprecation_msg, UserWarning)\n"
     ]
    },
    {
     "name": "stdout",
     "output_type": "stream",
     "text": [
      "...transforming MacroFE\n",
      "样本内score： 1.0\n",
      "model 3 pickle saved and appended\n",
      "\n",
      "no param_list found for this estimator, will use default params\n",
      "补充框架已pass through至transformed X\n",
      "...initializing MacroFE\n",
      "...transforming MacroFE\n"
     ]
    },
    {
     "name": "stderr",
     "output_type": "stream",
     "text": [
      "/Users/Gary/opt/anaconda3/envs/MLenv/lib/python3.9/site-packages/xgboost/sklearn.py:1224: UserWarning: The use of label encoder in XGBClassifier is deprecated and will be removed in a future release. To remove this warning, do the following: 1) Pass option use_label_encoder=False when constructing XGBClassifier object; and 2) Encode your labels (y) as integers starting with 0, i.e. 0, 1, 2, ..., [num_class - 1].\n",
      "  warnings.warn(label_encoder_deprecation_msg, UserWarning)\n"
     ]
    },
    {
     "name": "stdout",
     "output_type": "stream",
     "text": [
      "...transforming MacroFE\n",
      "样本内score： 1.0\n",
      "model 4 pickle saved and appended\n",
      "\n",
      "no param_list found for this estimator, will use default params\n",
      "补充框架已pass through至transformed X\n",
      "...initializing MacroFE\n",
      "...transforming MacroFE\n"
     ]
    },
    {
     "name": "stderr",
     "output_type": "stream",
     "text": [
      "/Users/Gary/opt/anaconda3/envs/MLenv/lib/python3.9/site-packages/xgboost/sklearn.py:1224: UserWarning: The use of label encoder in XGBClassifier is deprecated and will be removed in a future release. To remove this warning, do the following: 1) Pass option use_label_encoder=False when constructing XGBClassifier object; and 2) Encode your labels (y) as integers starting with 0, i.e. 0, 1, 2, ..., [num_class - 1].\n",
      "  warnings.warn(label_encoder_deprecation_msg, UserWarning)\n"
     ]
    },
    {
     "name": "stdout",
     "output_type": "stream",
     "text": [
      "...transforming MacroFE\n",
      "样本内score： 1.0\n",
      "model 5 pickle saved and appended\n",
      "\n",
      "no param_list found for this estimator, will use default params\n",
      "补充框架已pass through至transformed X\n",
      "...initializing MacroFE\n",
      "...transforming MacroFE\n"
     ]
    },
    {
     "name": "stderr",
     "output_type": "stream",
     "text": [
      "/Users/Gary/opt/anaconda3/envs/MLenv/lib/python3.9/site-packages/xgboost/sklearn.py:1224: UserWarning: The use of label encoder in XGBClassifier is deprecated and will be removed in a future release. To remove this warning, do the following: 1) Pass option use_label_encoder=False when constructing XGBClassifier object; and 2) Encode your labels (y) as integers starting with 0, i.e. 0, 1, 2, ..., [num_class - 1].\n",
      "  warnings.warn(label_encoder_deprecation_msg, UserWarning)\n"
     ]
    },
    {
     "name": "stdout",
     "output_type": "stream",
     "text": [
      "...transforming MacroFE\n",
      "样本内score： 1.0\n",
      "model 6 pickle saved and appended\n",
      "\n",
      "no param_list found for this estimator, will use default params\n",
      "补充框架已pass through至transformed X\n",
      "...initializing MacroFE\n",
      "...transforming MacroFE\n"
     ]
    },
    {
     "name": "stderr",
     "output_type": "stream",
     "text": [
      "/Users/Gary/opt/anaconda3/envs/MLenv/lib/python3.9/site-packages/xgboost/sklearn.py:1224: UserWarning: The use of label encoder in XGBClassifier is deprecated and will be removed in a future release. To remove this warning, do the following: 1) Pass option use_label_encoder=False when constructing XGBClassifier object; and 2) Encode your labels (y) as integers starting with 0, i.e. 0, 1, 2, ..., [num_class - 1].\n",
      "  warnings.warn(label_encoder_deprecation_msg, UserWarning)\n"
     ]
    },
    {
     "name": "stdout",
     "output_type": "stream",
     "text": [
      "...transforming MacroFE\n",
      "样本内score： 1.0\n",
      "model 7 pickle saved and appended\n",
      "\n",
      "no param_list found for this estimator, will use default params\n",
      "补充框架已pass through至transformed X\n",
      "...initializing MacroFE\n",
      "...transforming MacroFE\n"
     ]
    },
    {
     "name": "stderr",
     "output_type": "stream",
     "text": [
      "/Users/Gary/opt/anaconda3/envs/MLenv/lib/python3.9/site-packages/xgboost/sklearn.py:1224: UserWarning: The use of label encoder in XGBClassifier is deprecated and will be removed in a future release. To remove this warning, do the following: 1) Pass option use_label_encoder=False when constructing XGBClassifier object; and 2) Encode your labels (y) as integers starting with 0, i.e. 0, 1, 2, ..., [num_class - 1].\n",
      "  warnings.warn(label_encoder_deprecation_msg, UserWarning)\n"
     ]
    },
    {
     "name": "stdout",
     "output_type": "stream",
     "text": [
      "...transforming MacroFE\n",
      "样本内score： 1.0\n",
      "model 8 pickle saved and appended\n",
      "\n",
      "no param_list found for this estimator, will use default params\n",
      "补充框架已pass through至transformed X\n",
      "...initializing MacroFE\n",
      "...transforming MacroFE\n"
     ]
    },
    {
     "name": "stderr",
     "output_type": "stream",
     "text": [
      "/Users/Gary/opt/anaconda3/envs/MLenv/lib/python3.9/site-packages/xgboost/sklearn.py:1224: UserWarning: The use of label encoder in XGBClassifier is deprecated and will be removed in a future release. To remove this warning, do the following: 1) Pass option use_label_encoder=False when constructing XGBClassifier object; and 2) Encode your labels (y) as integers starting with 0, i.e. 0, 1, 2, ..., [num_class - 1].\n",
      "  warnings.warn(label_encoder_deprecation_msg, UserWarning)\n"
     ]
    },
    {
     "name": "stdout",
     "output_type": "stream",
     "text": [
      "...transforming MacroFE\n",
      "样本内score： 1.0\n",
      "model 9 pickle saved and appended\n",
      "\n",
      "/nTRAIN period: 2005-05 -> 2019-07 \n",
      "Start training.......................\n",
      "no param_list found for this estimator, will use default params\n",
      "补充框架已pass through至transformed X\n",
      "...initializing MacroFE\n",
      "...transforming MacroFE\n"
     ]
    },
    {
     "name": "stderr",
     "output_type": "stream",
     "text": [
      "/Users/Gary/opt/anaconda3/envs/MLenv/lib/python3.9/site-packages/xgboost/sklearn.py:1224: UserWarning: The use of label encoder in XGBClassifier is deprecated and will be removed in a future release. To remove this warning, do the following: 1) Pass option use_label_encoder=False when constructing XGBClassifier object; and 2) Encode your labels (y) as integers starting with 0, i.e. 0, 1, 2, ..., [num_class - 1].\n",
      "  warnings.warn(label_encoder_deprecation_msg, UserWarning)\n"
     ]
    },
    {
     "name": "stdout",
     "output_type": "stream",
     "text": [
      "...transforming MacroFE\n",
      "样本内score： 1.0\n",
      "model 0 pickle saved and appended\n",
      "\n",
      "no param_list found for this estimator, will use default params\n",
      "补充框架已pass through至transformed X\n",
      "...initializing MacroFE\n",
      "...transforming MacroFE\n"
     ]
    },
    {
     "name": "stderr",
     "output_type": "stream",
     "text": [
      "/Users/Gary/opt/anaconda3/envs/MLenv/lib/python3.9/site-packages/xgboost/sklearn.py:1224: UserWarning: The use of label encoder in XGBClassifier is deprecated and will be removed in a future release. To remove this warning, do the following: 1) Pass option use_label_encoder=False when constructing XGBClassifier object; and 2) Encode your labels (y) as integers starting with 0, i.e. 0, 1, 2, ..., [num_class - 1].\n",
      "  warnings.warn(label_encoder_deprecation_msg, UserWarning)\n"
     ]
    },
    {
     "name": "stdout",
     "output_type": "stream",
     "text": [
      "...transforming MacroFE\n",
      "样本内score： 1.0\n",
      "model 1 pickle saved and appended\n",
      "\n",
      "no param_list found for this estimator, will use default params\n",
      "补充框架已pass through至transformed X\n",
      "...initializing MacroFE\n",
      "...transforming MacroFE\n"
     ]
    },
    {
     "name": "stderr",
     "output_type": "stream",
     "text": [
      "/Users/Gary/opt/anaconda3/envs/MLenv/lib/python3.9/site-packages/xgboost/sklearn.py:1224: UserWarning: The use of label encoder in XGBClassifier is deprecated and will be removed in a future release. To remove this warning, do the following: 1) Pass option use_label_encoder=False when constructing XGBClassifier object; and 2) Encode your labels (y) as integers starting with 0, i.e. 0, 1, 2, ..., [num_class - 1].\n",
      "  warnings.warn(label_encoder_deprecation_msg, UserWarning)\n"
     ]
    },
    {
     "name": "stdout",
     "output_type": "stream",
     "text": [
      "...transforming MacroFE\n",
      "样本内score： 1.0\n",
      "model 2 pickle saved and appended\n",
      "\n",
      "no param_list found for this estimator, will use default params\n",
      "补充框架已pass through至transformed X\n",
      "...initializing MacroFE\n",
      "...transforming MacroFE\n"
     ]
    },
    {
     "name": "stderr",
     "output_type": "stream",
     "text": [
      "/Users/Gary/opt/anaconda3/envs/MLenv/lib/python3.9/site-packages/xgboost/sklearn.py:1224: UserWarning: The use of label encoder in XGBClassifier is deprecated and will be removed in a future release. To remove this warning, do the following: 1) Pass option use_label_encoder=False when constructing XGBClassifier object; and 2) Encode your labels (y) as integers starting with 0, i.e. 0, 1, 2, ..., [num_class - 1].\n",
      "  warnings.warn(label_encoder_deprecation_msg, UserWarning)\n"
     ]
    },
    {
     "name": "stdout",
     "output_type": "stream",
     "text": [
      "...transforming MacroFE\n",
      "样本内score： 1.0\n",
      "model 3 pickle saved and appended\n",
      "\n",
      "no param_list found for this estimator, will use default params\n",
      "补充框架已pass through至transformed X\n",
      "...initializing MacroFE\n",
      "...transforming MacroFE\n"
     ]
    },
    {
     "name": "stderr",
     "output_type": "stream",
     "text": [
      "/Users/Gary/opt/anaconda3/envs/MLenv/lib/python3.9/site-packages/xgboost/sklearn.py:1224: UserWarning: The use of label encoder in XGBClassifier is deprecated and will be removed in a future release. To remove this warning, do the following: 1) Pass option use_label_encoder=False when constructing XGBClassifier object; and 2) Encode your labels (y) as integers starting with 0, i.e. 0, 1, 2, ..., [num_class - 1].\n",
      "  warnings.warn(label_encoder_deprecation_msg, UserWarning)\n"
     ]
    },
    {
     "name": "stdout",
     "output_type": "stream",
     "text": [
      "...transforming MacroFE\n",
      "样本内score： 1.0\n",
      "model 4 pickle saved and appended\n",
      "\n",
      "no param_list found for this estimator, will use default params\n",
      "补充框架已pass through至transformed X\n",
      "...initializing MacroFE\n",
      "...transforming MacroFE\n"
     ]
    },
    {
     "name": "stderr",
     "output_type": "stream",
     "text": [
      "/Users/Gary/opt/anaconda3/envs/MLenv/lib/python3.9/site-packages/xgboost/sklearn.py:1224: UserWarning: The use of label encoder in XGBClassifier is deprecated and will be removed in a future release. To remove this warning, do the following: 1) Pass option use_label_encoder=False when constructing XGBClassifier object; and 2) Encode your labels (y) as integers starting with 0, i.e. 0, 1, 2, ..., [num_class - 1].\n",
      "  warnings.warn(label_encoder_deprecation_msg, UserWarning)\n"
     ]
    },
    {
     "name": "stdout",
     "output_type": "stream",
     "text": [
      "...transforming MacroFE\n",
      "样本内score： 1.0\n",
      "model 5 pickle saved and appended\n",
      "\n",
      "no param_list found for this estimator, will use default params\n",
      "补充框架已pass through至transformed X\n",
      "...initializing MacroFE\n",
      "...transforming MacroFE\n"
     ]
    },
    {
     "name": "stderr",
     "output_type": "stream",
     "text": [
      "/Users/Gary/opt/anaconda3/envs/MLenv/lib/python3.9/site-packages/xgboost/sklearn.py:1224: UserWarning: The use of label encoder in XGBClassifier is deprecated and will be removed in a future release. To remove this warning, do the following: 1) Pass option use_label_encoder=False when constructing XGBClassifier object; and 2) Encode your labels (y) as integers starting with 0, i.e. 0, 1, 2, ..., [num_class - 1].\n",
      "  warnings.warn(label_encoder_deprecation_msg, UserWarning)\n"
     ]
    },
    {
     "name": "stdout",
     "output_type": "stream",
     "text": [
      "...transforming MacroFE\n",
      "样本内score： 1.0\n",
      "model 6 pickle saved and appended\n",
      "\n",
      "no param_list found for this estimator, will use default params\n",
      "补充框架已pass through至transformed X\n",
      "...initializing MacroFE\n",
      "...transforming MacroFE\n"
     ]
    },
    {
     "name": "stderr",
     "output_type": "stream",
     "text": [
      "/Users/Gary/opt/anaconda3/envs/MLenv/lib/python3.9/site-packages/xgboost/sklearn.py:1224: UserWarning: The use of label encoder in XGBClassifier is deprecated and will be removed in a future release. To remove this warning, do the following: 1) Pass option use_label_encoder=False when constructing XGBClassifier object; and 2) Encode your labels (y) as integers starting with 0, i.e. 0, 1, 2, ..., [num_class - 1].\n",
      "  warnings.warn(label_encoder_deprecation_msg, UserWarning)\n"
     ]
    },
    {
     "name": "stdout",
     "output_type": "stream",
     "text": [
      "...transforming MacroFE\n",
      "样本内score： 1.0\n",
      "model 7 pickle saved and appended\n",
      "\n",
      "no param_list found for this estimator, will use default params\n",
      "补充框架已pass through至transformed X\n",
      "...initializing MacroFE\n",
      "...transforming MacroFE\n"
     ]
    },
    {
     "name": "stderr",
     "output_type": "stream",
     "text": [
      "/Users/Gary/opt/anaconda3/envs/MLenv/lib/python3.9/site-packages/xgboost/sklearn.py:1224: UserWarning: The use of label encoder in XGBClassifier is deprecated and will be removed in a future release. To remove this warning, do the following: 1) Pass option use_label_encoder=False when constructing XGBClassifier object; and 2) Encode your labels (y) as integers starting with 0, i.e. 0, 1, 2, ..., [num_class - 1].\n",
      "  warnings.warn(label_encoder_deprecation_msg, UserWarning)\n"
     ]
    },
    {
     "name": "stdout",
     "output_type": "stream",
     "text": [
      "...transforming MacroFE\n",
      "样本内score： 1.0\n",
      "model 8 pickle saved and appended\n",
      "\n",
      "no param_list found for this estimator, will use default params\n",
      "补充框架已pass through至transformed X\n",
      "...initializing MacroFE\n",
      "...transforming MacroFE\n"
     ]
    },
    {
     "name": "stderr",
     "output_type": "stream",
     "text": [
      "/Users/Gary/opt/anaconda3/envs/MLenv/lib/python3.9/site-packages/xgboost/sklearn.py:1224: UserWarning: The use of label encoder in XGBClassifier is deprecated and will be removed in a future release. To remove this warning, do the following: 1) Pass option use_label_encoder=False when constructing XGBClassifier object; and 2) Encode your labels (y) as integers starting with 0, i.e. 0, 1, 2, ..., [num_class - 1].\n",
      "  warnings.warn(label_encoder_deprecation_msg, UserWarning)\n"
     ]
    },
    {
     "name": "stdout",
     "output_type": "stream",
     "text": [
      "...transforming MacroFE\n",
      "样本内score： 1.0\n",
      "model 9 pickle saved and appended\n",
      "\n",
      "/nTRAIN period: 2005-05 -> 2020-07 \n",
      "Start training.......................\n",
      "no param_list found for this estimator, will use default params\n",
      "补充框架已pass through至transformed X\n",
      "...initializing MacroFE\n",
      "...transforming MacroFE\n"
     ]
    },
    {
     "name": "stderr",
     "output_type": "stream",
     "text": [
      "/Users/Gary/opt/anaconda3/envs/MLenv/lib/python3.9/site-packages/xgboost/sklearn.py:1224: UserWarning: The use of label encoder in XGBClassifier is deprecated and will be removed in a future release. To remove this warning, do the following: 1) Pass option use_label_encoder=False when constructing XGBClassifier object; and 2) Encode your labels (y) as integers starting with 0, i.e. 0, 1, 2, ..., [num_class - 1].\n",
      "  warnings.warn(label_encoder_deprecation_msg, UserWarning)\n"
     ]
    },
    {
     "name": "stdout",
     "output_type": "stream",
     "text": [
      "...transforming MacroFE\n",
      "样本内score： 1.0\n",
      "model 0 pickle saved and appended\n",
      "\n",
      "no param_list found for this estimator, will use default params\n",
      "补充框架已pass through至transformed X\n",
      "...initializing MacroFE\n",
      "...transforming MacroFE\n"
     ]
    },
    {
     "name": "stderr",
     "output_type": "stream",
     "text": [
      "/Users/Gary/opt/anaconda3/envs/MLenv/lib/python3.9/site-packages/xgboost/sklearn.py:1224: UserWarning: The use of label encoder in XGBClassifier is deprecated and will be removed in a future release. To remove this warning, do the following: 1) Pass option use_label_encoder=False when constructing XGBClassifier object; and 2) Encode your labels (y) as integers starting with 0, i.e. 0, 1, 2, ..., [num_class - 1].\n",
      "  warnings.warn(label_encoder_deprecation_msg, UserWarning)\n"
     ]
    },
    {
     "name": "stdout",
     "output_type": "stream",
     "text": [
      "...transforming MacroFE\n",
      "样本内score： 1.0\n",
      "model 1 pickle saved and appended\n",
      "\n",
      "no param_list found for this estimator, will use default params\n",
      "补充框架已pass through至transformed X\n",
      "...initializing MacroFE\n",
      "...transforming MacroFE\n"
     ]
    },
    {
     "name": "stderr",
     "output_type": "stream",
     "text": [
      "/Users/Gary/opt/anaconda3/envs/MLenv/lib/python3.9/site-packages/xgboost/sklearn.py:1224: UserWarning: The use of label encoder in XGBClassifier is deprecated and will be removed in a future release. To remove this warning, do the following: 1) Pass option use_label_encoder=False when constructing XGBClassifier object; and 2) Encode your labels (y) as integers starting with 0, i.e. 0, 1, 2, ..., [num_class - 1].\n",
      "  warnings.warn(label_encoder_deprecation_msg, UserWarning)\n"
     ]
    },
    {
     "name": "stdout",
     "output_type": "stream",
     "text": [
      "...transforming MacroFE\n",
      "样本内score： 1.0\n",
      "model 2 pickle saved and appended\n",
      "\n",
      "no param_list found for this estimator, will use default params\n",
      "补充框架已pass through至transformed X\n",
      "...initializing MacroFE\n",
      "...transforming MacroFE\n"
     ]
    },
    {
     "name": "stderr",
     "output_type": "stream",
     "text": [
      "/Users/Gary/opt/anaconda3/envs/MLenv/lib/python3.9/site-packages/xgboost/sklearn.py:1224: UserWarning: The use of label encoder in XGBClassifier is deprecated and will be removed in a future release. To remove this warning, do the following: 1) Pass option use_label_encoder=False when constructing XGBClassifier object; and 2) Encode your labels (y) as integers starting with 0, i.e. 0, 1, 2, ..., [num_class - 1].\n",
      "  warnings.warn(label_encoder_deprecation_msg, UserWarning)\n"
     ]
    },
    {
     "name": "stdout",
     "output_type": "stream",
     "text": [
      "...transforming MacroFE\n",
      "样本内score： 1.0\n",
      "model 3 pickle saved and appended\n",
      "\n",
      "no param_list found for this estimator, will use default params\n",
      "补充框架已pass through至transformed X\n",
      "...initializing MacroFE\n",
      "...transforming MacroFE\n"
     ]
    },
    {
     "name": "stderr",
     "output_type": "stream",
     "text": [
      "/Users/Gary/opt/anaconda3/envs/MLenv/lib/python3.9/site-packages/xgboost/sklearn.py:1224: UserWarning: The use of label encoder in XGBClassifier is deprecated and will be removed in a future release. To remove this warning, do the following: 1) Pass option use_label_encoder=False when constructing XGBClassifier object; and 2) Encode your labels (y) as integers starting with 0, i.e. 0, 1, 2, ..., [num_class - 1].\n",
      "  warnings.warn(label_encoder_deprecation_msg, UserWarning)\n"
     ]
    },
    {
     "name": "stdout",
     "output_type": "stream",
     "text": [
      "...transforming MacroFE\n",
      "样本内score： 1.0\n",
      "model 4 pickle saved and appended\n",
      "\n",
      "no param_list found for this estimator, will use default params\n",
      "补充框架已pass through至transformed X\n",
      "...initializing MacroFE\n",
      "...transforming MacroFE\n"
     ]
    },
    {
     "name": "stderr",
     "output_type": "stream",
     "text": [
      "/Users/Gary/opt/anaconda3/envs/MLenv/lib/python3.9/site-packages/xgboost/sklearn.py:1224: UserWarning: The use of label encoder in XGBClassifier is deprecated and will be removed in a future release. To remove this warning, do the following: 1) Pass option use_label_encoder=False when constructing XGBClassifier object; and 2) Encode your labels (y) as integers starting with 0, i.e. 0, 1, 2, ..., [num_class - 1].\n",
      "  warnings.warn(label_encoder_deprecation_msg, UserWarning)\n"
     ]
    },
    {
     "name": "stdout",
     "output_type": "stream",
     "text": [
      "...transforming MacroFE\n",
      "样本内score： 1.0\n",
      "model 5 pickle saved and appended\n",
      "\n",
      "no param_list found for this estimator, will use default params\n",
      "补充框架已pass through至transformed X\n",
      "...initializing MacroFE\n",
      "...transforming MacroFE\n"
     ]
    },
    {
     "name": "stderr",
     "output_type": "stream",
     "text": [
      "/Users/Gary/opt/anaconda3/envs/MLenv/lib/python3.9/site-packages/xgboost/sklearn.py:1224: UserWarning: The use of label encoder in XGBClassifier is deprecated and will be removed in a future release. To remove this warning, do the following: 1) Pass option use_label_encoder=False when constructing XGBClassifier object; and 2) Encode your labels (y) as integers starting with 0, i.e. 0, 1, 2, ..., [num_class - 1].\n",
      "  warnings.warn(label_encoder_deprecation_msg, UserWarning)\n"
     ]
    },
    {
     "name": "stdout",
     "output_type": "stream",
     "text": [
      "...transforming MacroFE\n",
      "样本内score： 1.0\n",
      "model 6 pickle saved and appended\n",
      "\n",
      "no param_list found for this estimator, will use default params\n",
      "补充框架已pass through至transformed X\n",
      "...initializing MacroFE\n",
      "...transforming MacroFE\n"
     ]
    },
    {
     "name": "stderr",
     "output_type": "stream",
     "text": [
      "/Users/Gary/opt/anaconda3/envs/MLenv/lib/python3.9/site-packages/xgboost/sklearn.py:1224: UserWarning: The use of label encoder in XGBClassifier is deprecated and will be removed in a future release. To remove this warning, do the following: 1) Pass option use_label_encoder=False when constructing XGBClassifier object; and 2) Encode your labels (y) as integers starting with 0, i.e. 0, 1, 2, ..., [num_class - 1].\n",
      "  warnings.warn(label_encoder_deprecation_msg, UserWarning)\n"
     ]
    },
    {
     "name": "stdout",
     "output_type": "stream",
     "text": [
      "...transforming MacroFE\n",
      "样本内score： 1.0\n",
      "model 7 pickle saved and appended\n",
      "\n",
      "no param_list found for this estimator, will use default params\n",
      "补充框架已pass through至transformed X\n",
      "...initializing MacroFE\n",
      "...transforming MacroFE\n"
     ]
    },
    {
     "name": "stderr",
     "output_type": "stream",
     "text": [
      "/Users/Gary/opt/anaconda3/envs/MLenv/lib/python3.9/site-packages/xgboost/sklearn.py:1224: UserWarning: The use of label encoder in XGBClassifier is deprecated and will be removed in a future release. To remove this warning, do the following: 1) Pass option use_label_encoder=False when constructing XGBClassifier object; and 2) Encode your labels (y) as integers starting with 0, i.e. 0, 1, 2, ..., [num_class - 1].\n",
      "  warnings.warn(label_encoder_deprecation_msg, UserWarning)\n"
     ]
    },
    {
     "name": "stdout",
     "output_type": "stream",
     "text": [
      "...transforming MacroFE\n",
      "样本内score： 1.0\n",
      "model 8 pickle saved and appended\n",
      "\n",
      "no param_list found for this estimator, will use default params\n",
      "补充框架已pass through至transformed X\n",
      "...initializing MacroFE\n",
      "...transforming MacroFE\n"
     ]
    },
    {
     "name": "stderr",
     "output_type": "stream",
     "text": [
      "/Users/Gary/opt/anaconda3/envs/MLenv/lib/python3.9/site-packages/xgboost/sklearn.py:1224: UserWarning: The use of label encoder in XGBClassifier is deprecated and will be removed in a future release. To remove this warning, do the following: 1) Pass option use_label_encoder=False when constructing XGBClassifier object; and 2) Encode your labels (y) as integers starting with 0, i.e. 0, 1, 2, ..., [num_class - 1].\n",
      "  warnings.warn(label_encoder_deprecation_msg, UserWarning)\n"
     ]
    },
    {
     "name": "stdout",
     "output_type": "stream",
     "text": [
      "...transforming MacroFE\n",
      "样本内score： 1.0\n",
      "model 9 pickle saved and appended\n",
      "\n",
      "/nTRAIN period: 2005-05 -> 2021-07 \n",
      "Start training.......................\n",
      "no param_list found for this estimator, will use default params\n",
      "补充框架已pass through至transformed X\n",
      "...initializing MacroFE\n",
      "...transforming MacroFE\n"
     ]
    },
    {
     "name": "stderr",
     "output_type": "stream",
     "text": [
      "/Users/Gary/opt/anaconda3/envs/MLenv/lib/python3.9/site-packages/xgboost/sklearn.py:1224: UserWarning: The use of label encoder in XGBClassifier is deprecated and will be removed in a future release. To remove this warning, do the following: 1) Pass option use_label_encoder=False when constructing XGBClassifier object; and 2) Encode your labels (y) as integers starting with 0, i.e. 0, 1, 2, ..., [num_class - 1].\n",
      "  warnings.warn(label_encoder_deprecation_msg, UserWarning)\n"
     ]
    },
    {
     "name": "stdout",
     "output_type": "stream",
     "text": [
      "...transforming MacroFE\n",
      "样本内score： 1.0\n",
      "model 0 pickle saved and appended\n",
      "\n",
      "no param_list found for this estimator, will use default params\n",
      "补充框架已pass through至transformed X\n",
      "...initializing MacroFE\n",
      "...transforming MacroFE\n"
     ]
    },
    {
     "name": "stderr",
     "output_type": "stream",
     "text": [
      "/Users/Gary/opt/anaconda3/envs/MLenv/lib/python3.9/site-packages/xgboost/sklearn.py:1224: UserWarning: The use of label encoder in XGBClassifier is deprecated and will be removed in a future release. To remove this warning, do the following: 1) Pass option use_label_encoder=False when constructing XGBClassifier object; and 2) Encode your labels (y) as integers starting with 0, i.e. 0, 1, 2, ..., [num_class - 1].\n",
      "  warnings.warn(label_encoder_deprecation_msg, UserWarning)\n"
     ]
    },
    {
     "name": "stdout",
     "output_type": "stream",
     "text": [
      "...transforming MacroFE\n",
      "样本内score： 1.0\n",
      "model 1 pickle saved and appended\n",
      "\n",
      "no param_list found for this estimator, will use default params\n",
      "补充框架已pass through至transformed X\n",
      "...initializing MacroFE\n",
      "...transforming MacroFE\n"
     ]
    },
    {
     "name": "stderr",
     "output_type": "stream",
     "text": [
      "/Users/Gary/opt/anaconda3/envs/MLenv/lib/python3.9/site-packages/xgboost/sklearn.py:1224: UserWarning: The use of label encoder in XGBClassifier is deprecated and will be removed in a future release. To remove this warning, do the following: 1) Pass option use_label_encoder=False when constructing XGBClassifier object; and 2) Encode your labels (y) as integers starting with 0, i.e. 0, 1, 2, ..., [num_class - 1].\n",
      "  warnings.warn(label_encoder_deprecation_msg, UserWarning)\n"
     ]
    },
    {
     "name": "stdout",
     "output_type": "stream",
     "text": [
      "...transforming MacroFE\n",
      "样本内score： 1.0\n",
      "model 2 pickle saved and appended\n",
      "\n",
      "no param_list found for this estimator, will use default params\n",
      "补充框架已pass through至transformed X\n",
      "...initializing MacroFE\n",
      "...transforming MacroFE\n"
     ]
    },
    {
     "name": "stderr",
     "output_type": "stream",
     "text": [
      "/Users/Gary/opt/anaconda3/envs/MLenv/lib/python3.9/site-packages/xgboost/sklearn.py:1224: UserWarning: The use of label encoder in XGBClassifier is deprecated and will be removed in a future release. To remove this warning, do the following: 1) Pass option use_label_encoder=False when constructing XGBClassifier object; and 2) Encode your labels (y) as integers starting with 0, i.e. 0, 1, 2, ..., [num_class - 1].\n",
      "  warnings.warn(label_encoder_deprecation_msg, UserWarning)\n"
     ]
    },
    {
     "name": "stdout",
     "output_type": "stream",
     "text": [
      "...transforming MacroFE\n",
      "样本内score： 1.0\n",
      "model 3 pickle saved and appended\n",
      "\n",
      "no param_list found for this estimator, will use default params\n",
      "补充框架已pass through至transformed X\n",
      "...initializing MacroFE\n",
      "...transforming MacroFE\n"
     ]
    },
    {
     "name": "stderr",
     "output_type": "stream",
     "text": [
      "/Users/Gary/opt/anaconda3/envs/MLenv/lib/python3.9/site-packages/xgboost/sklearn.py:1224: UserWarning: The use of label encoder in XGBClassifier is deprecated and will be removed in a future release. To remove this warning, do the following: 1) Pass option use_label_encoder=False when constructing XGBClassifier object; and 2) Encode your labels (y) as integers starting with 0, i.e. 0, 1, 2, ..., [num_class - 1].\n",
      "  warnings.warn(label_encoder_deprecation_msg, UserWarning)\n"
     ]
    },
    {
     "name": "stdout",
     "output_type": "stream",
     "text": [
      "...transforming MacroFE\n",
      "样本内score： 1.0\n",
      "model 4 pickle saved and appended\n",
      "\n",
      "no param_list found for this estimator, will use default params\n",
      "补充框架已pass through至transformed X\n",
      "...initializing MacroFE\n",
      "...transforming MacroFE\n"
     ]
    },
    {
     "name": "stderr",
     "output_type": "stream",
     "text": [
      "/Users/Gary/opt/anaconda3/envs/MLenv/lib/python3.9/site-packages/xgboost/sklearn.py:1224: UserWarning: The use of label encoder in XGBClassifier is deprecated and will be removed in a future release. To remove this warning, do the following: 1) Pass option use_label_encoder=False when constructing XGBClassifier object; and 2) Encode your labels (y) as integers starting with 0, i.e. 0, 1, 2, ..., [num_class - 1].\n",
      "  warnings.warn(label_encoder_deprecation_msg, UserWarning)\n"
     ]
    },
    {
     "name": "stdout",
     "output_type": "stream",
     "text": [
      "...transforming MacroFE\n",
      "样本内score： 1.0\n",
      "model 5 pickle saved and appended\n",
      "\n",
      "no param_list found for this estimator, will use default params\n",
      "补充框架已pass through至transformed X\n",
      "...initializing MacroFE\n",
      "...transforming MacroFE\n"
     ]
    },
    {
     "name": "stderr",
     "output_type": "stream",
     "text": [
      "/Users/Gary/opt/anaconda3/envs/MLenv/lib/python3.9/site-packages/xgboost/sklearn.py:1224: UserWarning: The use of label encoder in XGBClassifier is deprecated and will be removed in a future release. To remove this warning, do the following: 1) Pass option use_label_encoder=False when constructing XGBClassifier object; and 2) Encode your labels (y) as integers starting with 0, i.e. 0, 1, 2, ..., [num_class - 1].\n",
      "  warnings.warn(label_encoder_deprecation_msg, UserWarning)\n"
     ]
    },
    {
     "name": "stdout",
     "output_type": "stream",
     "text": [
      "...transforming MacroFE\n",
      "样本内score： 1.0\n",
      "model 6 pickle saved and appended\n",
      "\n",
      "no param_list found for this estimator, will use default params\n",
      "补充框架已pass through至transformed X\n",
      "...initializing MacroFE\n",
      "...transforming MacroFE\n"
     ]
    },
    {
     "name": "stderr",
     "output_type": "stream",
     "text": [
      "/Users/Gary/opt/anaconda3/envs/MLenv/lib/python3.9/site-packages/xgboost/sklearn.py:1224: UserWarning: The use of label encoder in XGBClassifier is deprecated and will be removed in a future release. To remove this warning, do the following: 1) Pass option use_label_encoder=False when constructing XGBClassifier object; and 2) Encode your labels (y) as integers starting with 0, i.e. 0, 1, 2, ..., [num_class - 1].\n",
      "  warnings.warn(label_encoder_deprecation_msg, UserWarning)\n"
     ]
    },
    {
     "name": "stdout",
     "output_type": "stream",
     "text": [
      "...transforming MacroFE\n",
      "样本内score： 1.0\n",
      "model 7 pickle saved and appended\n",
      "\n",
      "no param_list found for this estimator, will use default params\n",
      "补充框架已pass through至transformed X\n",
      "...initializing MacroFE\n",
      "...transforming MacroFE\n"
     ]
    },
    {
     "name": "stderr",
     "output_type": "stream",
     "text": [
      "/Users/Gary/opt/anaconda3/envs/MLenv/lib/python3.9/site-packages/xgboost/sklearn.py:1224: UserWarning: The use of label encoder in XGBClassifier is deprecated and will be removed in a future release. To remove this warning, do the following: 1) Pass option use_label_encoder=False when constructing XGBClassifier object; and 2) Encode your labels (y) as integers starting with 0, i.e. 0, 1, 2, ..., [num_class - 1].\n",
      "  warnings.warn(label_encoder_deprecation_msg, UserWarning)\n"
     ]
    },
    {
     "name": "stdout",
     "output_type": "stream",
     "text": [
      "...transforming MacroFE\n",
      "样本内score： 1.0\n",
      "model 8 pickle saved and appended\n",
      "\n",
      "no param_list found for this estimator, will use default params\n",
      "补充框架已pass through至transformed X\n",
      "...initializing MacroFE\n",
      "...transforming MacroFE\n"
     ]
    },
    {
     "name": "stderr",
     "output_type": "stream",
     "text": [
      "/Users/Gary/opt/anaconda3/envs/MLenv/lib/python3.9/site-packages/xgboost/sklearn.py:1224: UserWarning: The use of label encoder in XGBClassifier is deprecated and will be removed in a future release. To remove this warning, do the following: 1) Pass option use_label_encoder=False when constructing XGBClassifier object; and 2) Encode your labels (y) as integers starting with 0, i.e. 0, 1, 2, ..., [num_class - 1].\n",
      "  warnings.warn(label_encoder_deprecation_msg, UserWarning)\n"
     ]
    },
    {
     "name": "stdout",
     "output_type": "stream",
     "text": [
      "...transforming MacroFE\n",
      "样本内score： 1.0\n",
      "model 9 pickle saved and appended\n",
      "\n"
     ]
    }
   ],
   "source": [
    "#############训练##############\n",
    "tscv = TimeSeriesSplit(n_splits=n_splits, test_size=test_size)\n",
    "models_list = {}\n",
    "# 原始的Xy切片之前要deepcopy，否则可能莫名其妙篡改原始数据\n",
    "for train_index, test_index in tscv.split(X.copy(deep=True)):\n",
    "    if X.index[len(train_index)] < pd.Period('2015-7'):\n",
    "        continue\n",
    "    else:\n",
    "        X_train, y_train = X.copy(deep=True).iloc[train_index, :], y.copy(deep=True).iloc[train_index, :]\n",
    "        print(\"/nTRAIN period:\", str(X_train.index[0]), '->', str(X_train.index[-1]),\n",
    "              \"\\nStart training.......................\")\n",
    "\n",
    "        models = utils_train.get_models_dump(X_train, y_train, pipe=pipe, version=version, force_train=force_train,\n",
    "                                             model_name=model_name)\n",
    "        models_list[str(X_train.index[-1])] = deepcopy(models)"
   ]
  },
  {
   "cell_type": "code",
   "execution_count": 6,
   "id": "de08a602",
   "metadata": {
    "ExecuteTime": {
     "end_time": "2022-10-17T12:14:35.772973Z",
     "start_time": "2022-10-17T12:07:59.121215Z"
    }
   },
   "outputs": [
    {
     "name": "stdout",
     "output_type": "stream",
     "text": [
      "\n",
      "TEST period: 2015-08 -> 2016-07 \n",
      "Start testing...........................\n",
      "\n",
      "predicting test set for asset 0\n",
      "...transforming MacroFE\n",
      "第0个资产的样本外 accuracy score: 0.3333333333333333\n",
      "\n",
      "predicting test set for asset 1\n",
      "...transforming MacroFE\n",
      "第1个资产的样本外 accuracy score: 0.4166666666666667\n",
      "\n",
      "predicting test set for asset 2\n",
      "...transforming MacroFE\n",
      "第2个资产的样本外 accuracy score: 0.3333333333333333\n",
      "\n",
      "predicting test set for asset 3\n",
      "...transforming MacroFE\n",
      "第3个资产的样本外 accuracy score: 0.5\n",
      "\n",
      "predicting test set for asset 4\n",
      "...transforming MacroFE\n",
      "第4个资产的样本外 accuracy score: 0.3333333333333333\n",
      "\n",
      "predicting test set for asset 5\n",
      "...transforming MacroFE\n",
      "第5个资产的样本外 accuracy score: 0.4166666666666667\n",
      "\n",
      "predicting test set for asset 6\n",
      "...transforming MacroFE\n",
      "第6个资产的样本外 accuracy score: 0.25\n",
      "\n",
      "predicting test set for asset 7\n",
      "...transforming MacroFE\n",
      "第7个资产的样本外 accuracy score: 0.25\n",
      "\n",
      "predicting test set for asset 8\n",
      "...transforming MacroFE\n",
      "第8个资产的样本外 accuracy score: 0.16666666666666666\n",
      "\n",
      "predicting test set for asset 9\n",
      "...transforming MacroFE\n",
      "第9个资产的样本外 accuracy score: 0.5\n",
      "Test period: 2015-08 -> 2016-07 的年化超额收益为: return    0.099843\n",
      "dtype: float64\n",
      "\n",
      "TEST period: 2016-08 -> 2017-07 \n",
      "Start testing...........................\n",
      "\n",
      "predicting test set for asset 0\n",
      "...transforming MacroFE\n",
      "第0个资产的样本外 accuracy score: 0.0\n",
      "\n",
      "predicting test set for asset 1\n",
      "...transforming MacroFE\n",
      "第1个资产的样本外 accuracy score: 0.3333333333333333\n",
      "\n",
      "predicting test set for asset 2\n",
      "...transforming MacroFE\n",
      "第2个资产的样本外 accuracy score: 0.3333333333333333\n",
      "\n",
      "predicting test set for asset 3\n",
      "...transforming MacroFE\n",
      "第3个资产的样本外 accuracy score: 0.3333333333333333\n",
      "\n",
      "predicting test set for asset 4\n",
      "...transforming MacroFE\n",
      "第4个资产的样本外 accuracy score: 0.5\n",
      "\n",
      "predicting test set for asset 5\n",
      "...transforming MacroFE\n",
      "第5个资产的样本外 accuracy score: 0.25\n",
      "\n",
      "predicting test set for asset 6\n",
      "...transforming MacroFE\n",
      "第6个资产的样本外 accuracy score: 0.4166666666666667\n",
      "\n",
      "predicting test set for asset 7\n",
      "...transforming MacroFE\n",
      "第7个资产的样本外 accuracy score: 0.25\n",
      "\n",
      "predicting test set for asset 8\n",
      "...transforming MacroFE\n",
      "第8个资产的样本外 accuracy score: 0.08333333333333333\n",
      "\n",
      "predicting test set for asset 9\n",
      "...transforming MacroFE\n",
      "第9个资产的样本外 accuracy score: 0.5\n",
      "Test period: 2016-08 -> 2017-07 的年化超额收益为: return   -0.032178\n",
      "dtype: float64\n",
      "\n",
      "TEST period: 2017-08 -> 2018-07 \n",
      "Start testing...........................\n",
      "\n",
      "predicting test set for asset 0\n",
      "...transforming MacroFE\n",
      "第0个资产的样本外 accuracy score: 0.5\n",
      "\n",
      "predicting test set for asset 1\n",
      "...transforming MacroFE\n",
      "第1个资产的样本外 accuracy score: 0.4166666666666667\n",
      "\n",
      "predicting test set for asset 2\n",
      "...transforming MacroFE\n",
      "第2个资产的样本外 accuracy score: 0.5\n",
      "\n",
      "predicting test set for asset 3\n",
      "...transforming MacroFE\n",
      "第3个资产的样本外 accuracy score: 0.3333333333333333\n",
      "\n",
      "predicting test set for asset 4\n",
      "...transforming MacroFE\n",
      "第4个资产的样本外 accuracy score: 0.25\n",
      "\n",
      "predicting test set for asset 5\n",
      "...transforming MacroFE\n",
      "第5个资产的样本外 accuracy score: 0.3333333333333333\n",
      "\n",
      "predicting test set for asset 6\n",
      "...transforming MacroFE\n",
      "第6个资产的样本外 accuracy score: 0.25\n",
      "\n",
      "predicting test set for asset 7\n",
      "...transforming MacroFE\n",
      "第7个资产的样本外 accuracy score: 0.3333333333333333\n",
      "\n",
      "predicting test set for asset 8\n",
      "...transforming MacroFE\n",
      "第8个资产的样本外 accuracy score: 0.4166666666666667\n",
      "\n",
      "predicting test set for asset 9\n",
      "...transforming MacroFE\n",
      "第9个资产的样本外 accuracy score: 0.4166666666666667\n",
      "Test period: 2017-08 -> 2018-07 的年化超额收益为: return    0.061699\n",
      "dtype: float64\n",
      "\n",
      "TEST period: 2018-08 -> 2019-07 \n",
      "Start testing...........................\n",
      "\n",
      "predicting test set for asset 0\n",
      "...transforming MacroFE\n",
      "第0个资产的样本外 accuracy score: 0.4166666666666667\n",
      "\n",
      "predicting test set for asset 1\n",
      "...transforming MacroFE\n",
      "第1个资产的样本外 accuracy score: 0.4166666666666667\n",
      "\n",
      "predicting test set for asset 2\n",
      "...transforming MacroFE\n",
      "第2个资产的样本外 accuracy score: 0.4166666666666667\n",
      "\n",
      "predicting test set for asset 3\n",
      "...transforming MacroFE\n",
      "第3个资产的样本外 accuracy score: 0.08333333333333333\n",
      "\n",
      "predicting test set for asset 4\n",
      "...transforming MacroFE\n",
      "第4个资产的样本外 accuracy score: 0.5\n",
      "\n",
      "predicting test set for asset 5\n",
      "...transforming MacroFE\n",
      "第5个资产的样本外 accuracy score: 0.5833333333333334\n",
      "\n",
      "predicting test set for asset 6\n",
      "...transforming MacroFE\n",
      "第6个资产的样本外 accuracy score: 0.5833333333333334\n",
      "\n",
      "predicting test set for asset 7\n",
      "...transforming MacroFE\n",
      "第7个资产的样本外 accuracy score: 0.5\n",
      "\n",
      "predicting test set for asset 8\n",
      "...transforming MacroFE\n",
      "第8个资产的样本外 accuracy score: 0.4166666666666667\n",
      "\n",
      "predicting test set for asset 9\n",
      "...transforming MacroFE\n",
      "第9个资产的样本外 accuracy score: 0.5\n",
      "Test period: 2018-08 -> 2019-07 的年化超额收益为: return    0.09221\n",
      "dtype: float64\n",
      "\n",
      "TEST period: 2019-08 -> 2020-07 \n",
      "Start testing...........................\n",
      "\n",
      "predicting test set for asset 0\n",
      "...transforming MacroFE\n",
      "第0个资产的样本外 accuracy score: 0.3333333333333333\n",
      "\n",
      "predicting test set for asset 1\n",
      "...transforming MacroFE\n",
      "第1个资产的样本外 accuracy score: 0.25\n",
      "\n",
      "predicting test set for asset 2\n",
      "...transforming MacroFE\n",
      "第2个资产的样本外 accuracy score: 0.5\n",
      "\n",
      "predicting test set for asset 3\n",
      "...transforming MacroFE\n",
      "第3个资产的样本外 accuracy score: 0.5833333333333334\n",
      "\n",
      "predicting test set for asset 4\n",
      "...transforming MacroFE\n",
      "第4个资产的样本外 accuracy score: 0.25\n",
      "\n",
      "predicting test set for asset 5\n",
      "...transforming MacroFE\n",
      "第5个资产的样本外 accuracy score: 0.6666666666666666\n",
      "\n",
      "predicting test set for asset 6\n",
      "...transforming MacroFE\n",
      "第6个资产的样本外 accuracy score: 0.75\n",
      "\n",
      "predicting test set for asset 7\n",
      "...transforming MacroFE\n",
      "第7个资产的样本外 accuracy score: 0.5\n",
      "\n",
      "predicting test set for asset 8\n",
      "...transforming MacroFE\n",
      "第8个资产的样本外 accuracy score: 0.5833333333333334\n",
      "\n",
      "predicting test set for asset 9\n",
      "...transforming MacroFE\n",
      "第9个资产的样本外 accuracy score: 0.3333333333333333\n",
      "Test period: 2019-08 -> 2020-07 的年化超额收益为: return   -0.01883\n",
      "dtype: float64\n",
      "\n",
      "TEST period: 2020-08 -> 2021-07 \n",
      "Start testing...........................\n",
      "\n",
      "predicting test set for asset 0\n",
      "...transforming MacroFE\n",
      "第0个资产的样本外 accuracy score: 0.4166666666666667\n",
      "\n",
      "predicting test set for asset 1\n",
      "...transforming MacroFE\n",
      "第1个资产的样本外 accuracy score: 0.25\n",
      "\n",
      "predicting test set for asset 2\n",
      "...transforming MacroFE\n",
      "第2个资产的样本外 accuracy score: 0.3333333333333333\n",
      "\n",
      "predicting test set for asset 3\n",
      "...transforming MacroFE\n",
      "第3个资产的样本外 accuracy score: 0.5\n",
      "\n",
      "predicting test set for asset 4\n",
      "...transforming MacroFE\n",
      "第4个资产的样本外 accuracy score: 0.5\n",
      "\n",
      "predicting test set for asset 5\n",
      "...transforming MacroFE\n",
      "第5个资产的样本外 accuracy score: 0.5833333333333334\n",
      "\n",
      "predicting test set for asset 6\n",
      "...transforming MacroFE\n",
      "第6个资产的样本外 accuracy score: 0.25\n",
      "\n",
      "predicting test set for asset 7\n",
      "...transforming MacroFE\n",
      "第7个资产的样本外 accuracy score: 0.5\n",
      "\n",
      "predicting test set for asset 8\n",
      "...transforming MacroFE\n",
      "第8个资产的样本外 accuracy score: 0.4166666666666667\n",
      "\n",
      "predicting test set for asset 9\n",
      "...transforming MacroFE\n",
      "第9个资产的样本外 accuracy score: 0.25\n",
      "Test period: 2020-08 -> 2021-07 的年化超额收益为: return    0.069603\n",
      "dtype: float64\n",
      "\n",
      "TEST period: 2021-08 -> 2022-07 \n",
      "Start testing...........................\n",
      "\n",
      "predicting test set for asset 0\n",
      "...transforming MacroFE\n",
      "第0个资产的样本外 accuracy score: 0.25\n",
      "\n",
      "predicting test set for asset 1\n",
      "...transforming MacroFE\n",
      "第1个资产的样本外 accuracy score: 0.3333333333333333\n",
      "\n",
      "predicting test set for asset 2\n",
      "...transforming MacroFE\n",
      "第2个资产的样本外 accuracy score: 0.3333333333333333\n",
      "\n",
      "predicting test set for asset 3\n",
      "...transforming MacroFE\n",
      "第3个资产的样本外 accuracy score: 0.4166666666666667\n",
      "\n",
      "predicting test set for asset 4\n",
      "...transforming MacroFE\n",
      "第4个资产的样本外 accuracy score: 0.5\n",
      "\n",
      "predicting test set for asset 5\n",
      "...transforming MacroFE\n",
      "第5个资产的样本外 accuracy score: 0.75\n",
      "\n",
      "predicting test set for asset 6\n",
      "...transforming MacroFE\n",
      "第6个资产的样本外 accuracy score: 0.25\n",
      "\n",
      "predicting test set for asset 7\n",
      "...transforming MacroFE\n",
      "第7个资产的样本外 accuracy score: 0.16666666666666666\n",
      "\n",
      "predicting test set for asset 8\n",
      "...transforming MacroFE\n",
      "第8个资产的样本外 accuracy score: 0.16666666666666666\n",
      "\n",
      "predicting test set for asset 9\n",
      "...transforming MacroFE\n",
      "第9个资产的样本外 accuracy score: 0.25\n",
      "Test period: 2021-08 -> 2022-07 的年化超额收益为: return    0.107579\n",
      "dtype: float64\n"
     ]
    }
   ],
   "source": [
    "#############测试和评估##############\n",
    "evalor_list = []\n",
    "for train_index, test_index in tscv.split(X.copy(deep=True)):\n",
    "    if X.index[len(train_index)] < pd.Period('2015-7'):\n",
    "        continue\n",
    "    else:\n",
    "        X_train, X_test = X.copy(deep=True).iloc[train_index, :], X.copy(deep=True).iloc[test_index, :]\n",
    "        y_train, y_test = y.copy(deep=True).iloc[train_index, :], y.copy(deep=True).iloc[test_index, :]\n",
    "        y_test_ret = y_ret.copy(deep=True).loc[y_test.index, :]\n",
    "        print(\"\\nTEST period:\", str(X_test.index[0]), '->', str(X_test.index[-1]),\n",
    "              \"\\nStart testing...........................\")\n",
    "        # 增加测试集长度使得FE得以进行\n",
    "        X_test_long = utils.add_2years_test(X_train, X_test)\n",
    "\n",
    "        evalor = Evaluator(models_list[str(X_train.index[-1])], if_cls, X_test_long, y_test, y_test_ret, X_train,\n",
    "                           y_train)\n",
    "        evalor_list.append(deepcopy(evalor))\n",
    "        print(\"Test period:\", str(X_test.index[0]), '->', str(X_test.index[-1]), \"的年化超额收益为:\",\n",
    "              str(evalor.excess_ann_ret))\n",
    "        del evalor"
   ]
  },
  {
   "cell_type": "code",
   "execution_count": 7,
   "id": "2999a46e",
   "metadata": {
    "ExecuteTime": {
     "end_time": "2022-10-17T12:14:35.780927Z",
     "start_time": "2022-10-17T12:14:35.775747Z"
    }
   },
   "outputs": [],
   "source": [
    "exc_rets = [i.excess_ann_ret for i in evalor_list]\n",
    "port_ws, bench_ws = [i.port_worth for i in evalor_list], [i.bench_worth for i in evalor_list]\n",
    "scoress = [i.scores for i in evalor_list]\n",
    "port_poss = [i.port_pos for i in evalor_list]"
   ]
  },
  {
   "cell_type": "code",
   "execution_count": 8,
   "id": "eb2b4de4",
   "metadata": {
    "ExecuteTime": {
     "end_time": "2022-10-17T12:14:35.793585Z",
     "start_time": "2022-10-17T12:14:35.783603Z"
    }
   },
   "outputs": [
    {
     "name": "stdout",
     "output_type": "stream",
     "text": [
      "2015-08 -> 2016-07 的年化超额收益为:\n",
      "return    0.099843\n",
      "dtype: float64\n",
      "2016-08 -> 2017-07 的年化超额收益为:\n",
      "return   -0.032178\n",
      "dtype: float64\n",
      "2017-08 -> 2018-07 的年化超额收益为:\n",
      "return    0.061699\n",
      "dtype: float64\n",
      "2018-08 -> 2019-07 的年化超额收益为:\n",
      "return    0.09221\n",
      "dtype: float64\n",
      "2019-08 -> 2020-07 的年化超额收益为:\n",
      "return   -0.01883\n",
      "dtype: float64\n",
      "2020-08 -> 2021-07 的年化超额收益为:\n",
      "return    0.069603\n",
      "dtype: float64\n",
      "2021-08 -> 2022-07 的年化超额收益为:\n",
      "return    0.107579\n",
      "dtype: float64\n"
     ]
    }
   ],
   "source": [
    "# 超额收益分析\n",
    "for i in range(0, len(exc_rets)):    \n",
    "    print(str(port_ws[i].index[0]), '->', str(port_ws[i].index[-1]), \"的年化超额收益为:\")\n",
    "    print(exc_rets[i])"
   ]
  },
  {
   "cell_type": "code",
   "execution_count": 9,
   "id": "2201a154",
   "metadata": {
    "ExecuteTime": {
     "end_time": "2022-10-17T12:14:35.822707Z",
     "start_time": "2022-10-17T12:14:35.801034Z"
    }
   },
   "outputs": [
    {
     "data": {
      "text/html": [
       "<div>\n",
       "<style scoped>\n",
       "    .dataframe tbody tr th:only-of-type {\n",
       "        vertical-align: middle;\n",
       "    }\n",
       "\n",
       "    .dataframe tbody tr th {\n",
       "        vertical-align: top;\n",
       "    }\n",
       "\n",
       "    .dataframe thead th {\n",
       "        text-align: right;\n",
       "    }\n",
       "</style>\n",
       "<table border=\"1\" class=\"dataframe\">\n",
       "  <thead>\n",
       "    <tr style=\"text-align: right;\">\n",
       "      <th></th>\n",
       "      <th>0</th>\n",
       "      <th>0</th>\n",
       "      <th>0</th>\n",
       "      <th>0</th>\n",
       "      <th>0</th>\n",
       "      <th>0</th>\n",
       "      <th>0</th>\n",
       "    </tr>\n",
       "  </thead>\n",
       "  <tbody>\n",
       "    <tr>\n",
       "      <th>第0个资产:</th>\n",
       "      <td>0.333333</td>\n",
       "      <td>0.000000</td>\n",
       "      <td>0.500000</td>\n",
       "      <td>0.416667</td>\n",
       "      <td>0.333333</td>\n",
       "      <td>0.416667</td>\n",
       "      <td>0.250000</td>\n",
       "    </tr>\n",
       "    <tr>\n",
       "      <th>第1个资产:</th>\n",
       "      <td>0.416667</td>\n",
       "      <td>0.333333</td>\n",
       "      <td>0.416667</td>\n",
       "      <td>0.416667</td>\n",
       "      <td>0.250000</td>\n",
       "      <td>0.250000</td>\n",
       "      <td>0.333333</td>\n",
       "    </tr>\n",
       "    <tr>\n",
       "      <th>第2个资产:</th>\n",
       "      <td>0.333333</td>\n",
       "      <td>0.333333</td>\n",
       "      <td>0.500000</td>\n",
       "      <td>0.416667</td>\n",
       "      <td>0.500000</td>\n",
       "      <td>0.333333</td>\n",
       "      <td>0.333333</td>\n",
       "    </tr>\n",
       "    <tr>\n",
       "      <th>第3个资产:</th>\n",
       "      <td>0.500000</td>\n",
       "      <td>0.333333</td>\n",
       "      <td>0.333333</td>\n",
       "      <td>0.083333</td>\n",
       "      <td>0.583333</td>\n",
       "      <td>0.500000</td>\n",
       "      <td>0.416667</td>\n",
       "    </tr>\n",
       "    <tr>\n",
       "      <th>第4个资产:</th>\n",
       "      <td>0.333333</td>\n",
       "      <td>0.500000</td>\n",
       "      <td>0.250000</td>\n",
       "      <td>0.500000</td>\n",
       "      <td>0.250000</td>\n",
       "      <td>0.500000</td>\n",
       "      <td>0.500000</td>\n",
       "    </tr>\n",
       "    <tr>\n",
       "      <th>第5个资产:</th>\n",
       "      <td>0.416667</td>\n",
       "      <td>0.250000</td>\n",
       "      <td>0.333333</td>\n",
       "      <td>0.583333</td>\n",
       "      <td>0.666667</td>\n",
       "      <td>0.583333</td>\n",
       "      <td>0.750000</td>\n",
       "    </tr>\n",
       "    <tr>\n",
       "      <th>第6个资产:</th>\n",
       "      <td>0.250000</td>\n",
       "      <td>0.416667</td>\n",
       "      <td>0.250000</td>\n",
       "      <td>0.583333</td>\n",
       "      <td>0.750000</td>\n",
       "      <td>0.250000</td>\n",
       "      <td>0.250000</td>\n",
       "    </tr>\n",
       "    <tr>\n",
       "      <th>第7个资产:</th>\n",
       "      <td>0.250000</td>\n",
       "      <td>0.250000</td>\n",
       "      <td>0.333333</td>\n",
       "      <td>0.500000</td>\n",
       "      <td>0.500000</td>\n",
       "      <td>0.500000</td>\n",
       "      <td>0.166667</td>\n",
       "    </tr>\n",
       "    <tr>\n",
       "      <th>第8个资产:</th>\n",
       "      <td>0.166667</td>\n",
       "      <td>0.083333</td>\n",
       "      <td>0.416667</td>\n",
       "      <td>0.416667</td>\n",
       "      <td>0.583333</td>\n",
       "      <td>0.416667</td>\n",
       "      <td>0.166667</td>\n",
       "    </tr>\n",
       "    <tr>\n",
       "      <th>第9个资产:</th>\n",
       "      <td>0.500000</td>\n",
       "      <td>0.500000</td>\n",
       "      <td>0.416667</td>\n",
       "      <td>0.500000</td>\n",
       "      <td>0.333333</td>\n",
       "      <td>0.250000</td>\n",
       "      <td>0.250000</td>\n",
       "    </tr>\n",
       "  </tbody>\n",
       "</table>\n",
       "</div>"
      ],
      "text/plain": [
       "               0         0         0         0         0         0         0\n",
       "第0个资产:  0.333333  0.000000  0.500000  0.416667  0.333333  0.416667  0.250000\n",
       "第1个资产:  0.416667  0.333333  0.416667  0.416667  0.250000  0.250000  0.333333\n",
       "第2个资产:  0.333333  0.333333  0.500000  0.416667  0.500000  0.333333  0.333333\n",
       "第3个资产:  0.500000  0.333333  0.333333  0.083333  0.583333  0.500000  0.416667\n",
       "第4个资产:  0.333333  0.500000  0.250000  0.500000  0.250000  0.500000  0.500000\n",
       "第5个资产:  0.416667  0.250000  0.333333  0.583333  0.666667  0.583333  0.750000\n",
       "第6个资产:  0.250000  0.416667  0.250000  0.583333  0.750000  0.250000  0.250000\n",
       "第7个资产:  0.250000  0.250000  0.333333  0.500000  0.500000  0.500000  0.166667\n",
       "第8个资产:  0.166667  0.083333  0.416667  0.416667  0.583333  0.416667  0.166667\n",
       "第9个资产:  0.500000  0.500000  0.416667  0.500000  0.333333  0.250000  0.250000"
      ]
     },
     "execution_count": 9,
     "metadata": {},
     "output_type": "execute_result"
    }
   ],
   "source": [
    "# 各阶段样本外模型表现\n",
    "score_df = pd.DataFrame()\n",
    "for i in scoress:\n",
    "    score_df = pd.concat([score_df, pd.Series(i)], axis=1)\n",
    "score_df"
   ]
  },
  {
   "cell_type": "code",
   "execution_count": 10,
   "id": "3e917689",
   "metadata": {
    "ExecuteTime": {
     "end_time": "2022-10-17T12:14:35.831897Z",
     "start_time": "2022-10-17T12:14:35.824959Z"
    }
   },
   "outputs": [
    {
     "name": "stdout",
     "output_type": "stream",
     "text": [
      "第0个资产:\n",
      "0.32142857142857145\n",
      "第1个资产:\n",
      "0.3452380952380953\n",
      "第2个资产:\n",
      "0.39285714285714285\n",
      "第3个资产:\n",
      "0.3928571428571428\n",
      "第4个资产:\n",
      "0.4047619047619047\n",
      "第5个资产:\n",
      "0.511904761904762\n",
      "第6个资产:\n",
      "0.39285714285714285\n",
      "第7个资产:\n",
      "0.3571428571428571\n",
      "第8个资产:\n",
      "0.32142857142857145\n",
      "第9个资产:\n",
      "0.39285714285714285\n"
     ]
    }
   ],
   "source": [
    "for id, row in score_df.iterrows():\n",
    "    print(id)\n",
    "    print(row.mean())"
   ]
  },
  {
   "cell_type": "code",
   "execution_count": 11,
   "id": "b4995d54",
   "metadata": {
    "ExecuteTime": {
     "end_time": "2022-10-17T12:14:36.691792Z",
     "start_time": "2022-10-17T12:14:35.840230Z"
    }
   },
   "outputs": [
    {
     "data": {
      "text/plain": [
       "[]"
      ]
     },
     "execution_count": 11,
     "metadata": {},
     "output_type": "execute_result"
    },
    {
     "data": {
      "image/png": "[encoded data removed]",
      "text/plain": [
       "<Figure size 1500x800 with 1 Axes>"
      ]
     },
     "metadata": {},
     "output_type": "display_data"
    }
   ],
   "source": [
    "fig, ax = plt.subplots(figsize=(15,8))\n",
    "for pw in port_ws:\n",
    "    pw.columns = ['port_worth']\n",
    "    pw.plot.line(ax=ax, color='r')\n",
    "for bw in bench_ws:\n",
    "    bw.columns = ['bench_worth']\n",
    "    bw.plot(ax=ax, color='b')\n",
    "\n",
    "ax.plot()"
   ]
  },
  {
   "cell_type": "code",
   "execution_count": 12,
   "id": "d924fa64",
   "metadata": {
    "ExecuteTime": {
     "end_time": "2022-10-17T12:14:36.708195Z",
     "start_time": "2022-10-17T12:14:36.694871Z"
    }
   },
   "outputs": [],
   "source": [
    "con_pws = ev.get_continue_worth(port_ws)\n",
    "con_bws = ev.get_continue_worth(bench_ws)"
   ]
  },
  {
   "cell_type": "code",
   "execution_count": 13,
   "id": "53adba12",
   "metadata": {
    "ExecuteTime": {
     "end_time": "2022-10-17T12:14:37.890808Z",
     "start_time": "2022-10-17T12:14:36.712750Z"
    }
   },
   "outputs": [
    {
     "data": {
      "text/plain": [
       "[]"
      ]
     },
     "execution_count": 13,
     "metadata": {},
     "output_type": "execute_result"
    },
    {
     "data": {
      "image/png": "[encoded data removed]",
      "text/plain": [
       "<Figure size 1500x800 with 1 Axes>"
      ]
     },
     "metadata": {},
     "output_type": "display_data"
    }
   ],
   "source": [
    "fig, ax = plt.subplots(figsize=(15,8))\n",
    "for pw in con_pws:\n",
    "    pw.columns = ['port_worth']\n",
    "    pw.plot.line(ax=ax, color='r')\n",
    "for bw in con_bws:\n",
    "    bw.columns = ['bench_worth']\n",
    "    bw.plot(ax=ax, color='b')\n",
    "\n",
    "ax.plot()"
   ]
  },
  {
   "cell_type": "code",
   "execution_count": 14,
   "id": "f1783be4",
   "metadata": {
    "ExecuteTime": {
     "end_time": "2022-10-17T12:14:37.915727Z",
     "start_time": "2022-10-17T12:14:37.906224Z"
    }
   },
   "outputs": [],
   "source": [
    "# 宏观因子重要性分析"
   ]
  },
  {
   "cell_type": "code",
   "execution_count": 15,
   "id": "134f9a93",
   "metadata": {
    "ExecuteTime": {
     "end_time": "2022-10-17T12:14:37.936328Z",
     "start_time": "2022-10-17T12:14:37.923204Z"
    }
   },
   "outputs": [
    {
     "data": {
      "text/plain": [
       "['2015-07', '2016-07', '2017-07', '2018-07', '2019-07', '2020-07', '2021-07']"
      ]
     },
     "execution_count": 15,
     "metadata": {},
     "output_type": "execute_result"
    }
   ],
   "source": [
    "keys = list(models_list.keys())\n",
    "keys"
   ]
  },
  {
   "cell_type": "code",
   "execution_count": 16,
   "id": "7384d956",
   "metadata": {
    "ExecuteTime": {
     "end_time": "2022-10-17T12:14:37.960583Z",
     "start_time": "2022-10-17T12:14:37.942081Z"
    }
   },
   "outputs": [
    {
     "data": {
      "text/plain": [
       "'期货结算价(连续):WTI原油'"
      ]
     },
     "execution_count": 16,
     "metadata": {},
     "output_type": "execute_result"
    }
   ],
   "source": [
    "from utils_eda import get_ori_id, get_info, get_ori_name\n",
    "asset_num = 9\n",
    "asset_id = get_ori_id(y.columns[asset_num])\n",
    "asset_name = get_ori_name(asset_id, get_info())\n",
    "asset_name"
   ]
  },
  {
   "cell_type": "code",
   "execution_count": 17,
   "id": "4430d3b0",
   "metadata": {
    "ExecuteTime": {
     "end_time": "2022-10-17T12:14:39.392539Z",
     "start_time": "2022-10-17T12:14:37.963500Z"
    }
   },
   "outputs": [
    {
     "ename": "AttributeError",
     "evalue": "'LinearSVC' object has no attribute 'feature_importances_'",
     "output_type": "error",
     "traceback": [
      "\u001b[0;31m---------------------------------------------------------------------------\u001b[0m",
      "\u001b[0;31mAttributeError\u001b[0m                            Traceback (most recent call last)",
      "Input \u001b[0;32mIn [17]\u001b[0m, in \u001b[0;36m<cell line: 1>\u001b[0;34m()\u001b[0m\n\u001b[0;32m----> 1\u001b[0m values\u001b[38;5;241m=\u001b[39m\u001b[43mmodels_list\u001b[49m\u001b[43m[\u001b[49m\u001b[43mkeys\u001b[49m\u001b[43m[\u001b[49m\u001b[38;5;241;43m0\u001b[39;49m\u001b[43m]\u001b[49m\u001b[43m]\u001b[49m\u001b[43m[\u001b[49m\u001b[43masset_num\u001b[49m\u001b[43m]\u001b[49m\u001b[43m[\u001b[49m\u001b[38;5;241;43m-\u001b[39;49m\u001b[38;5;241;43m1\u001b[39;49m\u001b[43m]\u001b[49m\u001b[43m[\u001b[49m\u001b[38;5;241;43m-\u001b[39;49m\u001b[38;5;241;43m1\u001b[39;49m\u001b[43m]\u001b[49m\u001b[38;5;241;43m.\u001b[39;49m\u001b[43mfeature_importances_\u001b[49m\n\u001b[1;32m      2\u001b[0m \u001b[38;5;28mprint\u001b[39m(\u001b[38;5;28mlen\u001b[39m(values))\n\u001b[1;32m      3\u001b[0m names\u001b[38;5;241m=\u001b[39mmodels_list[keys[\u001b[38;5;241m0\u001b[39m]][asset_num][:\u001b[38;5;241m-\u001b[39m\u001b[38;5;241m1\u001b[39m]\u001b[38;5;241m.\u001b[39mget_feature_names_out()\n",
      "\u001b[0;31mAttributeError\u001b[0m: 'LinearSVC' object has no attribute 'feature_importances_'"
     ]
    }
   ],
   "source": [
    "values=models_list[keys[0]][asset_num][-1][-1].feature_importances_\n",
    "print(len(values))\n",
    "names=models_list[keys[0]][asset_num][:-1].get_feature_names_out()\n",
    "# names = [names[i].split('__')[-1] for i in range(len(names))]\n",
    "print(len(names))\n",
    "len(set(names))"
   ]
  },
  {
   "cell_type": "code",
   "execution_count": null,
   "id": "b3cbcfbf",
   "metadata": {
    "ExecuteTime": {
     "end_time": "2022-10-17T12:14:39.425071Z",
     "start_time": "2022-10-17T12:14:39.425045Z"
    }
   },
   "outputs": [],
   "source": [
    "# 一些estimator用coef_作为因子重要性\n",
    "# values=models_list['2016-01'][asset_num][-1][-1].coef_\n",
    "# values"
   ]
  },
  {
   "cell_type": "code",
   "execution_count": null,
   "id": "9c145a44",
   "metadata": {
    "ExecuteTime": {
     "end_time": "2022-10-17T12:14:39.427803Z",
     "start_time": "2022-10-17T12:14:39.427776Z"
    }
   },
   "outputs": [],
   "source": [
    "# 查看单个时间段\n",
    "# values=models_list['2018-03'][asset_num][-1][-1].feature_importances_\n",
    "# names=models_list['2018-03'][asset_num][:-1].get_feature_names_out()\n",
    "# names = [names[i].split('__')[-1] for i in range(len(names))]\n",
    "# fea_imp = pd.DataFrame([names, values], index=['names', 'values'])\n",
    "# fea_imp.sort_values(by='values', axis=1, ascending=False)"
   ]
  },
  {
   "cell_type": "code",
   "execution_count": null,
   "id": "f5b59eb3",
   "metadata": {
    "ExecuteTime": {
     "end_time": "2022-10-17T12:14:39.430288Z",
     "start_time": "2022-10-17T12:14:39.430261Z"
    },
    "scrolled": true
   },
   "outputs": [],
   "source": [
    "# 多个时间段整合\n",
    "fi_df = pd.DataFrame(values, index=names, columns=[keys[0]])\n",
    "fi_df = fi_df[~fi_df.index.duplicated()]\n",
    "for i in range(1, len(keys)):\n",
    "    values=models_list[keys[i]][asset_num][-1][-1].feature_importances_\n",
    "    names=models_list[keys[i]][asset_num][:-1].get_feature_names_out()\n",
    "    names = [names[i].split('__')[-1] for i in range(len(names))]\n",
    "    fi = pd.DataFrame(values, index=names, columns=[keys[i]])\n",
    "    fi = fi[~fi.index.duplicated()]\n",
    "    fi_df = pd.concat([fi_df, fi], axis=1)\n",
    "fi_df"
   ]
  },
  {
   "cell_type": "code",
   "execution_count": null,
   "id": "16757bd0",
   "metadata": {
    "ExecuteTime": {
     "end_time": "2022-10-17T12:14:39.433030Z",
     "start_time": "2022-10-17T12:14:39.433002Z"
    }
   },
   "outputs": [],
   "source": [
    "# 统计各指标在不同时期出现次数、重要性加和再排序\n",
    "fi_df.apply(lambda x: x.sum(), axis=1).sort_values(ascending=False)[:10]"
   ]
  },
  {
   "cell_type": "code",
   "execution_count": null,
   "id": "a35e060d",
   "metadata": {
    "ExecuteTime": {
     "end_time": "2022-10-17T12:14:39.435154Z",
     "start_time": "2022-10-17T12:14:39.435126Z"
    }
   },
   "outputs": [],
   "source": [
    "fi_df.count(axis=1).sort_values(ascending=False)"
   ]
  },
  {
   "cell_type": "code",
   "execution_count": null,
   "id": "b03fb43c",
   "metadata": {
    "ExecuteTime": {
     "end_time": "2022-10-17T12:14:39.437402Z",
     "start_time": "2022-10-17T12:14:39.437376Z"
    }
   },
   "outputs": [],
   "source": [
    "# 仓位分析\n",
    "# 怎么又是熟悉的bug。pycahrm里是没问题的。\n",
    "# 重新run一遍test，再跑。\n",
    "# sb notebook的问题"
   ]
  },
  {
   "cell_type": "code",
   "execution_count": null,
   "id": "8cc8e8c4",
   "metadata": {
    "ExecuteTime": {
     "end_time": "2022-10-17T12:14:39.439941Z",
     "start_time": "2022-10-17T12:14:39.439917Z"
    }
   },
   "outputs": [],
   "source": [
    "port_positions = [utils_eda.trans_columns_name(i) for i in port_poss]"
   ]
  },
  {
   "cell_type": "code",
   "execution_count": null,
   "id": "432ad3a3",
   "metadata": {
    "ExecuteTime": {
     "end_time": "2022-10-17T12:14:39.442031Z",
     "start_time": "2022-10-17T12:14:39.442010Z"
    },
    "scrolled": false
   },
   "outputs": [],
   "source": [
    "for i in range(len(port_poss)):\n",
    "    port_positions[i].plot(kind='area',figsize=(15, 8))"
   ]
  }
 ],
 "metadata": {
  "kernelspec": {
   "display_name": "Python 3 (ipykernel)",
   "language": "python",
   "name": "python3"
  },
  "language_info": {
   "codemirror_mode": {
    "name": "ipython",
    "version": 3
   },
   "file_extension": ".py",
   "mimetype": "text/x-python",
   "name": "python",
   "nbconvert_exporter": "python",
   "pygments_lexer": "ipython3",
   "version": "3.9.13"
  },
  "varInspector": {
   "cols": {
    "lenName": 16,
    "lenType": 16,
    "lenVar": "80"
   },
   "kernels_config": {
    "python": {
     "delete_cmd_postfix": "",
     "delete_cmd_prefix": "del ",
     "library": "var_list.py",
     "varRefreshCmd": "print(var_dic_list())"
    },
    "r": {
     "delete_cmd_postfix": ") ",
     "delete_cmd_prefix": "rm(",
     "library": "var_list.r",
     "varRefreshCmd": "cat(var_dic_list()) "
    }
   },
   "oldHeight": 438,
   "position": {
    "height": "40px",
    "left": "715px",
    "right": "20px",
    "top": "59px",
    "width": "486px"
   },
   "types_to_exclude": [
    "module",
    "function",
    "builtin_function_or_method",
    "instance",
    "_Feature"
   ],
   "varInspector_section_display": "none",
   "window_display": true
  }
 },
 "nbformat": 4,
 "nbformat_minor": 5
}
